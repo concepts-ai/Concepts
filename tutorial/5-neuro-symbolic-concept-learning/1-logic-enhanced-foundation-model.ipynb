{
 "cells": [
  {
   "attachments": {},
   "cell_type": "markdown",
   "metadata": {},
   "source": [
    "# Tutorial 5.1: Logic-Enhanced Foundation Models (LEFT)\n",
    "\n",
    "LEFT is a unified concept learning and reasoning framework that flexibly learns concepts across domains and reasons across unseen tasks.\n",
    "This notebook demonstrates how to use LEFT to learn and reason about simple shapes in 2D images, with a very small amount of code."
   ]
  },
  {
   "cell_type": "code",
   "execution_count": 1,
   "metadata": {},
   "outputs": [],
   "source": [
    "import torch\n",
    "import jacinle\n",
    "import numpy as np\n",
    "import torch.nn as nn\n",
    "import jactorch\n",
    "\n",
    "from typing import Optional, Union, List, Dict\n",
    "from jacinle.config.environ_v2 import configs, set_configs\n",
    "from left.domain import create_domain_from_parsing\n",
    "from left.models.model import LeftModel\n"
   ]
  },
  {
   "attachments": {},
   "cell_type": "markdown",
   "metadata": {},
   "source": [
    "### Step 1: Load the simple shapes dataset."
   ]
  },
  {
   "cell_type": "code",
   "execution_count": 2,
   "metadata": {},
   "outputs": [
    {
     "data": {
      "image/png": "[encoded data removed]",
      "text/plain": [
       "<Figure size 1296x288 with 6 Axes>"
      ]
     },
     "metadata": {
      "needs_background": "light"
     },
     "output_type": "display_data"
    }
   ],
   "source": [
    "from concepts.benchmark.vision_language.shapes3.dataset import Shapes3Dataset\n",
    "train_dataset = Shapes3Dataset(dataset_size=1024)  # create a dataset with 1024 samples\n",
    "test_dataset = Shapes3Dataset(dataset_size=128)  # create a dataset with 128 samples for testing\n",
    "\n",
    "# Now let's visualize a few samples from the dataset:\n",
    "import matplotlib.pyplot as plt\n",
    "\n",
    "plt.figure(figsize=(18, 4))\n",
    "for i in range(6):\n",
    "    plt.subplot(2, 3, i + 1)\n",
    "    plt.imshow(train_dataset[i]['image'].permute(1, 2, 0).numpy()[..., ::-1] * 0.5 + 0.5)\n",
    "    plt.title(train_dataset[i]['question'] + ': ' + str(train_dataset[i]['answer']))\n",
    "plt.tight_layout()\n",
    "plt.show()"
   ]
  },
  {
   "attachments": {},
   "cell_type": "markdown",
   "metadata": {},
   "source": [
    "### Step 2: Create the model.\n",
    "\n",
    "Each model in LEFT is composed of:\n",
    "\n",
    "- a visual feature extract that maps from images to a set of object features and their relational features.\n",
    "- a concept embedding module that can classify objects and their relations into concepts. In this case, we will use a simple linear layer for all concepts.\n",
    "- the program executor that takes a FOL program of the question as input, and generate the answer. This part is shared across all tasks, all domains, all modalities."
   ]
  },
  {
   "cell_type": "code",
   "execution_count": 3,
   "metadata": {},
   "outputs": [],
   "source": [
    "# Create the visual extractor. In this case, we will assume that we know each image is composed of three objects in a row.\n",
    "# In general, we can use object detectors to extract the objects from the image.\n",
    "# For each object, we will extract a 64-dimensional feature vector using a simple CNN.\n",
    "# For each pair of objects, we will extract another 64-dimensional feature vector,\n",
    "#   by using a simple lienar mapping from the concatenation of the two object features and their positional embeddings.\n",
    "\n",
    "class ObjectCentricShapeEmbedding(nn.Module):\n",
    "    def __init__(self):\n",
    "        super().__init__()\n",
    "        self.lenet = nn.Sequential(           # input is 1x32x32\n",
    "            nn.Conv2d(3, 32, 5), nn.ReLU(),   # conv1: 32x28x28\n",
    "            nn.MaxPool2d(2, 2),               # pool1: 32x14x14\n",
    "            nn.Conv2d(32, 32, 5), nn.ReLU(),  # conv2: 32x10x10\n",
    "            nn.MaxPool2d(2, 2),               # pool2: 32x5x5\n",
    "        )\n",
    "        self.fc = nn.Sequential(nn.Linear(32 * 5 * 5, 64), nn.ReLU())\n",
    "        self.position_embedding = nn.Embedding(9, 64)\n",
    "        self.fc2 = nn.Linear(256, 64)\n",
    "\n",
    "    def forward(self, img):\n",
    "        obj = self.forward_object(img)\n",
    "        rel = self.forward_relation(obj)\n",
    "        return obj, rel  # obj: [B, 3, 64], rel: [B, 3, 3, 64]\n",
    "\n",
    "    def forward_object(self, img):\n",
    "        # img = B, 3, 30, 30\n",
    "        b = img.size(0)\n",
    "        img = img.reshape((b, 3, 1, 32, 3, 32)).permute((0, 2, 4, 1, 3, 5)).reshape((b * 3, 3, 32, 32))\n",
    "        img = self.lenet(img)\n",
    "        img = img.reshape((b, 3, 32 * 25))\n",
    "        img = self.fc(img)\n",
    "        return img\n",
    "\n",
    "    def forward_relation(self, object_feat):\n",
    "        nr_objects = 3\n",
    "        position_feature = torch.arange(nr_objects, dtype=torch.int64, device=object_feat.device)\n",
    "        position_feature = self.position_embedding(position_feature)\n",
    "        position_feature = position_feature.unsqueeze(0).expand(object_feat.size(0), nr_objects, 64)\n",
    "        feature = torch.cat([object_feat, position_feature], dim=-1)\n",
    "\n",
    "        feature1 = feature.unsqueeze(1).expand(feature.size(0), nr_objects, nr_objects, 128)\n",
    "        feature2 = feature.unsqueeze(2).expand(feature.size(0), nr_objects, nr_objects, 128)\n",
    "        feature = torch.cat([feature1, feature2], dim=-1)\n",
    "\n",
    "        feature = self.fc2(feature)\n",
    "        return feature"
   ]
  },
  {
   "cell_type": "code",
   "execution_count": 4,
   "metadata": {},
   "outputs": [],
   "source": [
    "# Create a main model. You just need to implement the object-centric feature extractor, and a few other lines of code to processs each question in the batch.\n",
    "\n",
    "with set_configs():\n",
    "    configs.model.domain = 'shapes3'            # set to the name of the dataset\n",
    "    configs.model.scene_graph = None            # set to the identifier of the scene graph extractor. In this case we will use our own implementation.\n",
    "    configs.model.concept_embedding = 'linear'  # set to the identifier of the concept embedding. In this case we will use a simple linear mapping.\n",
    "    configs.model.sg_dims = [None, 64, 64, 64]  # set to the dimensions of the object and relation features. In this case we will use 64-dimensional features for all of them.\n",
    "\n",
    "\n",
    "class SimpleShapesModel(LeftModel):\n",
    "    def __init__(self, domain, parses: Dict[str, Union[str, List[str]]], output_vocab):\n",
    "        super().__init__(domain, output_vocab)\n",
    "\n",
    "        self.parses = parses\n",
    "        self.scene_graph = ObjectCentricShapeEmbedding()\n",
    "\n",
    "    def forward(self, feed_dict):\n",
    "        feed_dict = jacinle.GView(feed_dict)\n",
    "        monitors, outputs = {}, {}\n",
    "\n",
    "        f_sng = self.forward_sng(feed_dict)\n",
    "        for i in range(len(feed_dict.question)):\n",
    "            grounding = self.grounding_cls(f_sng[i], self, self.training, apply_relation_mask=True)\n",
    "            question = feed_dict.question[i]\n",
    "            raw_parsing = self.parses[question]\n",
    "            raw_parsing = raw_parsing[0] if isinstance(raw_parsing, list) else raw_parsing\n",
    "            # This will write to outputs['executions']\n",
    "            self.execute_program_from_parsing_string(question, raw_parsing, grounding, outputs)\n",
    "\n",
    "        update_from_loss_module(monitors, outputs, self.qa_loss(outputs['executions'], feed_dict.answer, question_types=['bool' for _ in outputs['executions']]))\n",
    "\n",
    "        if self.training:\n",
    "            loss = monitors['loss/qa']\n",
    "            return loss, monitors, outputs\n",
    "        else:\n",
    "            outputs['monitors'] = monitors\n",
    "            return outputs\n",
    "\n",
    "    def forward_sng(self, feed_dict):\n",
    "        object_features, relation_features = self.scene_graph(feed_dict.image)\n",
    "        all_scene_features = [{'attribute': object_features[i], 'relation': relation_features[i]} for i in range(len(object_features))]\n",
    "        return all_scene_features\n",
    "\n",
    "\n",
    "def update_from_loss_module(monitors, output_dict, loss_update):\n",
    "    tmp_monitors, tmp_outputs = loss_update\n",
    "    monitors.update(tmp_monitors)\n",
    "    output_dict.update(tmp_outputs)"
   ]
  },
  {
   "attachments": {},
   "cell_type": "markdown",
   "metadata": {},
   "source": [
    "### Step 3: Training and evaluation."
   ]
  },
  {
   "cell_type": "code",
   "execution_count": 5,
   "metadata": {},
   "outputs": [
    {
     "name": "stdout",
     "output_type": "stream",
     "text": [
      "Is there a red object?\n",
      "exists(Object, lambda x: red(x))\n",
      "Is there a red object?\n",
      "exists(Object, lambda x: red(x))\n",
      "Is there a triangle to the left of a triangle?\n",
      "exists(Object, lambda x: exists(Object, lambda y: triangle(x) and left(x, y) and triangle(y)))\n",
      "Is there a triangle?\n",
      "exists(Object, lambda x: triangle(x))\n",
      "Is there a red object?\n",
      "exists(Object, lambda x: red(x))\n",
      "Is there a triangle?\n",
      "exists(Object, lambda x: triangle(x))\n"
     ]
    }
   ],
   "source": [
    "language_to_program = {train_dataset[i]['question']: train_dataset[i]['program'] for i in range(len(train_dataset))}\n",
    "language_to_program.update({test_dataset[i]['question']: test_dataset[i]['program'] for i in range(len(test_dataset))})\n",
    "\n",
    "# In this example code, we will not be running GPT to parse the questions. Instead, we just use the groundtruth programs that come with the dataset.\n",
    "# What you need is simple a dictionary that maps each question to its program.\n",
    "# Visualize the first 6 questions and their programs.\n",
    "\n",
    "for i in range(6):\n",
    "    question = train_dataset[i]['question']\n",
    "    print(question)\n",
    "    print(language_to_program[question])"
   ]
  },
  {
   "cell_type": "code",
   "execution_count": 6,
   "metadata": {},
   "outputs": [
    {
     "name": "stderr",
     "output_type": "stream",
     "text": [
      "Creating domain from parsings: 100%|##########| 78/78 [00:00<00:00, 13525.54it/s]\n"
     ]
    }
   ],
   "source": [
    "# Create a domain using all the parsed programs. It will automatically extract all concepts and relations from the programs.\n",
    "domain = create_domain_from_parsing(language_to_program)"
   ]
  },
  {
   "cell_type": "code",
   "execution_count": 7,
   "metadata": {},
   "outputs": [
    {
     "name": "stdout",
     "output_type": "stream",
     "text": [
      "TypeSystem: Left\n",
      "  Types:\n",
      "    Object\n",
      "    Object_Set\n",
      "    Action\n",
      "  Constants:\n",
      "  Functions:\n",
      "    equal(#0: int64, #1: int64) -> bool\n",
      "    greater_than(#0: int64, #1: int64) -> bool\n",
      "    less_than(#0: int64, #1: int64) -> bool\n",
      "    red_Object(#0: Object) -> bool\n",
      "    triangle_Object(#0: Object) -> bool\n",
      "    left_Object_Object(#0: Object, #1: Object) -> bool\n",
      "    circle_Object(#0: Object) -> bool\n",
      "    right_Object_Object(#0: Object, #1: Object) -> bool\n",
      "    rectangle_Object(#0: Object) -> bool\n",
      "    blue_Object(#0: Object) -> bool\n",
      "    green_Object(#0: Object) -> bool\n"
     ]
    }
   ],
   "source": [
    "# Visualize the domain. You can see that it has extracted all the concepts and relations from the programs.\n",
    "domain.print_summary()"
   ]
  },
  {
   "cell_type": "code",
   "execution_count": 8,
   "metadata": {},
   "outputs": [
    {
     "name": "stderr",
     "output_type": "stream",
     "text": [
      "Creating domain from parsings: 100%|##########| 78/78 [00:00<00:00, 16752.30it/s]\n",
      "\u001b[32m18 11:12:02 \u001b[0mFunction equal automatically registered.\n",
      "\u001b[32m18 11:12:02 \u001b[0mFunction greater_than automatically registered.\n",
      "\u001b[32m18 11:12:02 \u001b[0mFunction less_than automatically registered.\n"
     ]
    },
    {
     "name": "stdout",
     "output_type": "stream",
     "text": [
      "TypeSystem: Left\n",
      "  Types:\n",
      "    Object\n",
      "    Object_Set\n",
      "    Action\n",
      "  Constants:\n",
      "  Functions:\n",
      "    equal(#0: int64, #1: int64) -> bool\n",
      "    greater_than(#0: int64, #1: int64) -> bool\n",
      "    less_than(#0: int64, #1: int64) -> bool\n",
      "    red_Object(#0: Object) -> bool\n",
      "    triangle_Object(#0: Object) -> bool\n",
      "    left_Object_Object(#0: Object, #1: Object) -> bool\n",
      "    circle_Object(#0: Object) -> bool\n",
      "    right_Object_Object(#0: Object, #1: Object) -> bool\n",
      "    rectangle_Object(#0: Object) -> bool\n",
      "    blue_Object(#0: Object) -> bool\n",
      "    green_Object(#0: Object) -> bool\n"
     ]
    },
    {
     "name": "stderr",
     "output_type": "stream",
     "text": [
      "Epoch 1 acc/qa=0.648438 acc/qa/bool=0.648438 acc/qa_succ_exec=0.648438 acc/success_exec=1.000000 loss/qa=0.563973: 100%|##########| 64/64 [00:07<00:00,  8.16it/s]\n",
      "Epoch 1 (test) acc/qa=0.726562 acc/qa/bool=0.726562 acc/qa_succ_exec=0.726562 acc/success_exec=1.000000: 100%|##########| 8/8 [00:00<00:00, 56.01it/s]\n"
     ]
    },
    {
     "name": "stdout",
     "output_type": "stream",
     "text": [
      "Epoch 1 (test)\n",
      "  acc/qa = 0.726562\n",
      "  acc/qa/bool = 0.726562\n",
      "  acc/qa_succ_exec = 0.726562\n",
      "  acc/success_exec = 1.000000\n"
     ]
    },
    {
     "name": "stderr",
     "output_type": "stream",
     "text": [
      "Epoch 2 acc/qa=0.775391 acc/qa/bool=0.775391 acc/qa_succ_exec=0.775391 acc/success_exec=1.000000 loss/qa=0.419515: 100%|##########| 64/64 [00:07<00:00,  8.27it/s]\n",
      "Epoch 2 (test) acc/qa=0.812500 acc/qa/bool=0.812500 acc/qa_succ_exec=0.812500 acc/success_exec=1.000000: 100%|##########| 8/8 [00:00<00:00, 38.67it/s]\n"
     ]
    },
    {
     "name": "stdout",
     "output_type": "stream",
     "text": [
      "Epoch 2 (test)\n",
      "  acc/qa = 0.812500\n",
      "  acc/qa/bool = 0.812500\n",
      "  acc/qa_succ_exec = 0.812500\n",
      "  acc/success_exec = 1.000000\n"
     ]
    },
    {
     "name": "stderr",
     "output_type": "stream",
     "text": [
      "Epoch 3 acc/qa=0.834961 acc/qa/bool=0.834961 acc/qa_succ_exec=0.834961 acc/success_exec=1.000000 loss/qa=0.332786: 100%|##########| 64/64 [00:06<00:00,  9.79it/s]\n",
      "Epoch 3 (test) acc/qa=0.859375 acc/qa/bool=0.859375 acc/qa_succ_exec=0.859375 acc/success_exec=1.000000: 100%|##########| 8/8 [00:00<00:00, 60.29it/s]\n"
     ]
    },
    {
     "name": "stdout",
     "output_type": "stream",
     "text": [
      "Epoch 3 (test)\n",
      "  acc/qa = 0.859375\n",
      "  acc/qa/bool = 0.859375\n",
      "  acc/qa_succ_exec = 0.859375\n",
      "  acc/success_exec = 1.000000\n"
     ]
    },
    {
     "name": "stderr",
     "output_type": "stream",
     "text": [
      "Epoch 4 acc/qa=0.856445 acc/qa/bool=0.856445 acc/qa_succ_exec=0.856445 acc/success_exec=1.000000 loss/qa=0.275649: 100%|##########| 64/64 [00:05<00:00, 12.08it/s]\n",
      "Epoch 4 (test) acc/qa=0.875000 acc/qa/bool=0.875000 acc/qa_succ_exec=0.875000 acc/success_exec=1.000000: 100%|##########| 8/8 [00:00<00:00, 45.09it/s]\n"
     ]
    },
    {
     "name": "stdout",
     "output_type": "stream",
     "text": [
      "Epoch 4 (test)\n",
      "  acc/qa = 0.875000\n",
      "  acc/qa/bool = 0.875000\n",
      "  acc/qa_succ_exec = 0.875000\n",
      "  acc/success_exec = 1.000000\n"
     ]
    },
    {
     "name": "stderr",
     "output_type": "stream",
     "text": [
      "Epoch 5 acc/qa=0.927734 acc/qa/bool=0.927734 acc/qa_succ_exec=0.927734 acc/success_exec=1.000000 loss/qa=0.192131: 100%|##########| 64/64 [00:05<00:00, 12.63it/s]\n",
      "Epoch 5 (test) acc/qa=0.992188 acc/qa/bool=0.992188 acc/qa_succ_exec=0.992188 acc/success_exec=1.000000: 100%|##########| 8/8 [00:00<00:00, 67.29it/s]\n"
     ]
    },
    {
     "name": "stdout",
     "output_type": "stream",
     "text": [
      "Epoch 5 (test)\n",
      "  acc/qa = 0.992188\n",
      "  acc/qa/bool = 0.992188\n",
      "  acc/qa_succ_exec = 0.992188\n",
      "  acc/success_exec = 1.000000\n"
     ]
    },
    {
     "name": "stderr",
     "output_type": "stream",
     "text": [
      "Epoch 6 acc/qa=0.985352 acc/qa/bool=0.985352 acc/qa_succ_exec=0.985352 acc/success_exec=1.000000 loss/qa=0.087134: 100%|##########| 64/64 [00:05<00:00, 11.10it/s]\n",
      "Epoch 6 (test) acc/qa=0.953125 acc/qa/bool=0.953125 acc/qa_succ_exec=0.953125 acc/success_exec=1.000000: 100%|##########| 8/8 [00:00<00:00, 57.58it/s]\n"
     ]
    },
    {
     "name": "stdout",
     "output_type": "stream",
     "text": [
      "Epoch 6 (test)\n",
      "  acc/qa = 0.953125\n",
      "  acc/qa/bool = 0.953125\n",
      "  acc/qa_succ_exec = 0.953125\n",
      "  acc/success_exec = 1.000000\n"
     ]
    },
    {
     "name": "stderr",
     "output_type": "stream",
     "text": [
      "Epoch 7 acc/qa=0.983398 acc/qa/bool=0.983398 acc/qa_succ_exec=0.983398 acc/success_exec=1.000000 loss/qa=0.076611: 100%|##########| 64/64 [00:07<00:00,  8.69it/s]\n",
      "Epoch 7 (test) acc/qa=0.992188 acc/qa/bool=0.992188 acc/qa_succ_exec=0.992188 acc/success_exec=1.000000: 100%|##########| 8/8 [00:00<00:00, 47.24it/s]\n"
     ]
    },
    {
     "name": "stdout",
     "output_type": "stream",
     "text": [
      "Epoch 7 (test)\n",
      "  acc/qa = 0.992188\n",
      "  acc/qa/bool = 0.992188\n",
      "  acc/qa_succ_exec = 0.992188\n",
      "  acc/success_exec = 1.000000\n"
     ]
    },
    {
     "name": "stderr",
     "output_type": "stream",
     "text": [
      "Epoch 8 acc/qa=0.982422 acc/qa/bool=0.982422 acc/qa_succ_exec=0.982422 acc/success_exec=1.000000 loss/qa=0.075972: 100%|##########| 64/64 [00:07<00:00,  9.00it/s]\n",
      "Epoch 8 (test) acc/qa=0.992188 acc/qa/bool=0.992188 acc/qa_succ_exec=0.992188 acc/success_exec=1.000000: 100%|##########| 8/8 [00:00<00:00, 52.84it/s]"
     ]
    },
    {
     "name": "stdout",
     "output_type": "stream",
     "text": [
      "Epoch 8 (test)\n",
      "  acc/qa = 0.992188\n",
      "  acc/qa/bool = 0.992188\n",
      "  acc/qa_succ_exec = 0.992188\n",
      "  acc/success_exec = 1.000000\n"
     ]
    },
    {
     "name": "stderr",
     "output_type": "stream",
     "text": [
      "\n"
     ]
    }
   ],
   "source": [
    "# Define a helper function to update the meters.\n",
    "def update_meters(meters, monitors, prefix: Optional[str] = None):\n",
    "    for k in list(monitors.keys()):\n",
    "        if k + '/n' in monitors:\n",
    "            meters.update({k: monitors[k]}, n=monitors[k + '/n'], prefix=prefix)\n",
    "            del monitors[k]\n",
    "            del monitors[k + '/n']\n",
    "\n",
    "    meters.update(monitors, prefix=prefix)\n",
    "\n",
    "# Build the model.\n",
    "model = SimpleShapesModel(domain, language_to_program, output_vocab=None)  # output vocab is not used (Boolean only)\n",
    "\n",
    "# Build the optimizer.\n",
    "optimizer = torch.optim.AdamW(model.parameters(), lr=3e-3)\n",
    "group_meters = jacinle.GroupMeters()\n",
    "\n",
    "nr_epochs = 8\n",
    "for i in range(1, nr_epochs + 1):\n",
    "    dataloader = train_dataset.make_dataloader(batch_size=16, shuffle=True, drop_last=True, nr_workers=0)\n",
    "    model.train()\n",
    "    group_meters.reset()\n",
    "    for data in jacinle.tqdm(dataloader, total=len(dataloader), desc='Epoch {}'.format(i)):\n",
    "        loss, monitors, outputs = model(data)\n",
    "        optimizer.zero_grad()\n",
    "        loss.backward()\n",
    "        optimizer.step()\n",
    "\n",
    "        update_meters(group_meters, {k: float(v) for k, v in monitors.items()})\n",
    "        jacinle.get_current_tqdm().set_description(group_meters.format_simple(f'Epoch {i}', compressed=True))\n",
    "\n",
    "    # print(group_meters.format_simple(f'Epoch {i}', compressed=False))\n",
    "\n",
    "    dataloader = test_dataset.make_dataloader(batch_size=16, shuffle=False, drop_last=False, nr_workers=0)\n",
    "    model.eval()\n",
    "    group_meters.reset()\n",
    "    with torch.no_grad():\n",
    "        for data in jacinle.tqdm(dataloader, total=len(dataloader), desc='Epoch {} (test)'.format(i)):\n",
    "            outputs = model(data)\n",
    "            update_meters(group_meters, {k: float(v) for k, v in outputs['monitors'].items()})\n",
    "            jacinle.get_current_tqdm().set_description(group_meters.format_simple(f'Epoch {i} (test)', compressed=True))\n",
    "\n",
    "    print(group_meters.format_simple(f'Epoch {i} (test)', compressed=False))"
   ]
  },
  {
   "attachments": {},
   "cell_type": "markdown",
   "metadata": {},
   "source": [
    "### Step 4: Visualize the results."
   ]
  },
  {
   "cell_type": "code",
   "execution_count": 9,
   "metadata": {},
   "outputs": [
    {
     "data": {
      "image/png": "[encoded data removed]",
      "text/plain": [
       "<Figure size 360x720 with 5 Axes>"
      ]
     },
     "metadata": {
      "needs_background": "light"
     },
     "output_type": "display_data"
    }
   ],
   "source": [
    "model.eval()\n",
    "\n",
    "def get_answer(model, image: torch.Tensor, question: str):\n",
    "    with torch.no_grad():\n",
    "        outputs = model({'image': image.unsqueeze(0), 'question': [question], 'answer': [None]})\n",
    "    return outputs['pred_answers'][0]\n",
    "\n",
    "\n",
    "plt.figure(figsize=(5, 10))\n",
    "for i in range(5):\n",
    "    plt.subplot(5, 1, i + 1)\n",
    "    image, question, answer = test_dataset[i]['image'], test_dataset[i]['question'], test_dataset[i]['answer']\n",
    "    answer = 'yes' if answer else 'no'\n",
    "    pred_answer = get_answer(model, image, question)\n",
    "    plt.imshow(image.permute(1, 2, 0).numpy()[..., ::-1] * 0.5 + 0.5)\n",
    "    plt.title(f'Q: {question}\\nA: {answer}    P: {pred_answer}')\n",
    "    plt.axis('off')\n",
    "\n",
    "plt.tight_layout()\n",
    "plt.show()"
   ]
  }
 ],
 "metadata": {
  "kernelspec": {
   "display_name": "pytorch1.10",
   "language": "python",
   "name": "python3"
  },
  "language_info": {
   "codemirror_mode": {
    "name": "ipython",
    "version": 3
   },
   "file_extension": ".py",
   "mimetype": "text/x-python",
   "name": "python",
   "nbconvert_exporter": "python",
   "pygments_lexer": "ipython3",
   "version": "3.9.10"
  },
  "orig_nbformat": 4
 },
 "nbformat": 4,
 "nbformat_minor": 2
}
