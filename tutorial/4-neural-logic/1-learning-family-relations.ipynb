{
 "cells": [
  {
   "cell_type": "markdown",
   "id": "c61bc76d",
   "metadata": {},
   "source": [
    "# Tutorial 4.1: Relational Representations and Inductive Learning"
   ]
  },
  {
   "cell_type": "code",
   "execution_count": 1,
   "id": "33067eec",
   "metadata": {
    "ExecuteTime": {
     "end_time": "2023-07-17T18:37:22.835298Z",
     "start_time": "2023-07-17T18:37:22.321056Z"
    }
   },
   "outputs": [],
   "source": [
    "import jacinle\n",
    "from concepts.benchmark.inductive_reasoning.family import random_generate_family"
   ]
  },
  {
   "cell_type": "code",
   "execution_count": 2,
   "id": "5b21468d",
   "metadata": {
    "ExecuteTime": {
     "end_time": "2023-07-17T18:37:22.837873Z",
     "start_time": "2023-07-17T18:37:22.835488Z"
    }
   },
   "outputs": [],
   "source": [
    "family = random_generate_family(10)"
   ]
  },
  {
   "cell_type": "code",
   "execution_count": 3,
   "id": "1caeef3d",
   "metadata": {
    "ExecuteTime": {
     "end_time": "2023-07-17T18:37:22.840276Z",
     "start_time": "2023-07-17T18:37:22.838145Z"
    }
   },
   "outputs": [
    {
     "name": "stdout",
     "output_type": "stream",
     "text": [
      "np.ndarray(shape=(10, 10), dtype=float64)\n"
     ]
    }
   ],
   "source": [
    "jacinle.stprint(family.father)"
   ]
  },
  {
   "cell_type": "code",
   "execution_count": 4,
   "id": "35eaf3ee",
   "metadata": {
    "ExecuteTime": {
     "end_time": "2023-07-17T18:37:22.844300Z",
     "start_time": "2023-07-17T18:37:22.840832Z"
    }
   },
   "outputs": [
    {
     "name": "stdout",
     "output_type": "stream",
     "text": [
      "np.ndarray(shape=(10, 10), dtype=float64)\n"
     ]
    }
   ],
   "source": [
    "jacinle.stprint(family.mother)"
   ]
  },
  {
   "cell_type": "code",
   "execution_count": 5,
   "id": "f0c79d28",
   "metadata": {
    "ExecuteTime": {
     "end_time": "2023-07-17T18:37:22.848505Z",
     "start_time": "2023-07-17T18:37:22.845137Z"
    }
   },
   "outputs": [
    {
     "name": "stdout",
     "output_type": "stream",
     "text": [
      "np.ndarray(shape=(10, 10), dtype=float64)\n"
     ]
    }
   ],
   "source": [
    "jacinle.stprint(family.get_parents())"
   ]
  },
  {
   "cell_type": "code",
   "execution_count": 6,
   "id": "d0aeeb88",
   "metadata": {
    "ExecuteTime": {
     "end_time": "2023-07-17T18:37:22.891196Z",
     "start_time": "2023-07-17T18:37:22.847452Z"
    }
   },
   "outputs": [],
   "source": [
    "from concepts.benchmark.inductive_reasoning.graph_dataset import FamilyTreeDataset"
   ]
  },
  {
   "cell_type": "code",
   "execution_count": 7,
   "id": "02ebb548",
   "metadata": {
    "ExecuteTime": {
     "end_time": "2023-07-17T18:37:22.900647Z",
     "start_time": "2023-07-17T18:37:22.864854Z"
    }
   },
   "outputs": [],
   "source": [
    "dataset = FamilyTreeDataset(10, epoch_size=8192, task='parents')"
   ]
  },
  {
   "cell_type": "code",
   "execution_count": 8,
   "id": "849082ad",
   "metadata": {
    "ExecuteTime": {
     "end_time": "2023-07-17T18:37:22.900953Z",
     "start_time": "2023-07-17T18:37:22.868915Z"
    }
   },
   "outputs": [
    {
     "data": {
      "text/plain": [
       "<concepts.benchmark.inductive_reasoning.graph_dataset.FamilyTreeDataset at 0x15c75ebb0>"
      ]
     },
     "execution_count": 8,
     "metadata": {},
     "output_type": "execute_result"
    }
   ],
   "source": [
    "dataset"
   ]
  },
  {
   "cell_type": "code",
   "execution_count": 9,
   "id": "7aecebac",
   "metadata": {
    "ExecuteTime": {
     "end_time": "2023-07-17T18:37:22.901042Z",
     "start_time": "2023-07-17T18:37:22.872350Z"
    }
   },
   "outputs": [
    {
     "name": "stdout",
     "output_type": "stream",
     "text": [
      "dict{\n",
      "  n: 5\n",
      "  relations: np.ndarray(shape=(5, 5, 4), dtype=float64)\n",
      "  target: np.ndarray(shape=(5, 5), dtype=float64){[[0. 0. 0. 0. 0.]\n",
      "       [1. 0. 0. 0. 1.]\n",
      "       [0. 0. 0. 0. 0.]\n",
      "       [0. 0. 0. 0. 0.]\n",
      "       [0. 0. 0. 0. 0.]]}\n",
      "}\n"
     ]
    }
   ],
   "source": [
    "jacinle.stprint(dataset[0])"
   ]
  },
  {
   "cell_type": "code",
   "execution_count": 10,
   "id": "39c2124c",
   "metadata": {
    "ExecuteTime": {
     "end_time": "2023-07-17T18:37:22.901150Z",
     "start_time": "2023-07-17T18:37:22.874668Z"
    }
   },
   "outputs": [],
   "source": [
    "from jactorch.data.dataloader import JacDataLoader"
   ]
  },
  {
   "cell_type": "code",
   "execution_count": 11,
   "id": "783ae201",
   "metadata": {
    "ExecuteTime": {
     "end_time": "2023-07-17T18:37:22.901192Z",
     "start_time": "2023-07-17T18:37:22.891355Z"
    }
   },
   "outputs": [],
   "source": [
    "loader = JacDataLoader(dataset, batch_size=1, shuffle=True, drop_last=True)"
   ]
  },
  {
   "cell_type": "code",
   "execution_count": 12,
   "id": "beb77bf3",
   "metadata": {
    "ExecuteTime": {
     "end_time": "2023-07-17T18:37:22.901258Z",
     "start_time": "2023-07-17T18:37:22.892309Z"
    }
   },
   "outputs": [
    {
     "name": "stdout",
     "output_type": "stream",
     "text": [
      "0 torch.Size([1, 6, 6, 4]) torch.Size([1, 6, 6])\n",
      "1 torch.Size([1, 8, 8, 4]) torch.Size([1, 8, 8])\n",
      "2 torch.Size([1, 9, 9, 4]) torch.Size([1, 9, 9])\n",
      "3 torch.Size([1, 9, 9, 4]) torch.Size([1, 9, 9])\n",
      "4 torch.Size([1, 5, 5, 4]) torch.Size([1, 5, 5])\n",
      "5 torch.Size([1, 9, 9, 4]) torch.Size([1, 9, 9])\n",
      "6 torch.Size([1, 8, 8, 4]) torch.Size([1, 8, 8])\n",
      "7 torch.Size([1, 8, 8, 4]) torch.Size([1, 8, 8])\n",
      "8 torch.Size([1, 10, 10, 4]) torch.Size([1, 10, 10])\n",
      "9 torch.Size([1, 8, 8, 4]) torch.Size([1, 8, 8])\n",
      "10 torch.Size([1, 8, 8, 4]) torch.Size([1, 8, 8])\n",
      "11 torch.Size([1, 7, 7, 4]) torch.Size([1, 7, 7])\n",
      "12 torch.Size([1, 10, 10, 4]) torch.Size([1, 10, 10])\n",
      "13 torch.Size([1, 8, 8, 4]) torch.Size([1, 8, 8])\n",
      "14 torch.Size([1, 8, 8, 4]) torch.Size([1, 8, 8])\n",
      "15 torch.Size([1, 10, 10, 4]) torch.Size([1, 10, 10])\n"
     ]
    }
   ],
   "source": [
    "for i, batch in enumerate(loader):\n",
    "    if i >= 16:\n",
    "        break\n",
    "    print(i, batch['relations'].shape, batch['target'].shape)"
   ]
  },
  {
   "cell_type": "code",
   "execution_count": 13,
   "id": "413c61cd",
   "metadata": {
    "ExecuteTime": {
     "end_time": "2023-07-17T18:37:22.901295Z",
     "start_time": "2023-07-17T18:37:22.899037Z"
    }
   },
   "outputs": [],
   "source": [
    "from jactorch.data.collate.collate_v2 import VarLengthCollateV2"
   ]
  },
  {
   "cell_type": "code",
   "execution_count": 14,
   "id": "d005cfdd",
   "metadata": {
    "ExecuteTime": {
     "end_time": "2023-07-17T18:37:22.909354Z",
     "start_time": "2023-07-17T18:37:22.903390Z"
    }
   },
   "outputs": [],
   "source": [
    "loader = JacDataLoader(dataset, batch_size=32, shuffle=True, drop_last=True, collate_fn=VarLengthCollateV2({\n",
    "    'relations': 'pad2d',\n",
    "    'target': 'pad2d'\n",
    "}))\n"
   ]
  },
  {
   "cell_type": "code",
   "execution_count": 15,
   "id": "25802af4",
   "metadata": {
    "ExecuteTime": {
     "end_time": "2023-07-17T18:37:22.959639Z",
     "start_time": "2023-07-17T18:37:22.905652Z"
    }
   },
   "outputs": [
    {
     "name": "stdout",
     "output_type": "stream",
     "text": [
      "0 torch.Size([32, 10, 10, 4]) torch.Size([32, 10, 10])\n",
      "1 torch.Size([32, 10, 10, 4]) torch.Size([32, 10, 10])\n"
     ]
    }
   ],
   "source": [
    "for i, batch in enumerate(loader):\n",
    "    if i >= 2:\n",
    "        break\n",
    "    print(i, batch['relations'].shape, batch['target'].shape)"
   ]
  },
  {
   "cell_type": "code",
   "execution_count": 16,
   "id": "147657aa",
   "metadata": {
    "ExecuteTime": {
     "end_time": "2023-07-17T18:37:22.959924Z",
     "start_time": "2023-07-17T18:37:22.926371Z"
    }
   },
   "outputs": [],
   "source": [
    "import torch.nn as nn\n",
    "import torch.optim as optim\n",
    "from jactorch.nn.neural_logic.layer import NeuralLogicMachine\n",
    "from jactorch.nn.losses.losses import PNBalancedBinaryCrossEntropyLossWithProbs\n",
    "\n",
    "class Model(nn.Module):\n",
    "    def __init__(self):\n",
    "        super().__init__()\n",
    "        self.nlm = NeuralLogicMachine(3, 3, [0, 0, 4, 0], [16, 16, 16, 16], 'mlp', logic_hidden_dim=[], io_residual=True)\n",
    "        self.predict = nn.Linear(self.nlm.output_dims[2], 1)\n",
    "        self.loss = PNBalancedBinaryCrossEntropyLossWithProbs()\n",
    "\n",
    "    def forward(self, feed_dict):\n",
    "        feature = self.nlm([None, None, feed_dict['relations'].float(), None])[2]\n",
    "        pred = self.predict(feature).squeeze(-1).sigmoid()\n",
    "        if self.training:\n",
    "            loss = self.loss(pred, feed_dict['target'].float())\n",
    "            return loss, {'pred': pred}\n",
    "        return {'pred': pred}\n",
    "\n",
    "model = Model()"
   ]
  },
  {
   "cell_type": "code",
   "execution_count": 17,
   "id": "17494e1d",
   "metadata": {
    "ExecuteTime": {
     "end_time": "2023-07-17T18:37:48.617888Z",
     "start_time": "2023-07-17T18:37:22.931223Z"
    }
   },
   "outputs": [
    {
     "name": "stdout",
     "output_type": "stream",
     "text": [
      "0 256 0.7050229907035828\n",
      "50 256 0.5954307913780212\n",
      "100 256 0.18965472280979156\n",
      "150 256 0.04814121127128601\n",
      "200 256 0.023047110065817833\n",
      "250 256 0.013977136462926865\n"
     ]
    }
   ],
   "source": [
    "model.train()\n",
    "optimizer = optim.AdamW(model.parameters(), lr=1e-3)\n",
    "\n",
    "for i, batch in enumerate(loader):\n",
    "    loss, output_dict = model(batch)\n",
    "    optimizer.zero_grad()\n",
    "    loss.backward()\n",
    "    optimizer.step()\n",
    "    if i % 50 == 0:\n",
    "        print(i, len(loader), loss.item())"
   ]
  },
  {
   "cell_type": "code",
   "execution_count": 18,
   "id": "25aa8beb",
   "metadata": {
    "ExecuteTime": {
     "end_time": "2023-07-17T18:37:48.620553Z",
     "start_time": "2023-07-17T18:37:48.618808Z"
    }
   },
   "outputs": [],
   "source": [
    "test_dataset = FamilyTreeDataset(10, epoch_size=1024, task='parents')\n",
    "test_dataloader = JacDataLoader(test_dataset, batch_size=32, shuffle=True, drop_last=True, collate_fn=VarLengthCollateV2({\n",
    "    'relations': 'pad2d',\n",
    "    'target': 'pad2d'\n",
    "}))"
   ]
  },
  {
   "cell_type": "code",
   "execution_count": 19,
   "id": "045eff46",
   "metadata": {
    "ExecuteTime": {
     "end_time": "2023-07-17T18:37:49.816666Z",
     "start_time": "2023-07-17T18:37:48.622084Z"
    }
   },
   "outputs": [
    {
     "name": "stdout",
     "output_type": "stream",
     "text": [
      "0 32 {'accuracy': 1.0}\n",
      "1 32 {'accuracy': 1.0}\n",
      "2 32 {'accuracy': 1.0}\n",
      "3 32 {'accuracy': 1.0}\n",
      "4 32 {'accuracy': 1.0}\n",
      "5 32 {'accuracy': 1.0}\n",
      "6 32 {'accuracy': 1.0}\n",
      "7 32 {'accuracy': 1.0}\n",
      "8 32 {'accuracy': 1.0}\n",
      "9 32 {'accuracy': 1.0}\n",
      "10 32 {'accuracy': 1.0}\n",
      "11 32 {'accuracy': 1.0}\n",
      "12 32 {'accuracy': 1.0}\n",
      "13 32 {'accuracy': 1.0}\n",
      "14 32 {'accuracy': 1.0}\n",
      "15 32 {'accuracy': 1.0}\n",
      "16 32 {'accuracy': 1.0}\n",
      "17 32 {'accuracy': 1.0}\n",
      "18 32 {'accuracy': 1.0}\n",
      "19 32 {'accuracy': 1.0}\n",
      "20 32 {'accuracy': 1.0}\n",
      "21 32 {'accuracy': 1.0}\n",
      "22 32 {'accuracy': 1.0}\n",
      "23 32 {'accuracy': 1.0}\n",
      "24 32 {'accuracy': 1.0}\n",
      "25 32 {'accuracy': 1.0}\n",
      "26 32 {'accuracy': 1.0}\n",
      "27 32 {'accuracy': 1.0}\n",
      "28 32 {'accuracy': 1.0}\n",
      "29 32 {'accuracy': 1.0}\n",
      "30 32 {'accuracy': 1.0}\n",
      "31 32 {'accuracy': 1.0}\n"
     ]
    }
   ],
   "source": [
    "from jactorch.train.monitor import binary_classification_accuracy\n",
    "model.eval()\n",
    "\n",
    "for i, batch in enumerate(test_dataloader):\n",
    "    output_dict = model(batch)\n",
    "    accuracy = binary_classification_accuracy(output_dict['pred'], batch['target'], saturation=False)\n",
    "    print(i, len(test_dataloader), accuracy)"
   ]
  }
 ],
 "metadata": {
  "kernelspec": {
   "display_name": "Python 3 (ipykernel)",
   "language": "python",
   "name": "python3"
  },
  "language_info": {
   "codemirror_mode": {
    "name": "ipython",
    "version": 3
   },
   "file_extension": ".py",
   "mimetype": "text/x-python",
   "name": "python",
   "nbconvert_exporter": "python",
   "pygments_lexer": "ipython3",
   "version": "3.9.10"
  }
 },
 "nbformat": 4,
 "nbformat_minor": 5
}
