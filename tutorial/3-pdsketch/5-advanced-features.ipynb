{
 "cells": [
  {
   "cell_type": "markdown",
   "id": "f8a4acc3",
   "metadata": {},
   "source": [
    "# Tutorial 3.5: Advanced Features in PDSketch"
   ]
  },
  {
   "cell_type": "markdown",
   "id": "21cd6436",
   "metadata": {},
   "source": [
    "### Part 1: Using PyObjValueType\n",
    "\n",
    "PDSketch supports customized object types for object features. Meanwhile, they can also be inputs to functions and return values. Internally, they will be represented as integer values, indicating their index in `executor.py_obj_store`. However, this feature is very expensive, because it the `py_obj_store` needs to keep track of all intermediate values (no GC works for it). So we do not recommend using this feature for now."
   ]
  },
  {
   "cell_type": "code",
   "execution_count": 1,
   "id": "c1e64bcc",
   "metadata": {},
   "outputs": [],
   "source": [
    "from typing import List\n",
    "\n",
    "import concepts.pdsketch as pds"
   ]
  },
  {
   "cell_type": "code",
   "execution_count": 2,
   "id": "91e5dc6a",
   "metadata": {},
   "outputs": [],
   "source": [
    "DOMAIN_STRING = \"\"\"\n",
    "(define (domain test)\n",
    "    (:requirements :pdsketch-v3)\n",
    "    (:types\n",
    "        item - object\n",
    "        pose - pyobject\n",
    "        traj - pyobject\n",
    "    )\n",
    "    (:predicates\n",
    "        (pose-of [return_type=pose] ?item - item)\n",
    "        (traj-spose [return_type = pose] ?traj - traj)\n",
    "        (traj-epose [return_type = pose] ?traj - traj)\n",
    "    )\n",
    "\n",
    "    (:action move\n",
    "        :parameters (?item - item ?spose - pose ?epose - pose ?traj - traj)\n",
    "        :precondition (and\n",
    "            (equal (pose-of ?item) ?spose)\n",
    "            (equal (traj-spose ?traj) ?spose)\n",
    "            (equal (traj-epose ?traj) ?epose)\n",
    "        )\n",
    "        :effect (and\n",
    "            (assign (pose-of ?item) ?epose)\n",
    "        )\n",
    "    )\n",
    ")\n",
    "\"\"\""
   ]
  },
  {
   "cell_type": "code",
   "execution_count": 3,
   "id": "ae5bd7fb",
   "metadata": {},
   "outputs": [],
   "source": [
    "class Pose(object):\n",
    "    def __init__(self, x: float, y: float):\n",
    "        self.x = x\n",
    "        self.y = y\n",
    "\n",
    "    def __eq__(self, other):\n",
    "        return self.x == other.x and self.y == other.y\n",
    "\n",
    "    def __hash__(self):\n",
    "        return hash((self.x, self.y))\n",
    "\n",
    "    def __repr__(self):\n",
    "        return 'Pose({}, {})'.format(self.x, self.y)\n",
    "\n",
    "\n",
    "class Traj(object):\n",
    "    def __init__(self, list_of_pose: List[Pose]):\n",
    "        self.list_of_pose = list_of_pose\n",
    "\n",
    "    @property\n",
    "    def spose(self):\n",
    "        return self.list_of_pose[0]\n",
    "\n",
    "    @property\n",
    "    def epose(self):\n",
    "        return self.list_of_pose[-1]\n",
    "\n",
    "    def __eq__(self, other):\n",
    "        return (\n",
    "            len(self.list_of_pose) == len(other.list_of_pose) and\n",
    "            all([self.list_of_pose[i] == other.list_of_pose[i] for i in range(len(self.list_of_pose))])\n",
    "        )\n",
    "\n",
    "    def __hash__(self):\n",
    "        return hash(tuple(self.list_of_pose))\n",
    "\n",
    "    def __repr__(self):\n",
    "        return 'Traj[{}]'.format(self.list_of_pose)\n",
    "\n",
    "\n",
    "def pose_equal(p1, p2):\n",
    "    return p1 == p2\n",
    "\n",
    "\n",
    "def traj_spose(traj):\n",
    "    return traj.spose\n",
    "\n",
    "\n",
    "def traj_epose(traj):\n",
    "    return traj.epose"
   ]
  },
  {
   "cell_type": "code",
   "execution_count": 4,
   "id": "6c21581a",
   "metadata": {},
   "outputs": [
    {
     "name": "stdout",
     "output_type": "stream",
     "text": [
      "State{\n",
      "  states:\n",
      "    - pose-of: Value[pose, axes=[?item], tdtype=pose, tdshape=(2,)]{TensorizedPyObjValues[pose, shape=(2,)]}\n",
      "  objects: a - item, b - item\n",
      "}\n",
      "True\n",
      "State{\n",
      "  states:\n",
      "    - pose-of: Value[pose, axes=[?item], tdtype=pose, tdshape=(2,)]{TensorizedPyObjValues[pose, shape=(2,)]}\n",
      "  objects: a - item, b - item\n",
      "}\n"
     ]
    }
   ],
   "source": [
    "domain = pds.load_domain_string(DOMAIN_STRING)\n",
    "executor = pds.PDSketchExecutor(domain)\n",
    "\n",
    "executor.register_function('type::pose::equal', pose_equal)\n",
    "executor.register_function('predicate::traj-spose', traj_spose)\n",
    "executor.register_function('predicate::traj-epose', traj_epose)\n",
    "\n",
    "state, ctx = executor.new_state({\n",
    "    'a': domain.t_item,\n",
    "    'b': domain.t_item,\n",
    "}, create_context=True)\n",
    "ctx.define_pyobj_feature('pose-of', [Pose(1, 1), Pose(2, 2)])\n",
    "\n",
    "op: pds.Operator = domain.op_move\n",
    "action = op('a', Pose(1, 1), Pose(2, 2), Traj([Pose(1, 1), Pose(2, 2)]))\n",
    "succ, next_state = executor.apply(action, state)\n",
    "\n",
    "print(state)\n",
    "print(succ)\n",
    "print(next_state)"
   ]
  }
 ],
 "metadata": {
  "kernelspec": {
   "display_name": "Python 3 (ipykernel)",
   "language": "python",
   "name": "python3"
  },
  "language_info": {
   "codemirror_mode": {
    "name": "ipython",
    "version": 3
   },
   "file_extension": ".py",
   "mimetype": "text/x-python",
   "name": "python",
   "nbconvert_exporter": "python",
   "pygments_lexer": "ipython3",
   "version": "3.9.10"
  }
 },
 "nbformat": 4,
 "nbformat_minor": 5
}
