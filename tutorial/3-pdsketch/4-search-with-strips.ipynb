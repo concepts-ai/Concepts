{
 "cells": [
  {
   "cell_type": "markdown",
   "id": "e700f1fd",
   "metadata": {},
   "source": [
    "# Tutorial 3.4: Doing PDSketch with STRIPS-Style Heuristics"
   ]
  },
  {
   "cell_type": "code",
   "execution_count": 1,
   "id": "d976b743",
   "metadata": {},
   "outputs": [],
   "source": [
    "import concepts.pdsketch as pds"
   ]
  },
  {
   "cell_type": "code",
   "execution_count": 2,
   "id": "d7343f21",
   "metadata": {},
   "outputs": [],
   "source": [
    "# From tutorial/3-pdsketch/3-translate-into-strips.ipynb\n",
    "domain_string = r\"\"\"(define (domain blocks-wold)\n",
    "    (:types block)\n",
    "    (:predicates\n",
    "        (clear ?x - block)          ;; no block is on x\n",
    "        (on ?x - block ?y - block)  ;; x is on y\n",
    "        (robot-holding ?x - block)  ;; the robot is holding x\n",
    "        (robot-handfree)            ;; the robot is not holding anything\n",
    "    )\n",
    "    (:action pick\n",
    "     :parameters (?x - block)\n",
    "     :precondition (and (robot-handfree) (clear ?x))\n",
    "     :effect (and (not (robot-handfree)) (robot-holding ?x) (not (clear ?x)))\n",
    "    )\n",
    "    (:action place\n",
    "     :parameters (?x - block ?y - block)\n",
    "     :precondition (and (robot-holding ?x) (clear ?y))\n",
    "     :effect (and (robot-handfree) (not (robot-holding ?x)) (not (clear ?y)) (clear ?x) (on ?x ?y))\n",
    "    )\n",
    ")\"\"\""
   ]
  },
  {
   "cell_type": "code",
   "execution_count": 3,
   "id": "47edf2d2",
   "metadata": {},
   "outputs": [
    {
     "data": {
      "text/plain": [
       "Domain(blocks-wold)"
      ]
     },
     "execution_count": 3,
     "metadata": {},
     "output_type": "execute_result"
    }
   ],
   "source": [
    "domain = pds.load_domain_string(domain_string)\n",
    "domain"
   ]
  },
  {
   "cell_type": "code",
   "execution_count": 4,
   "id": "ab8fa462",
   "metadata": {},
   "outputs": [],
   "source": [
    "executor = pds.PDSketchExecutor(domain)"
   ]
  },
  {
   "cell_type": "code",
   "execution_count": 5,
   "id": "88f5394c",
   "metadata": {},
   "outputs": [
    {
     "data": {
      "text/plain": [
       "State{\n",
       "  states:\n",
       "    - on: Value[bool, axes=[?x, ?y], tdtype=torch.int64, tdshape=(3, 3), quantized]{\n",
       "      tensor([[0, 0, 0],\n",
       "              [0, 0, 0],\n",
       "              [0, 0, 0]])\n",
       "    }\n",
       "    - robot-holding: Value[bool, axes=[?x], tdtype=torch.int64, tdshape=(3,), quantized]{tensor([0, 0, 0])}\n",
       "    - clear: Value[bool, axes=[?x], tdtype=torch.int64, tdshape=(3,), quantized]{tensor([1, 1, 1])}\n",
       "    - robot-handfree: Value[bool, axes=[], tdtype=torch.int64, tdshape=(), quantized]{tensor(1)}\n",
       "  objects: a - block, b - block, c - block\n",
       "}"
      ]
     },
     "execution_count": 5,
     "metadata": {},
     "output_type": "execute_result"
    }
   ],
   "source": [
    "# From tutorial/3-pdsketch/3-translate-into-strips.ipynb\n",
    "state, ctx = executor.new_state({'a': domain.types['block'], 'b': domain.types['block'], 'c': domain.types['block']}, create_context=True)\n",
    "ctx.define_predicates([\n",
    "    ctx.robot_handfree(),\n",
    "    ctx.clear('a'),\n",
    "    ctx.clear('b'),\n",
    "    ctx.clear('c')\n",
    "])\n",
    "state"
   ]
  },
  {
   "cell_type": "code",
   "execution_count": 6,
   "id": "09683dd7",
   "metadata": {},
   "outputs": [
    {
     "data": {
      "text/plain": [
       "AndExpression<and(on(OBJ::a, OBJ::b), on(OBJ::b, OBJ::c))>"
      ]
     },
     "execution_count": 6,
     "metadata": {},
     "output_type": "execute_result"
    }
   ],
   "source": [
    "goal_expr = domain.parse('(and (on a b) (on b c))')\n",
    "goal_expr"
   ]
  },
  {
   "cell_type": "code",
   "execution_count": 7,
   "id": "933ca07a",
   "metadata": {},
   "outputs": [
    {
     "name": "stdout",
     "output_type": "stream",
     "text": [
      "hsstrips::actions nr 12\n",
      "hsstrips::goal_expr and(on(OBJ::a, OBJ::b), on(OBJ::b, OBJ::c))\n"
     ]
    },
    {
     "name": "stderr",
     "output_type": "stream",
     "text": [
      "heuristic_search::expanding: priority = 0 g = 4: : 6it [00:00, 513.28it/s]"
     ]
    },
    {
     "name": "stdout",
     "output_type": "stream",
     "text": [
      "hsstrips::search succeeded.\n",
      "hsstrips::total_expansions: 6\n"
     ]
    },
    {
     "name": "stderr",
     "output_type": "stream",
     "text": [
      "\n"
     ]
    },
    {
     "data": {
      "text/plain": [
       "(OperatorApplier<action::pick(?x=b)>,\n",
       " OperatorApplier<action::place(?x=b, ?y=c)>,\n",
       " OperatorApplier<action::pick(?x=a)>,\n",
       " OperatorApplier<action::place(?x=a, ?y=b)>)"
      ]
     },
     "execution_count": 7,
     "metadata": {},
     "output_type": "execute_result"
    }
   ],
   "source": [
    "from concepts.pdsketch.planners.discrete_search import heuristic_search_strips\n",
    "plan = heuristic_search_strips(executor, state, goal_expr, 'hff', verbose=True)\n",
    "plan"
   ]
  }
 ],
 "metadata": {
  "kernelspec": {
   "display_name": "Python 3 (ipykernel)",
   "language": "python",
   "name": "python3"
  },
  "language_info": {
   "codemirror_mode": {
    "name": "ipython",
    "version": 3
   },
   "file_extension": ".py",
   "mimetype": "text/x-python",
   "name": "python",
   "nbconvert_exporter": "python",
   "pygments_lexer": "ipython3",
   "version": "3.9.10"
  }
 },
 "nbformat": 4,
 "nbformat_minor": 5
}
