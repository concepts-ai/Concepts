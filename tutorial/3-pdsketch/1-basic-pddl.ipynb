{
 "cells": [
  {
   "cell_type": "markdown",
   "id": "402568ec",
   "metadata": {},
   "source": [
    "# Tutorial 3.1: Basic Definition of a Planning Domain and Discrete Search"
   ]
  },
  {
   "cell_type": "code",
   "execution_count": 1,
   "id": "8e591c4a",
   "metadata": {},
   "outputs": [],
   "source": [
    "import concepts.dm.pdsketch as pds"
   ]
  },
  {
   "cell_type": "code",
   "execution_count": 2,
   "id": "5fc3873c",
   "metadata": {},
   "outputs": [],
   "source": [
    "domain_string = r\"\"\"(define (domain blocks-wold)\n",
    "    (:types block)\n",
    "    (:predicates\n",
    "        (clear ?x - block)          ;; no block is on x\n",
    "        (on ?x - block ?y - block)  ;; x is on y\n",
    "        (robot-holding ?x - block)  ;; the robot is holding x\n",
    "        (robot-handfree)            ;; the robot is not holding anything\n",
    "    )\n",
    "    (:action pick\n",
    "     :parameters (?x - block)\n",
    "     :precondition (and (robot-handfree) (clear ?x))\n",
    "     :effect (and (not (robot-handfree)) (robot-holding ?x) (not (clear ?x)))\n",
    "    )\n",
    "    (:action place\n",
    "     :parameters (?x - block ?y - block)\n",
    "     :precondition (and (robot-holding ?x) (clear ?y))\n",
    "     :effect (and (robot-handfree) (not (robot-holding ?x)) (not (clear ?y)) (clear ?x) (on ?x ?y))\n",
    "    )\n",
    ")\"\"\""
   ]
  },
  {
   "cell_type": "code",
   "execution_count": 3,
   "id": "cdcbec2d",
   "metadata": {},
   "outputs": [
    {
     "name": "stdout",
     "output_type": "stream",
     "text": [
      "Domain blocks-wold\n",
      "  Types: dict{\n",
      "    block: block\n",
      "  }\n",
      "  Functions: dict{\n",
      "    clear: clear[observation, state, cacheable](?x: block) -> bool\n",
      "    on: on[observation, state, cacheable](?x: block, ?y: block) -> bool\n",
      "    robot-handfree: robot-handfree[observation, state, cacheable]() -> bool\n",
      "    robot-holding: robot-holding[observation, state, cacheable](?x: block) -> bool\n",
      "  }\n",
      "  External Functions: dict{\n",
      "  }\n",
      "  Generators: dict{\n",
      "  }\n",
      "  Fancy Generators: dict{\n",
      "  }\n",
      "  Operators:\n",
      "    (:action pick\n",
      "     :parameters (?x: block)\n",
      "     :precondition (and\n",
      "       robot-handfree()\n",
      "       clear(V::?x)\n",
      "     )\n",
      "     :effect (and\n",
      "       assign(robot-handfree(): Const::0)\n",
      "       assign(robot-holding(V::?x): Const::1)\n",
      "       assign(clear(V::?x): Const::0)\n",
      "     )\n",
      "    )\n",
      "    (:action place\n",
      "     :parameters (?x: block ?y: block)\n",
      "     :precondition (and\n",
      "       robot-holding(V::?x)\n",
      "       clear(V::?y)\n",
      "     )\n",
      "     :effect (and\n",
      "       assign(robot-handfree(): Const::1)\n",
      "       assign(robot-holding(V::?x): Const::0)\n",
      "       assign(clear(V::?y): Const::0)\n",
      "       assign(clear(V::?x): Const::1)\n",
      "       assign(on(V::?x, V::?y): Const::1)\n",
      "     )\n",
      "    )\n",
      "  Axioms:\n",
      "    <Empty>\n",
      "  Regression Rules:\n",
      "    <Empty>\n"
     ]
    }
   ],
   "source": [
    "domain = pds.load_domain_string(domain_string)\n",
    "domain.print_summary()"
   ]
  },
  {
   "cell_type": "code",
   "execution_count": 4,
   "id": "5f5e9e8d",
   "metadata": {},
   "outputs": [
    {
     "data": {
      "text/plain": [
       "Predicate<clear[observation, state, cacheable](?x: block) -> bool>"
      ]
     },
     "execution_count": 4,
     "metadata": {},
     "output_type": "execute_result"
    }
   ],
   "source": [
    "domain.functions['clear']"
   ]
  },
  {
   "cell_type": "code",
   "execution_count": 5,
   "id": "449a497b",
   "metadata": {},
   "outputs": [
    {
     "data": {
      "text/plain": [
       "AndExpression<and(on(OBJ::a, OBJ::b), on(OBJ::b, OBJ::c))>"
      ]
     },
     "execution_count": 5,
     "metadata": {},
     "output_type": "execute_result"
    }
   ],
   "source": [
    "goal_expr = domain.parse('(and (on a b) (on b c))')\n",
    "goal_expr"
   ]
  },
  {
   "cell_type": "code",
   "execution_count": 6,
   "id": "095336d0",
   "metadata": {},
   "outputs": [
    {
     "data": {
      "text/plain": [
       "<concepts.dm.pdsketch.executor.PDSketchExecutor at 0x28dfa1640>"
      ]
     },
     "execution_count": 6,
     "metadata": {},
     "output_type": "execute_result"
    }
   ],
   "source": [
    "executor = pds.PDSketchExecutor(domain)\n",
    "executor"
   ]
  },
  {
   "cell_type": "code",
   "execution_count": 7,
   "id": "8a53dad1",
   "metadata": {
    "scrolled": true
   },
   "outputs": [
    {
     "data": {
      "text/plain": [
       "State{\n",
       "  states:\n",
       "  objects: a - block, b - block, c - block\n",
       "}"
      ]
     },
     "execution_count": 7,
     "metadata": {},
     "output_type": "execute_result"
    }
   ],
   "source": [
    "state, ctx = executor.new_state({'a': domain.types['block'], 'b': domain.types['block'], 'c': domain.types['block']}, create_context=True)\n",
    "state"
   ]
  },
  {
   "cell_type": "code",
   "execution_count": 8,
   "id": "9fe7f1df",
   "metadata": {},
   "outputs": [
    {
     "data": {
      "text/plain": [
       "State{\n",
       "  states:\n",
       "    - robot-holding: Value[bool, axes=[?x], tdtype=torch.int64, tdshape=(3,), quantized]{tensor([0, 0, 0])}\n",
       "    - on: Value[bool, axes=[?x, ?y], tdtype=torch.int64, tdshape=(3, 3), quantized]{\n",
       "      tensor([[0, 0, 0],\n",
       "              [0, 0, 0],\n",
       "              [0, 0, 0]])\n",
       "    }\n",
       "    - robot-handfree: Value[bool, axes=[], tdtype=torch.int64, tdshape=(), quantized]{tensor(1)}\n",
       "    - clear: Value[bool, axes=[?x], tdtype=torch.int64, tdshape=(3,), quantized]{tensor([1, 1, 1])}\n",
       "  objects: a - block, b - block, c - block\n",
       "}"
      ]
     },
     "execution_count": 8,
     "metadata": {},
     "output_type": "execute_result"
    }
   ],
   "source": [
    "ctx.define_predicates([\n",
    "    ctx.robot_handfree(),\n",
    "    ctx.clear('a'),\n",
    "    ctx.clear('b'),\n",
    "    ctx.clear('c')\n",
    "])\n",
    "state"
   ]
  },
  {
   "cell_type": "code",
   "execution_count": 9,
   "id": "c7b290fd",
   "metadata": {},
   "outputs": [],
   "source": [
    "from concepts.dm.pdsketch.planners.discrete_search import brute_force_search, validate_plan"
   ]
  },
  {
   "cell_type": "code",
   "execution_count": 10,
   "id": "a826c690",
   "metadata": {},
   "outputs": [
    {
     "name": "stdout",
     "output_type": "stream",
     "text": [
      "bfs::actions nr 12\n",
      "bfs::goal_expr and(on(OBJ::a, OBJ::b), on(OBJ::b, OBJ::c))\n"
     ]
    },
    {
     "name": "stderr",
     "output_type": "stream",
     "text": [
      "bfs::depth=0, states=3: : 12it [00:00, 3586.15it/s]\n",
      "bfs::depth=1, states=6: : 36it [00:00, 9747.90it/s] \n",
      "bfs::depth=2, states=12: : 72it [00:00, 16382.22it/s]\n",
      "bfs::depth=3, states=9: : 144it [00:00, 21188.56it/s]\n",
      "bfs::depth=4: 60it [00:00, 18749.68it/s]"
     ]
    },
    {
     "name": "stdout",
     "output_type": "stream",
     "text": [
      "bfs::search succeeded.\n",
      "bfs::total_expansions: 28\n"
     ]
    },
    {
     "name": "stderr",
     "output_type": "stream",
     "text": [
      "\n"
     ]
    },
    {
     "data": {
      "text/plain": [
       "(OperatorApplier<action::pick(?x=b)>,\n",
       " OperatorApplier<action::place(?x=b, ?y=c)>,\n",
       " OperatorApplier<action::pick(?x=a)>,\n",
       " OperatorApplier<action::place(?x=a, ?y=b)>)"
      ]
     },
     "execution_count": 10,
     "metadata": {},
     "output_type": "execute_result"
    }
   ],
   "source": [
    "# Run a brute-force search to find a solution\n",
    "plan = brute_force_search(executor, state, goal_expr, verbose=True)\n",
    "plan"
   ]
  },
  {
   "cell_type": "code",
   "execution_count": 11,
   "id": "7b07be22",
   "metadata": {},
   "outputs": [
    {
     "name": "stdout",
     "output_type": "stream",
     "text": [
      "State{\n",
      "  states:\n",
      "    - robot-holding: Value[bool, axes=[?x], tdtype=torch.int64, tdshape=(3,), quantized]{tensor([0, 0, 0])}\n",
      "    - on: Value[bool, axes=[?x, ?y], tdtype=torch.int64, tdshape=(3, 3), quantized]{\n",
      "      tensor([[0, 1, 0],\n",
      "              [0, 0, 1],\n",
      "              [0, 0, 0]])\n",
      "    }\n",
      "    - robot-handfree: Value[bool, axes=[], tdtype=torch.int64, tdshape=(), quantized]{tensor(1)}\n",
      "    - clear: Value[bool, axes=[?x], tdtype=torch.int64, tdshape=(3,), quantized]{tensor([1, 0, 0])}\n",
      "  objects: a - block, b - block, c - block\n",
      "}\n",
      "Value[bool, axes=[], tdtype=torch.int64, tdshape=(), quantized]{tensor(1)}\n"
     ]
    }
   ],
   "source": [
    "# Use the built-in function validate_plan to simulate the plan.\n",
    "final_state, succ = validate_plan(executor, state, goal_expr, plan)\n",
    "print(final_state)\n",
    "print(succ)"
   ]
  },
  {
   "cell_type": "code",
   "execution_count": 12,
   "id": "cc11169b",
   "metadata": {},
   "outputs": [
    {
     "name": "stdout",
     "output_type": "stream",
     "text": [
      "Applying: action::pick(?x=b)\n",
      "New state: State{\n",
      "  states:\n",
      "    - robot-holding: Value[bool, axes=[?x], tdtype=torch.int64, tdshape=(3,), quantized]{tensor([0, 1, 0])}\n",
      "    - on: Value[bool, axes=[?x, ?y], tdtype=torch.int64, tdshape=(3, 3), quantized]{\n",
      "      tensor([[0, 0, 0],\n",
      "              [0, 0, 0],\n",
      "              [0, 0, 0]])\n",
      "    }\n",
      "    - robot-handfree: Value[bool, axes=[], tdtype=torch.int64, tdshape=(), quantized]{tensor(0)}\n",
      "    - clear: Value[bool, axes=[?x], tdtype=torch.int64, tdshape=(3,), quantized]{tensor([1, 0, 1])}\n",
      "  objects: a - block, b - block, c - block\n",
      "}\n",
      "Applying: action::place(?x=b, ?y=c)\n",
      "New state: State{\n",
      "  states:\n",
      "    - robot-holding: Value[bool, axes=[?x], tdtype=torch.int64, tdshape=(3,), quantized]{tensor([0, 0, 0])}\n",
      "    - on: Value[bool, axes=[?x, ?y], tdtype=torch.int64, tdshape=(3, 3), quantized]{\n",
      "      tensor([[0, 0, 0],\n",
      "              [0, 0, 1],\n",
      "              [0, 0, 0]])\n",
      "    }\n",
      "    - robot-handfree: Value[bool, axes=[], tdtype=torch.int64, tdshape=(), quantized]{tensor(1)}\n",
      "    - clear: Value[bool, axes=[?x], tdtype=torch.int64, tdshape=(3,), quantized]{tensor([1, 1, 0])}\n",
      "  objects: a - block, b - block, c - block\n",
      "}\n",
      "Applying: action::pick(?x=a)\n",
      "New state: State{\n",
      "  states:\n",
      "    - robot-holding: Value[bool, axes=[?x], tdtype=torch.int64, tdshape=(3,), quantized]{tensor([1, 0, 0])}\n",
      "    - on: Value[bool, axes=[?x, ?y], tdtype=torch.int64, tdshape=(3, 3), quantized]{\n",
      "      tensor([[0, 0, 0],\n",
      "              [0, 0, 1],\n",
      "              [0, 0, 0]])\n",
      "    }\n",
      "    - robot-handfree: Value[bool, axes=[], tdtype=torch.int64, tdshape=(), quantized]{tensor(0)}\n",
      "    - clear: Value[bool, axes=[?x], tdtype=torch.int64, tdshape=(3,), quantized]{tensor([0, 1, 0])}\n",
      "  objects: a - block, b - block, c - block\n",
      "}\n",
      "Applying: action::place(?x=a, ?y=b)\n",
      "New state: State{\n",
      "  states:\n",
      "    - robot-holding: Value[bool, axes=[?x], tdtype=torch.int64, tdshape=(3,), quantized]{tensor([0, 0, 0])}\n",
      "    - on: Value[bool, axes=[?x, ?y], tdtype=torch.int64, tdshape=(3, 3), quantized]{\n",
      "      tensor([[0, 1, 0],\n",
      "              [0, 0, 1],\n",
      "              [0, 0, 0]])\n",
      "    }\n",
      "    - robot-handfree: Value[bool, axes=[], tdtype=torch.int64, tdshape=(), quantized]{tensor(1)}\n",
      "    - clear: Value[bool, axes=[?x], tdtype=torch.int64, tdshape=(3,), quantized]{tensor([1, 0, 0])}\n",
      "  objects: a - block, b - block, c - block\n",
      "}\n"
     ]
    }
   ],
   "source": [
    "# Or you can execute the plan step by step and visualize.\n",
    "s = state\n",
    "for action in plan:\n",
    "    succ, s = executor.apply(action, s)\n",
    "    assert succ\n",
    "    print(f'Applying: {action}')\n",
    "    print(f'New state: {s}')"
   ]
  }
 ],
 "metadata": {
  "kernelspec": {
   "display_name": "Python 3 (ipykernel)",
   "language": "python",
   "name": "python3"
  },
  "language_info": {
   "codemirror_mode": {
    "name": "ipython",
    "version": 3
   },
   "file_extension": ".py",
   "mimetype": "text/x-python",
   "name": "python",
   "nbconvert_exporter": "python",
   "pygments_lexer": "ipython3",
   "version": "3.9.10"
  }
 },
 "nbformat": 4,
 "nbformat_minor": 5
}
