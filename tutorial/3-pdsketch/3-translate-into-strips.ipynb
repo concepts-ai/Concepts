{
 "cells": [
  {
   "cell_type": "markdown",
   "id": "d23e6d46",
   "metadata": {},
   "source": [
    "# Tutorial 3.3: Translate a PDSketch Planning Problem into STRIPS \n",
    "\n",
    "PDSketch offers a translator from PDSketch representations into STRIPS representations. The key difference is that in STRIPS, everything (action parameters, predicate types) are all discrete (actually the internal representation is completely Boolean). Therefore, each state can be represented as a Python `set` of propositions (a.k.a. grounded predicates). This will make the evaluation of expressions and thus search very efficient. Moreover, using a discrete representation will allow us to easily track visited states and compute heuristics. The translators below will only work for \"grounded\" case. That is, they requires an input state (including all objects in the world and their associated state variables).\n",
    "\n",
    "However, (because of the no-free lunch theorem!), translating a PDSketch domain that allows continuous representations for action parameters and predicates) into a domain that is completely discrete is not straightforward. In the original paper, two translation strategies have been described.\n",
    "\n",
    "First: **optimistic translation**. In optimistic translation, all continuous parameters will be translated into two Boolean propositions: `(<p>-optimistic)` and `(<p>-initial)`, indicating whether the value of `<p>` has been changed from its original state. Any assignment expression to these state variables will set `(<p>-optimistic)` to be true. The computation rule for these propositions is simple: any function that takes an optimsitic state variable as input will return (optimistically) true of false. That is, for example, if `(pose-optimistic blockA)` is true (the pose of block A has been changed to \"optimistic\"), any Boolean expression involving it will return true. For example: `on(blockA, blockB)`, `onTable(blockA)`, `not(onTable(blockA))`, etc. This is a very aggressive (but efficient) discretization.\n",
    "\n",
    "Note that this function will handle compositions of these Boolean predicates correctly. That is, for example, consider the state: `(pose-optimistic blockA), (pose-initial blockB)` (and both blocks are not on table originally), the following expression will return False: `(and (onTable blockA) (onTable blockB))`.\n",
    "\n",
    "Another note (which is probably obvious) is that for domains with only Boolean predicates and action parameters, this translator will faithfully translate into a STRIPS representation. No approximation will be made.\n",
    "\n",
    "Second: **AO-Discretization**. TBD."
   ]
  },
  {
   "cell_type": "code",
   "execution_count": 1,
   "id": "6ca1943b",
   "metadata": {},
   "outputs": [],
   "source": [
    "import concepts.dm.pdsketch as pds"
   ]
  },
  {
   "cell_type": "code",
   "execution_count": 2,
   "id": "4a397be6",
   "metadata": {},
   "outputs": [],
   "source": [
    "# From tutorial/3-pdsketch/3-translate-into-strips.ipynb\n",
    "domain_string = r\"\"\"(define (domain blocks-wold)\n",
    "    (:types block)\n",
    "    (:predicates\n",
    "        (clear ?x - block)          ;; no block is on x\n",
    "        (on ?x - block ?y - block)  ;; x is on y\n",
    "        (robot-holding ?x - block)  ;; the robot is holding x\n",
    "        (robot-handfree)            ;; the robot is not holding anything\n",
    "    )\n",
    "    (:action pick\n",
    "     :parameters (?x - block)\n",
    "     :precondition (and (robot-handfree) (clear ?x))\n",
    "     :effect (and (not (robot-handfree)) (robot-holding ?x) (not (clear ?x)))\n",
    "    )\n",
    "    (:action place\n",
    "     :parameters (?x - block ?y - block)\n",
    "     :precondition (and (robot-holding ?x) (clear ?y))\n",
    "     :effect (and (robot-handfree) (not (robot-holding ?x)) (not (clear ?y)) (clear ?x) (on ?x ?y))\n",
    "    )\n",
    ")\"\"\""
   ]
  },
  {
   "cell_type": "code",
   "execution_count": 11,
   "id": "85994bc0",
   "metadata": {},
   "outputs": [
    {
     "data": {
      "text/plain": [
       "Domain(blocks-wold)"
      ]
     },
     "execution_count": 11,
     "metadata": {},
     "output_type": "execute_result"
    }
   ],
   "source": [
    "domain = pds.load_domain_string(domain_string)\n",
    "domain"
   ]
  },
  {
   "cell_type": "code",
   "execution_count": 4,
   "id": "e302f0a9",
   "metadata": {},
   "outputs": [],
   "source": [
    "executor = pds.PDSketchExecutor(domain)"
   ]
  },
  {
   "cell_type": "code",
   "execution_count": 5,
   "id": "3d5a7208",
   "metadata": {},
   "outputs": [
    {
     "data": {
      "text/plain": [
       "State{\n",
       "  states:\n",
       "    - clear: Value[bool, axes=[?x], tdtype=torch.int64, tdshape=(3,), quantized]{tensor([1, 1, 1])}\n",
       "    - robot-holding: Value[bool, axes=[?x], tdtype=torch.int64, tdshape=(3,), quantized]{tensor([0, 0, 0])}\n",
       "    - robot-handfree: Value[bool, axes=[], tdtype=torch.int64, tdshape=(), quantized]{tensor(1)}\n",
       "    - on: Value[bool, axes=[?x, ?y], tdtype=torch.int64, tdshape=(3, 3), quantized]{\n",
       "      tensor([[0, 0, 0],\n",
       "              [0, 0, 0],\n",
       "              [0, 0, 0]])\n",
       "    }\n",
       "  objects: a - block, b - block, c - block\n",
       "}"
      ]
     },
     "execution_count": 5,
     "metadata": {},
     "output_type": "execute_result"
    }
   ],
   "source": [
    "# From tutorial/3-pdsketch/3-translate-into-strips.ipynb\n",
    "state, ctx = executor.new_state({'a': domain.types['block'], 'b': domain.types['block'], 'c': domain.types['block']}, create_context=True)\n",
    "ctx.define_predicates([\n",
    "    ctx.robot_handfree(),\n",
    "    ctx.clear('a'),\n",
    "    ctx.clear('b'),\n",
    "    ctx.clear('c')\n",
    "])\n",
    "state"
   ]
  },
  {
   "cell_type": "code",
   "execution_count": 6,
   "id": "8f825cee",
   "metadata": {},
   "outputs": [
    {
     "data": {
      "text/plain": [
       "AndExpression<and(on(OBJ::a, OBJ::b), on(OBJ::b, OBJ::c))>"
      ]
     },
     "execution_count": 6,
     "metadata": {},
     "output_type": "execute_result"
    }
   ],
   "source": [
    "goal_expr = domain.parse('(and (on a b) (on b c))')\n",
    "goal_expr"
   ]
  },
  {
   "cell_type": "markdown",
   "id": "2d2d0f61",
   "metadata": {},
   "source": [
    "`GStripsTranslator` is an alias for grounded STRIPS translator. In PDSketch, the convention is that all classes and functions that works with STRIPS (a.k.a. discrete) representations starts with `S` or `s_`, while all classes and functions for grounded STRIPS representations starts with `GS` or `gs_`."
   ]
  },
  {
   "cell_type": "code",
   "execution_count": 7,
   "id": "a749fc3d",
   "metadata": {},
   "outputs": [
    {
     "data": {
      "text/plain": [
       "<concepts.dm.pdsketch.strips.strips_grounding.GStripsTranslatorOptimistic at 0x127fe0340>"
      ]
     },
     "execution_count": 7,
     "metadata": {},
     "output_type": "execute_result"
    }
   ],
   "source": [
    "translator = pds.strips.GStripsTranslatorOptimistic(executor)\n",
    "translator"
   ]
  },
  {
   "cell_type": "code",
   "execution_count": 8,
   "id": "6711b18c",
   "metadata": {},
   "outputs": [
    {
     "data": {
      "text/plain": [
       "GStripsProblem{\n",
       "  state: SState({'clear 2', 'robot-handfree', 'clear 1', 'clear 0'})\n",
       "  goal: CONJ(on 1 2, on 0 1)\n",
       "  operators:\n",
       "    GStripsOperator{action::pick(?x=a)}{\n",
       "      CONJ(clear 0, robot-handfree)\n",
       "      EFF[add=frozenset({'robot-holding 0'}), del=frozenset({'clear 0', 'robot-handfree'})]\n",
       "    GStripsOperator{action::pick(?x=b)}{\n",
       "      CONJ(robot-handfree, clear 1)\n",
       "      EFF[add=frozenset({'robot-holding 1'}), del=frozenset({'robot-handfree', 'clear 1'})]\n",
       "    GStripsOperator{action::pick(?x=c)}{\n",
       "      CONJ(clear 2, robot-handfree)\n",
       "      EFF[add=frozenset({'robot-holding 2'}), del=frozenset({'clear 2', 'robot-handfree'})]\n",
       "    GStripsOperator{action::place(?x=a, ?y=a)}{\n",
       "      CONJ(clear 0, robot-holding 0)\n",
       "      EFF[add=frozenset({'clear 0', 'robot-handfree'}), del=frozenset({'clear 0', 'robot-holding 0'})]\n",
       "    GStripsOperator{action::place(?x=a, ?y=b)}{\n",
       "      CONJ(robot-holding 0, clear 1)\n",
       "      EFF[add=frozenset({'clear 0', 'robot-handfree', 'on 0 1'}), del=frozenset({'robot-holding 0', 'clear 1'})]\n",
       "    GStripsOperator{action::place(?x=a, ?y=c)}{\n",
       "      CONJ(clear 2, robot-holding 0)\n",
       "      EFF[add=frozenset({'clear 0', 'robot-handfree'}), del=frozenset({'clear 2', 'robot-holding 0'})]\n",
       "    GStripsOperator{action::place(?x=b, ?y=a)}{\n",
       "      CONJ(clear 0, robot-holding 1)\n",
       "      EFF[add=frozenset({'robot-handfree', 'clear 1'}), del=frozenset({'clear 0', 'robot-holding 1'})]\n",
       "    GStripsOperator{action::place(?x=b, ?y=b)}{\n",
       "      CONJ(robot-holding 1, clear 1)\n",
       "      EFF[add=frozenset({'robot-handfree', 'clear 1'}), del=frozenset({'robot-holding 1', 'clear 1'})]\n",
       "    GStripsOperator{action::place(?x=b, ?y=c)}{\n",
       "      CONJ(clear 2, robot-holding 1)\n",
       "      EFF[add=frozenset({'on 1 2', 'robot-handfree', 'clear 1'}), del=frozenset({'clear 2', 'robot-holding 1'})]\n",
       "    GStripsOperator{action::place(?x=c, ?y=a)}{\n",
       "      CONJ(clear 0, robot-holding 2)\n",
       "      EFF[add=frozenset({'clear 2', 'robot-handfree'}), del=frozenset({'clear 0', 'robot-holding 2'})]\n",
       "    GStripsOperator{action::place(?x=c, ?y=b)}{\n",
       "      CONJ(clear 1, robot-holding 2)\n",
       "      EFF[add=frozenset({'clear 2', 'robot-handfree'}), del=frozenset({'clear 1', 'robot-holding 2'})]\n",
       "    GStripsOperator{action::place(?x=c, ?y=c)}{\n",
       "      CONJ(clear 2, robot-holding 2)\n",
       "      EFF[add=frozenset({'clear 2', 'robot-handfree'}), del=frozenset({'clear 2', 'robot-holding 2'})]\n",
       "  derived_predicates:\n",
       "    \n",
       "  facts: {'robot-holding 0', 'clear 1', 'on 0 1', 'robot-holding 2', 'robot-handfree', 'clear 2', 'on 1 2', 'clear 0', 'robot-holding 1'}\n",
       "}"
      ]
     },
     "execution_count": 8,
     "metadata": {},
     "output_type": "execute_result"
    }
   ],
   "source": [
    "gstrips_task = translator.compile_task(state, goal_expr)\n",
    "gstrips_task"
   ]
  },
  {
   "cell_type": "code",
   "execution_count": 9,
   "id": "1e9d135a",
   "metadata": {},
   "outputs": [
    {
     "name": "stdout",
     "output_type": "stream",
     "text": [
      "strips_brute_force_search::task.goal=CONJ(on 1 2, on 0 1)\n",
      "strips_brute_force_search::task.facts=9\n",
      "strips_brute_force_search::task.operators=12\n"
     ]
    },
    {
     "name": "stderr",
     "output_type": "stream",
     "text": [
      "strips_brute_force_search::depth=2, states=12: : 197it [00:00, 108720.77it/s]\n"
     ]
    },
    {
     "data": {
      "text/plain": [
       "(GStripsOperator{action::pick(?x=b)}{\n",
       "   CONJ(robot-handfree, clear 1)\n",
       "   EFF[add=frozenset({'robot-holding 1'}), del=frozenset({'robot-handfree', 'clear 1'})],\n",
       " GStripsOperator{action::place(?x=b, ?y=c)}{\n",
       "   CONJ(clear 2, robot-holding 1)\n",
       "   EFF[add=frozenset({'on 1 2', 'robot-handfree', 'clear 1'}), del=frozenset({'clear 2', 'robot-holding 1'})],\n",
       " GStripsOperator{action::pick(?x=a)}{\n",
       "   CONJ(clear 0, robot-handfree)\n",
       "   EFF[add=frozenset({'robot-holding 0'}), del=frozenset({'clear 0', 'robot-handfree'})],\n",
       " GStripsOperator{action::place(?x=a, ?y=b)}{\n",
       "   CONJ(robot-holding 0, clear 1)\n",
       "   EFF[add=frozenset({'clear 0', 'robot-handfree', 'on 0 1'}), del=frozenset({'robot-holding 0', 'clear 1'})])"
      ]
     },
     "execution_count": 9,
     "metadata": {},
     "output_type": "execute_result"
    }
   ],
   "source": [
    "pds.strips.strips_brute_force_search(gstrips_task)"
   ]
  },
  {
   "cell_type": "code",
   "execution_count": 10,
   "id": "4df8d62c",
   "metadata": {},
   "outputs": [
    {
     "name": "stdout",
     "output_type": "stream",
     "text": [
      "strips_heuristic_search::task.goal=CONJ(on 1 2, on 0 1)\n",
      "strips_heuristic_search::task.facts=9\n",
      "strips_heuristic_search::task.operators=12\n",
      "strips_heuristic_search::init_heuristic=4\n"
     ]
    },
    {
     "name": "stderr",
     "output_type": "stream",
     "text": [
      "strips_heuristic_search::expanding: 60it [00:00, 84591.01it/s]\n"
     ]
    },
    {
     "data": {
      "text/plain": [
       "[GStripsOperator{action::pick(?x=b)}{\n",
       "   CONJ(robot-handfree, clear 1)\n",
       "   EFF[add=frozenset({'robot-holding 1'}), del=frozenset({'robot-handfree', 'clear 1'})],\n",
       " GStripsOperator{action::place(?x=b, ?y=c)}{\n",
       "   CONJ(clear 2, robot-holding 1)\n",
       "   EFF[add=frozenset({'on 1 2', 'robot-handfree', 'clear 1'}), del=frozenset({'clear 2', 'robot-holding 1'})],\n",
       " GStripsOperator{action::pick(?x=a)}{\n",
       "   CONJ(clear 0, robot-handfree)\n",
       "   EFF[add=frozenset({'robot-holding 0'}), del=frozenset({'clear 0', 'robot-handfree'})],\n",
       " GStripsOperator{action::place(?x=a, ?y=b)}{\n",
       "   CONJ(robot-holding 0, clear 1)\n",
       "   EFF[add=frozenset({'clear 0', 'robot-handfree', 'on 0 1'}), del=frozenset({'robot-holding 0', 'clear 1'})]]"
      ]
     },
     "execution_count": 10,
     "metadata": {},
     "output_type": "execute_result"
    }
   ],
   "source": [
    "pds.strips.strips_heuristic_search(gstrips_task, pds.strips.StripsHFFHeuristic(gstrips_task, translator), verbose=True)"
   ]
  },
  {
   "cell_type": "markdown",
   "id": "f52557ae",
   "metadata": {},
   "source": [
    "Now let's try a domain that is larger and more complicated. This example shows how you can basically use this library as a standard PDDL planner."
   ]
  },
  {
   "cell_type": "code",
   "execution_count": 21,
   "id": "c5829389",
   "metadata": {},
   "outputs": [
    {
     "data": {
      "text/plain": [
       "Domain(mini-behavior)"
      ]
     },
     "execution_count": 21,
     "metadata": {},
     "output_type": "execute_result"
    }
   ],
   "source": [
    "domain = pds.load_domain_file('mini-behavior.pddl')\n",
    "domain"
   ]
  },
  {
   "cell_type": "code",
   "execution_count": 23,
   "id": "0cabe41d",
   "metadata": {},
   "outputs": [],
   "source": [
    "object_types, object_names = (\n",
    "    ['human', 'robot', 'location', 'location', 'location'] + ['phyobj'] * (6 + 3 + 5),\n",
    "    ['h', 'r', 'c', 't', 's'] + ('plr1 plr2 pmb3 pmg4 psr5 psg6 blg1 bmb2 bsr3 clb1 clg2 cmr3 cmr4 csg5').split()\n",
    ")\n",
    "object_names_dict = {\n",
    "    n: domain.types[t] for n, t in zip(object_names, object_types)\n",
    "}\n",
    "\n",
    "executor = pds.PDSketchExecutor(domain)\n",
    "state, ctx = executor.new_state(object_names_dict, create_context=True)\n",
    "\n",
    "predicates = list()\n",
    "predicates.extend([ctx.type_cupboard('c'), ctx.type_table('t'), ctx.type_sink('s')])\n",
    "for name in object_names[-(6 + 3 + 5):]:\n",
    "    assert len(name) == 4\n",
    "    t = {'p': 'plate', 'b': 'bowl', 'c': 'cup'}[name[0]]\n",
    "    z = {'l': 'large', 'm': 'medium', 's': 'small'}[name[1]]\n",
    "    c = {'r': 'red', 'g': 'green', 'b': 'blue'}[name[2]]\n",
    "    predicates.append(ctx.get_predicate('type-' + t)(name))\n",
    "    predicates.append(ctx.get_predicate('size-' + z)(name))\n",
    "    predicates.append(ctx.get_predicate('color-' + c)(name))\n",
    "\n",
    "predicates.append(ctx.at('plr1', 's'))\n",
    "predicates.append(ctx.state_used('plr1'))\n",
    "predicates.append(ctx.at('plr2', 'c'))\n",
    "predicates.append(ctx.state_clean('plr2'))\n",
    "predicates.append(ctx.at('pmb3', 't'))\n",
    "predicates.append(ctx.state_clean('pmb3'))\n",
    "predicates.append(ctx.at('pmg4', 's'))\n",
    "predicates.append(ctx.state_used('pmg4'))\n",
    "predicates.append(ctx.at('psr5', 't'))\n",
    "predicates.append(ctx.state_full('psr5'))\n",
    "predicates.append(ctx.at('psg6', 't'))\n",
    "predicates.append(ctx.state_used('psg6'))\n",
    "\n",
    "predicates.append(ctx.at('blg1', 'c'))\n",
    "predicates.append(ctx.state_clean('blg1'))\n",
    "predicates.append(ctx.at('bmb2', 'c'))\n",
    "predicates.append(ctx.state_clean('bmb2'))\n",
    "predicates.append(ctx.at('bsr3', 'c'))\n",
    "predicates.append(ctx.state_clean('bsr3'))\n",
    "\n",
    "predicates.append(ctx.at('clb1', 't'))\n",
    "predicates.append(ctx.state_full('clb1'))\n",
    "predicates.append(ctx.at('clg2', 't'))\n",
    "predicates.append(ctx.state_used('clg2'))\n",
    "predicates.append(ctx.at('cmr3', 't'))\n",
    "predicates.append(ctx.state_used('cmr3'))\n",
    "predicates.append(ctx.at('cmr4', 'c'))\n",
    "predicates.append(ctx.state_clean('cmr4'))\n",
    "predicates.append(ctx.at('csg5', 't'))\n",
    "predicates.append(ctx.state_full('csg5'))\n",
    "\n",
    "predicates.append(ctx.on('bmb2', 'pmb3'))\n",
    "predicates.append(ctx.clear('plr1'))\n",
    "predicates.append(ctx.clear('plr2'))\n",
    "predicates.append(ctx.clear('pmg4'))\n",
    "predicates.append(ctx.clear('psr5'))\n",
    "predicates.append(ctx.clear('psg6'))\n",
    "predicates.append(ctx.clear('blg1'))\n",
    "predicates.append(ctx.clear('bmb2'))\n",
    "predicates.append(ctx.clear('bsr3'))\n",
    "predicates.append(ctx.clear('clb1'))\n",
    "predicates.append(ctx.clear('clg2'))\n",
    "predicates.append(ctx.clear('cmr3'))\n",
    "predicates.append(ctx.clear('cmr4'))\n",
    "predicates.append(ctx.clear('csg5'))\n",
    "\n",
    "predicates.append(ctx.is_working('h'))\n",
    "\n",
    "ctx.define_predicates(predicates)"
   ]
  },
  {
   "cell_type": "code",
   "execution_count": 25,
   "id": "6e4f7fde",
   "metadata": {},
   "outputs": [
    {
     "name": "stdout",
     "output_type": "stream",
     "text": [
      "[Timer::compile_task::actions] Start...\n",
      "[Timer::compile_task::actions] End. Time elapsed = 1.09096097946167\n",
      "[Timer::compile_task::state] Start...\n",
      "[Timer::compile_task::state] End. Time elapsed = 0.0006299018859863281\n",
      "[Timer::compile_task::operators] Start...\n",
      "[Timer::compile_task::operators] End. Time elapsed = 0.1288151741027832\n",
      "[Timer::compile_task::goal] Start...\n",
      "[Timer::compile_task::goal] End. Time elapsed = 0.0009219646453857422\n",
      "[Timer::compile_task::relevance_analysis] Start...\n",
      "[Timer::compile_task::relevance_analysis] End. Time elapsed = 0.017339229583740234\n"
     ]
    }
   ],
   "source": [
    "translator = pds.strips.GStripsTranslatorOptimistic(executor, use_string_name=True)\n",
    "task = translator.compile_task(\n",
    "    state, '(is-goal1 h)', verbose=True,\n",
    "    forward_relevance_analysis=True, backward_relevance_analysis=True\n",
    ")"
   ]
  },
  {
   "cell_type": "code",
   "execution_count": 27,
   "id": "a38573e9",
   "metadata": {},
   "outputs": [
    {
     "name": "stdout",
     "output_type": "stream",
     "text": [
      "strips_heuristic_search::task.goal=CONJ(is-goal1 0)\n",
      "strips_heuristic_search::task.facts=142\n",
      "strips_heuristic_search::task.operators=601\n",
      "strips_heuristic_search::init_heuristic=5\n"
     ]
    },
    {
     "name": "stderr",
     "output_type": "stream",
     "text": [
      "strips_heuristic_search::expanding: 3005it [00:00, 11459.01it/s]\n"
     ]
    },
    {
     "data": {
      "text/plain": [
       "[GStripsOperator{action::human-make-full(?h=h, ?p=bmb2, ?c=c)}{\n",
       "   CONJ(at 7 0, state-clean 7)\n",
       "   EFF[add=frozenset({'state-full 7'}), del=frozenset({'state-clean 7'})],\n",
       " GStripsOperator{action::human-move(?h=h, ?p=bmb2, ?from=c, ?to=t)}{\n",
       "   CONJ(at 7 0)\n",
       "   EFF[add=frozenset({'at 7 1'}), del=frozenset({'at 7 0'})],\n",
       " GStripsOperator{action::human-make-full(?h=h, ?p=cmr4, ?c=c)}{\n",
       "   CONJ(at 12 0, state-clean 12)\n",
       "   EFF[add=frozenset({'state-full 12'}), del=frozenset({'state-clean 12'})],\n",
       " GStripsOperator{action::human-move(?h=h, ?p=cmr4, ?from=c, ?to=t)}{\n",
       "   CONJ(at 12 0)\n",
       "   EFF[add=frozenset({'at 12 1'}), del=frozenset({'at 12 0'})],\n",
       " GStripsOperator{action::reach-goal1(?h=h, ?p1=pmb3, ?b1=bmb2, ?c1=cmr4, ?t=t)}{\n",
       "   CONJ(at 7 1, state-full 12, at 12 1, state-full 7, at 2 1)\n",
       "   EFF[add=frozenset({'is-goal1 0'}), del=frozenset()]]"
      ]
     },
     "execution_count": 27,
     "metadata": {},
     "output_type": "execute_result"
    }
   ],
   "source": [
    "heuristic = pds.strips.StripsHFFHeuristic(task, translator, forward_relevance_analysis=True, backward_relevance_analysis=True)\n",
    "plan = pds.strips.strips_heuristic_search(task, heuristic, verbose=True)\n",
    "plan"
   ]
  },
  {
   "cell_type": "markdown",
   "id": "129fc407",
   "metadata": {},
   "source": [
    "**Final Note:** Doing STRIPS planning for purely discrete domains is much faster than solving them using the original PDSketch representations, due to various implementation details. Therefore, if you want to apply PDSketch just as a PDDL planner (maybe for its simplicity? Otherwise I will suggest faster C/C++ implementations such as FF or FD), you should probably always use this STRIPS planner. Later on in the tutorials we will see how this is used as a subroutine when we are doing Task and Motion Planning (TAMP)."
   ]
  }
 ],
 "metadata": {
  "kernelspec": {
   "display_name": "Python 3 (ipykernel)",
   "language": "python",
   "name": "python3"
  },
  "language_info": {
   "codemirror_mode": {
    "name": "ipython",
    "version": 3
   },
   "file_extension": ".py",
   "mimetype": "text/x-python",
   "name": "python",
   "nbconvert_exporter": "python",
   "pygments_lexer": "ipython3",
   "version": "3.9.10"
  }
 },
 "nbformat": 4,
 "nbformat_minor": 5
}
