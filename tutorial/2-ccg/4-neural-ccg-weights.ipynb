{
 "cells": [
  {
   "cell_type": "markdown",
   "id": "abe1d3d6",
   "metadata": {},
   "source": [
    "# Tutorial 2.4: Learning Lexicon Weights of NCCGs"
   ]
  },
  {
   "cell_type": "code",
   "execution_count": 1,
   "id": "5aac7804",
   "metadata": {},
   "outputs": [],
   "source": [
    "import jacinle\n",
    "from tabulate import tabulate"
   ]
  },
  {
   "cell_type": "code",
   "execution_count": 2,
   "id": "b948bfd9",
   "metadata": {},
   "outputs": [
    {
     "data": {
      "text/plain": [
       "Function<minus(#0: int64, #1: int64) -> int64>"
      ]
     },
     "execution_count": 2,
     "metadata": {},
     "output_type": "execute_result"
    }
   ],
   "source": [
    "from concepts.dsl.dsl_types import INT64\n",
    "from concepts.dsl.dsl_functions import Function, FunctionTyping\n",
    "from concepts.dsl.function_domain import FunctionDomain\n",
    "\n",
    "math_domain = FunctionDomain()\n",
    "math_domain.define_function(Function('add', FunctionTyping[INT64](INT64, INT64)))\n",
    "math_domain.define_function(Function('minus', FunctionTyping[INT64](INT64, INT64)))"
   ]
  },
  {
   "cell_type": "code",
   "execution_count": 3,
   "id": "0bb2e902",
   "metadata": {},
   "outputs": [],
   "source": [
    "for i in range(10):\n",
    "    math_domain.define_function(Function(f'int{i}', FunctionTyping[INT64]()))"
   ]
  },
  {
   "cell_type": "code",
   "execution_count": 4,
   "id": "080d3205",
   "metadata": {},
   "outputs": [
    {
     "name": "stdout",
     "output_type": "stream",
     "text": [
      "TypeSystem: FunctionDomain\n",
      "  Types:\n",
      "  Constants:\n",
      "  Functions:\n",
      "    add(#0: int64, #1: int64) -> int64\n",
      "    minus(#0: int64, #1: int64) -> int64\n",
      "    int0() -> int64\n",
      "    int1() -> int64\n",
      "    int2() -> int64\n",
      "    int3() -> int64\n",
      "    int4() -> int64\n",
      "    int5() -> int64\n",
      "    int6() -> int64\n",
      "    int7() -> int64\n",
      "    int8() -> int64\n",
      "    int9() -> int64\n"
     ]
    }
   ],
   "source": [
    "math_domain.print_summary()"
   ]
  },
  {
   "cell_type": "code",
   "execution_count": 5,
   "id": "e95480e5",
   "metadata": {},
   "outputs": [
    {
     "name": "stderr",
     "output_type": "stream",
     "text": [
      "\u001b[32m11 22:40:35 \u001b[0mFunction add automatically registered.\n",
      "\u001b[32m11 22:40:35 \u001b[0mFunction minus automatically registered.\n",
      "\u001b[32m11 22:40:35 \u001b[0mFunction int0 automatically registered.\n",
      "\u001b[32m11 22:40:35 \u001b[0mFunction int1 automatically registered.\n",
      "\u001b[32m11 22:40:35 \u001b[0mFunction int2 automatically registered.\n",
      "\u001b[32m11 22:40:35 \u001b[0mFunction int3 automatically registered.\n",
      "\u001b[32m11 22:40:35 \u001b[0mFunction int4 automatically registered.\n",
      "\u001b[32m11 22:40:35 \u001b[0mFunction int5 automatically registered.\n",
      "\u001b[32m11 22:40:35 \u001b[0mFunction int6 automatically registered.\n",
      "\u001b[32m11 22:40:35 \u001b[0mFunction int7 automatically registered.\n",
      "\u001b[32m11 22:40:35 \u001b[0mFunction int8 automatically registered.\n",
      "\u001b[32m11 22:40:35 \u001b[0mFunction int9 automatically registered.\n"
     ]
    }
   ],
   "source": [
    "import torch\n",
    "from concepts.dsl.executors.function_domain_executor import FunctionDomainExecutor\n",
    "\n",
    "class Executor(FunctionDomainExecutor):\n",
    "    def int0(self): return torch.tensor(0, dtype=torch.float32)\n",
    "    def int1(self): return torch.tensor(1, dtype=torch.float32)\n",
    "    def int2(self): return torch.tensor(2, dtype=torch.float32)\n",
    "    def int3(self): return torch.tensor(3, dtype=torch.float32)\n",
    "    def int4(self): return torch.tensor(4, dtype=torch.float32)\n",
    "    def int5(self): return torch.tensor(5, dtype=torch.float32)\n",
    "    def int6(self): return torch.tensor(6, dtype=torch.float32)\n",
    "    def int7(self): return torch.tensor(7, dtype=torch.float32)\n",
    "    def int8(self): return torch.tensor(8, dtype=torch.float32)\n",
    "    def int9(self): return torch.tensor(9, dtype=torch.float32)\n",
    "    def add(self, x, y): return x + y\n",
    "    def minus(self, x, y): return x - y\n",
    "\n",
    "executor = Executor(math_domain)"
   ]
  },
  {
   "cell_type": "code",
   "execution_count": 6,
   "id": "bcee463a",
   "metadata": {},
   "outputs": [
    {
     "data": {
      "text/plain": [
       "V(7.0, dtype=int64)"
      ]
     },
     "execution_count": 6,
     "metadata": {},
     "output_type": "execute_result"
    }
   ],
   "source": [
    "executor.execute(math_domain.lam(lambda: math_domain.f_add(math_domain.f_int3(), math_domain.f_int4()))())"
   ]
  },
  {
   "cell_type": "code",
   "execution_count": 7,
   "id": "75564821",
   "metadata": {},
   "outputs": [
    {
     "data": {
      "text/plain": [
       "[FunctionDomainExpressionSearchResult(expression=Function<def __lambda__(#0: int64, #1: int64): return add(V::#0, V::#1)>, depth=1, nr_constant_arguments=0, nr_variable_arguments=2, nr_function_arguments=0),\n",
       " FunctionDomainExpressionSearchResult(expression=Function<def __lambda__(#0: int64, #1: int64): return minus(V::#0, V::#1)>, depth=1, nr_constant_arguments=0, nr_variable_arguments=2, nr_function_arguments=0),\n",
       " FunctionDomainExpressionSearchResult(expression=Function<def __lambda__(): return int0()>, depth=1, nr_constant_arguments=0, nr_variable_arguments=0, nr_function_arguments=0),\n",
       " FunctionDomainExpressionSearchResult(expression=Function<def __lambda__(): return int1()>, depth=1, nr_constant_arguments=0, nr_variable_arguments=0, nr_function_arguments=0),\n",
       " FunctionDomainExpressionSearchResult(expression=Function<def __lambda__(): return int2()>, depth=1, nr_constant_arguments=0, nr_variable_arguments=0, nr_function_arguments=0),\n",
       " FunctionDomainExpressionSearchResult(expression=Function<def __lambda__(): return int3()>, depth=1, nr_constant_arguments=0, nr_variable_arguments=0, nr_function_arguments=0),\n",
       " FunctionDomainExpressionSearchResult(expression=Function<def __lambda__(): return int4()>, depth=1, nr_constant_arguments=0, nr_variable_arguments=0, nr_function_arguments=0),\n",
       " FunctionDomainExpressionSearchResult(expression=Function<def __lambda__(): return int5()>, depth=1, nr_constant_arguments=0, nr_variable_arguments=0, nr_function_arguments=0),\n",
       " FunctionDomainExpressionSearchResult(expression=Function<def __lambda__(): return int6()>, depth=1, nr_constant_arguments=0, nr_variable_arguments=0, nr_function_arguments=0),\n",
       " FunctionDomainExpressionSearchResult(expression=Function<def __lambda__(): return int7()>, depth=1, nr_constant_arguments=0, nr_variable_arguments=0, nr_function_arguments=0),\n",
       " FunctionDomainExpressionSearchResult(expression=Function<def __lambda__(): return int8()>, depth=1, nr_constant_arguments=0, nr_variable_arguments=0, nr_function_arguments=0),\n",
       " FunctionDomainExpressionSearchResult(expression=Function<def __lambda__(): return int9()>, depth=1, nr_constant_arguments=0, nr_variable_arguments=0, nr_function_arguments=0)]"
      ]
     },
     "execution_count": 7,
     "metadata": {},
     "output_type": "execute_result"
    }
   ],
   "source": [
    "from concepts.dsl.learning.function_domain_search import FunctionDomainExpressionEnumerativeSearcher\n",
    "\n",
    "expression_searcher = FunctionDomainExpressionEnumerativeSearcher(math_domain)\n",
    "candidate_expressions = expression_searcher.gen(max_depth=1)\n",
    "candidate_expressions"
   ]
  },
  {
   "cell_type": "code",
   "execution_count": 8,
   "id": "916bbb30",
   "metadata": {},
   "outputs": [
    {
     "name": "stdout",
     "output_type": "stream",
     "text": [
      "syntax             semantics\n",
      "-----------------  ----------------------------------------------------------------\n",
      "int64/int64/int64  def __lambda__(#0: int64, #1: int64): return add(V::#1, V::#0)\n",
      "int64\\int64/int64  def __lambda__(#0: int64, #1: int64): return add(V::#1, V::#0)\n",
      "int64\\int64\\int64  def __lambda__(#0: int64, #1: int64): return add(V::#1, V::#0)\n",
      "int64/int64/int64  def __lambda__(#0: int64, #1: int64): return add(V::#0, V::#1)\n",
      "int64\\int64/int64  def __lambda__(#0: int64, #1: int64): return add(V::#0, V::#1)\n",
      "int64\\int64\\int64  def __lambda__(#0: int64, #1: int64): return add(V::#0, V::#1)\n",
      "int64/int64/int64  def __lambda__(#0: int64, #1: int64): return minus(V::#1, V::#0)\n",
      "int64\\int64/int64  def __lambda__(#0: int64, #1: int64): return minus(V::#1, V::#0)\n",
      "int64\\int64\\int64  def __lambda__(#0: int64, #1: int64): return minus(V::#1, V::#0)\n",
      "int64/int64/int64  def __lambda__(#0: int64, #1: int64): return minus(V::#0, V::#1)\n",
      "int64\\int64/int64  def __lambda__(#0: int64, #1: int64): return minus(V::#0, V::#1)\n",
      "int64\\int64\\int64  def __lambda__(#0: int64, #1: int64): return minus(V::#0, V::#1)\n",
      "int64              def __lambda__(): return int0()\n",
      "int64              def __lambda__(): return int1()\n",
      "int64              def __lambda__(): return int2()\n",
      "int64              def __lambda__(): return int3()\n",
      "int64              def __lambda__(): return int4()\n",
      "int64              def __lambda__(): return int5()\n",
      "int64              def __lambda__(): return int6()\n",
      "int64              def __lambda__(): return int7()\n",
      "In total: 22 lexicon entries.\n"
     ]
    }
   ],
   "source": [
    "from concepts.language.neural_ccg.search import NeuralCCGLexiconEnumerativeSearcher\n",
    "\n",
    "lexicon_searcher = NeuralCCGLexiconEnumerativeSearcher(candidate_expressions, executor)\n",
    "candidate_lexicon_entries = lexicon_searcher.gen()\n",
    "candidate_lexicon_entries_table = list()\n",
    "for result in candidate_lexicon_entries[:20]:\n",
    "    candidate_lexicon_entries_table.append((str(result.syntax), str(result.semantics)))\n",
    "\n",
    "print(tabulate(candidate_lexicon_entries_table, headers=['syntax', 'semantics']))\n",
    "print(f'In total: {len(candidate_lexicon_entries)} lexicon entries.')"
   ]
  },
  {
   "cell_type": "code",
   "execution_count": 9,
   "id": "92026888",
   "metadata": {},
   "outputs": [],
   "source": [
    "from concepts.language.neural_ccg.grammar import NeuralCCG"
   ]
  },
  {
   "cell_type": "code",
   "execution_count": 10,
   "id": "bac58d05",
   "metadata": {},
   "outputs": [],
   "source": [
    "ccg = NeuralCCG(math_domain, executor, candidate_lexicon_entries)"
   ]
  },
  {
   "cell_type": "code",
   "execution_count": 11,
   "id": "327fa889",
   "metadata": {},
   "outputs": [],
   "source": [
    "import torch.nn as nn\n",
    "import torch.nn.functional as F"
   ]
  },
  {
   "cell_type": "code",
   "execution_count": 12,
   "id": "fd78299d",
   "metadata": {},
   "outputs": [],
   "source": [
    "lexicon_weights = nn.Parameter(torch.zeros((3, 22), dtype=torch.float32))\n",
    "lexicon_weights.data[0, 13] = 1e9\n",
    "lexicon_weights.data[2, 14] = 1e9"
   ]
  },
  {
   "cell_type": "code",
   "execution_count": 13,
   "id": "ce1b4f73",
   "metadata": {},
   "outputs": [],
   "source": [
    "results = ccg.parse(\"one plus two\", F.log_softmax(lexicon_weights, dim=-1))"
   ]
  },
  {
   "cell_type": "code",
   "execution_count": 14,
   "id": "856e9062",
   "metadata": {},
   "outputs": [],
   "source": [
    "result_table = list()\n",
    "for result in results[:20]:\n",
    "    result_table.append((str(result.syntax), str(result.semantics.value.execute()), str(result.execution_result), str(result.weight.item())))"
   ]
  },
  {
   "cell_type": "code",
   "execution_count": 15,
   "id": "29e1c25e",
   "metadata": {},
   "outputs": [
    {
     "name": "stdout",
     "output_type": "stream",
     "text": [
      "syntax    semantics              grounded value          weight\n",
      "--------  ---------------------  --------------------  --------\n",
      "int64     add(int1(), int2())    V(3.0, dtype=int64)   -3.09104\n",
      "int64     add(int2(), int1())    V(3.0, dtype=int64)   -3.09104\n",
      "int64     minus(int1(), int2())  V(-1.0, dtype=int64)  -3.09104\n",
      "int64     minus(int2(), int1())  V(1.0, dtype=int64)   -3.09104\n",
      "int64     add(int0(), int2())    V(2.0, dtype=int64)   -1e+09\n",
      "int64     add(int2(), int0())    V(2.0, dtype=int64)   -1e+09\n",
      "int64     minus(int0(), int2())  V(-2.0, dtype=int64)  -1e+09\n",
      "int64     minus(int2(), int0())  V(2.0, dtype=int64)   -1e+09\n",
      "int64     add(int1(), int0())    V(1.0, dtype=int64)   -1e+09\n",
      "int64     add(int1(), int1())    V(2.0, dtype=int64)   -1e+09\n",
      "int64     add(int1(), int3())    V(4.0, dtype=int64)   -1e+09\n",
      "int64     add(int1(), int4())    V(5.0, dtype=int64)   -1e+09\n",
      "int64     add(int1(), int5())    V(6.0, dtype=int64)   -1e+09\n",
      "int64     add(int1(), int6())    V(7.0, dtype=int64)   -1e+09\n",
      "int64     add(int1(), int7())    V(8.0, dtype=int64)   -1e+09\n",
      "int64     add(int1(), int8())    V(9.0, dtype=int64)   -1e+09\n",
      "int64     add(int1(), int9())    V(10.0, dtype=int64)  -1e+09\n",
      "int64     add(int0(), int1())    V(1.0, dtype=int64)   -1e+09\n",
      "int64     add(int1(), int1())    V(2.0, dtype=int64)   -1e+09\n",
      "int64     add(int3(), int1())    V(4.0, dtype=int64)   -1e+09\n",
      "In total: 1200 parsing trees.\n"
     ]
    }
   ],
   "source": [
    "print(tabulate(result_table, headers=['syntax', 'semantics', 'grounded value', 'weight']))\n",
    "print(f'In total: {len(results)} parsing trees.')"
   ]
  },
  {
   "cell_type": "code",
   "execution_count": 16,
   "id": "9d7854ab",
   "metadata": {},
   "outputs": [
    {
     "name": "stdout",
     "output_type": "stream",
     "text": [
      "        i    weight  w_grad    syntax             semantics\n",
      "----  ---  --------  --------  -----------------  ----------------------------------------------------------------\n",
      "one    13    1       g: None   int64              def __lambda__(): return int1()\n",
      "        0    0       g: None   int64/int64/int64  def __lambda__(#0: int64, #1: int64): return add(V::#1, V::#0)\n",
      "        1    0       g: None   int64\\int64/int64  def __lambda__(#0: int64, #1: int64): return add(V::#1, V::#0)\n",
      "        2    0       g: None   int64\\int64\\int64  def __lambda__(#0: int64, #1: int64): return add(V::#1, V::#0)\n",
      "        3    0       g: None   int64/int64/int64  def __lambda__(#0: int64, #1: int64): return add(V::#0, V::#1)\n",
      "        4    0       g: None   int64\\int64/int64  def __lambda__(#0: int64, #1: int64): return add(V::#0, V::#1)\n",
      "        5    0       g: None   int64\\int64\\int64  def __lambda__(#0: int64, #1: int64): return add(V::#0, V::#1)\n",
      "        6    0       g: None   int64/int64/int64  def __lambda__(#0: int64, #1: int64): return minus(V::#1, V::#0)\n",
      "        7    0       g: None   int64\\int64/int64  def __lambda__(#0: int64, #1: int64): return minus(V::#1, V::#0)\n",
      "        8    0       g: None   int64\\int64\\int64  def __lambda__(#0: int64, #1: int64): return minus(V::#1, V::#0)\n",
      "        9    0       g: None   int64/int64/int64  def __lambda__(#0: int64, #1: int64): return minus(V::#0, V::#1)\n",
      "       10    0       g: None   int64\\int64/int64  def __lambda__(#0: int64, #1: int64): return minus(V::#0, V::#1)\n",
      "       11    0       g: None   int64\\int64\\int64  def __lambda__(#0: int64, #1: int64): return minus(V::#0, V::#1)\n",
      "       12    0       g: None   int64              def __lambda__(): return int0()\n",
      "       14    0       g: None   int64              def __lambda__(): return int2()\n",
      "       15    0       g: None   int64              def __lambda__(): return int3()\n",
      "       16    0       g: None   int64              def __lambda__(): return int4()\n",
      "       17    0       g: None   int64              def __lambda__(): return int5()\n",
      "       18    0       g: None   int64              def __lambda__(): return int6()\n",
      "       19    0       g: None   int64              def __lambda__(): return int7()\n",
      "       20    0       g: None   int64              def __lambda__(): return int8()\n",
      "       21    0       g: None   int64              def __lambda__(): return int9()\n",
      "plus    0    0.0455  g: None   int64/int64/int64  def __lambda__(#0: int64, #1: int64): return add(V::#1, V::#0)\n",
      "        1    0.0455  g: None   int64\\int64/int64  def __lambda__(#0: int64, #1: int64): return add(V::#1, V::#0)\n",
      "        2    0.0455  g: None   int64\\int64\\int64  def __lambda__(#0: int64, #1: int64): return add(V::#1, V::#0)\n",
      "        3    0.0455  g: None   int64/int64/int64  def __lambda__(#0: int64, #1: int64): return add(V::#0, V::#1)\n",
      "        4    0.0455  g: None   int64\\int64/int64  def __lambda__(#0: int64, #1: int64): return add(V::#0, V::#1)\n",
      "        5    0.0455  g: None   int64\\int64\\int64  def __lambda__(#0: int64, #1: int64): return add(V::#0, V::#1)\n",
      "        6    0.0455  g: None   int64/int64/int64  def __lambda__(#0: int64, #1: int64): return minus(V::#1, V::#0)\n",
      "        7    0.0455  g: None   int64\\int64/int64  def __lambda__(#0: int64, #1: int64): return minus(V::#1, V::#0)\n",
      "        8    0.0455  g: None   int64\\int64\\int64  def __lambda__(#0: int64, #1: int64): return minus(V::#1, V::#0)\n",
      "        9    0.0455  g: None   int64/int64/int64  def __lambda__(#0: int64, #1: int64): return minus(V::#0, V::#1)\n",
      "       10    0.0455  g: None   int64\\int64/int64  def __lambda__(#0: int64, #1: int64): return minus(V::#0, V::#1)\n",
      "       11    0.0455  g: None   int64\\int64\\int64  def __lambda__(#0: int64, #1: int64): return minus(V::#0, V::#1)\n",
      "       12    0.0455  g: None   int64              def __lambda__(): return int0()\n",
      "       13    0.0455  g: None   int64              def __lambda__(): return int1()\n",
      "       14    0.0455  g: None   int64              def __lambda__(): return int2()\n",
      "       15    0.0455  g: None   int64              def __lambda__(): return int3()\n",
      "       16    0.0455  g: None   int64              def __lambda__(): return int4()\n",
      "       17    0.0455  g: None   int64              def __lambda__(): return int5()\n",
      "       18    0.0455  g: None   int64              def __lambda__(): return int6()\n",
      "       19    0.0455  g: None   int64              def __lambda__(): return int7()\n",
      "       20    0.0455  g: None   int64              def __lambda__(): return int8()\n",
      "       21    0.0455  g: None   int64              def __lambda__(): return int9()\n",
      "two    14    1       g: None   int64              def __lambda__(): return int2()\n",
      "        0    0       g: None   int64/int64/int64  def __lambda__(#0: int64, #1: int64): return add(V::#1, V::#0)\n",
      "        1    0       g: None   int64\\int64/int64  def __lambda__(#0: int64, #1: int64): return add(V::#1, V::#0)\n",
      "        2    0       g: None   int64\\int64\\int64  def __lambda__(#0: int64, #1: int64): return add(V::#1, V::#0)\n",
      "        3    0       g: None   int64/int64/int64  def __lambda__(#0: int64, #1: int64): return add(V::#0, V::#1)\n",
      "        4    0       g: None   int64\\int64/int64  def __lambda__(#0: int64, #1: int64): return add(V::#0, V::#1)\n",
      "        5    0       g: None   int64\\int64\\int64  def __lambda__(#0: int64, #1: int64): return add(V::#0, V::#1)\n",
      "        6    0       g: None   int64/int64/int64  def __lambda__(#0: int64, #1: int64): return minus(V::#1, V::#0)\n",
      "        7    0       g: None   int64\\int64/int64  def __lambda__(#0: int64, #1: int64): return minus(V::#1, V::#0)\n",
      "        8    0       g: None   int64\\int64\\int64  def __lambda__(#0: int64, #1: int64): return minus(V::#1, V::#0)\n",
      "        9    0       g: None   int64/int64/int64  def __lambda__(#0: int64, #1: int64): return minus(V::#0, V::#1)\n",
      "       10    0       g: None   int64\\int64/int64  def __lambda__(#0: int64, #1: int64): return minus(V::#0, V::#1)\n",
      "       11    0       g: None   int64\\int64\\int64  def __lambda__(#0: int64, #1: int64): return minus(V::#0, V::#1)\n",
      "       12    0       g: None   int64              def __lambda__(): return int0()\n",
      "       13    0       g: None   int64              def __lambda__(): return int1()\n",
      "       15    0       g: None   int64              def __lambda__(): return int3()\n",
      "       16    0       g: None   int64              def __lambda__(): return int4()\n",
      "       17    0       g: None   int64              def __lambda__(): return int5()\n",
      "       18    0       g: None   int64              def __lambda__(): return int6()\n",
      "       19    0       g: None   int64              def __lambda__(): return int7()\n",
      "       20    0       g: None   int64              def __lambda__(): return int8()\n",
      "       21    0       g: None   int64              def __lambda__(): return int9()\n"
     ]
    }
   ],
   "source": [
    "print(ccg.format_lexicon_table_sentence(\"one plus two\".split(), lexicon_weights))"
   ]
  },
  {
   "cell_type": "code",
   "execution_count": 17,
   "id": "2209084c",
   "metadata": {},
   "outputs": [],
   "source": [
    "optimizer = torch.optim.Adam([lexicon_weights], lr=1)"
   ]
  },
  {
   "cell_type": "code",
   "execution_count": 18,
   "id": "177552da",
   "metadata": {},
   "outputs": [
    {
     "name": "stdout",
     "output_type": "stream",
     "text": [
      "log_likelihood: 0.6931471824645996\n",
      "log_likelihood: 0.7223198413848877\n",
      "log_likelihood: 0.6995475888252258\n",
      "log_likelihood: 0.6946471333503723\n",
      "log_likelihood: 0.6935825943946838\n",
      "log_likelihood: 0.6932985782623291\n",
      "log_likelihood: 0.6932079195976257\n",
      "log_likelihood: 0.6931744813919067\n",
      "log_likelihood: 0.6931606531143188\n",
      "log_likelihood: 0.6931544542312622\n",
      "log_likelihood: 0.6931512951850891\n",
      "log_likelihood: 0.6931496858596802\n",
      "log_likelihood: 0.6931487917900085\n",
      "log_likelihood: 0.6931482553482056\n",
      "log_likelihood: 0.6931478977203369\n",
      "log_likelihood: 0.6931477189064026\n",
      "log_likelihood: 0.6931475400924683\n",
      "log_likelihood: 0.6931474804878235\n",
      "log_likelihood: 0.6931474208831787\n",
      "log_likelihood: 0.6931474208831787\n"
     ]
    }
   ],
   "source": [
    "for i in range(20):\n",
    "    results = ccg.parse(\"one plus two\", F.log_softmax(lexicon_weights, dim=-1))\n",
    "    weights = F.log_softmax(torch.stack([node.weight for node in results], dim=0), dim=0)\n",
    "    weights_softmax = F.softmax(weights, dim=0)\n",
    "    \n",
    "    log_likelihood = 0\n",
    "    for i, node in enumerate(results):\n",
    "        if node.execution_result.value.item() == 3.0:\n",
    "            log_likelihood -= weights_softmax[i].detach() * weights[i]\n",
    "    \n",
    "    print(f'log_likelihood: {log_likelihood.item()}')\n",
    "            \n",
    "    optimizer.zero_grad()\n",
    "    log_likelihood.backward()\n",
    "    optimizer.step()"
   ]
  },
  {
   "cell_type": "code",
   "execution_count": 19,
   "id": "1ca371af",
   "metadata": {},
   "outputs": [
    {
     "name": "stdout",
     "output_type": "stream",
     "text": [
      "        i    weight  w_grad      syntax             semantics\n",
      "----  ---  --------  ----------  -----------------  --------------------------------------------------------------\n",
      "one    13    1       g: 0.0000   int64              def __lambda__(): return int1()\n",
      "        0    0       g: 0.0000   int64/int64/int64  def __lambda__(#0: int64, #1: int64): return add(V::#1, V::#0)\n",
      "        1    0       g: 0.0000   int64\\int64/int64  def __lambda__(#0: int64, #1: int64): return add(V::#1, V::#0)\n",
      "        2    0       g: 0.0000   int64\\int64\\int64  def __lambda__(#0: int64, #1: int64): return add(V::#1, V::#0)\n",
      "        3    0       g: 0.0000   int64/int64/int64  def __lambda__(#0: int64, #1: int64): return add(V::#0, V::#1)\n",
      "plus    1    0.497   g: -0.0000  int64\\int64/int64  def __lambda__(#0: int64, #1: int64): return add(V::#1, V::#0)\n",
      "        4    0.497   g: -0.0000  int64\\int64/int64  def __lambda__(#0: int64, #1: int64): return add(V::#0, V::#1)\n",
      "        0    0.0003  g: 0.0000   int64/int64/int64  def __lambda__(#0: int64, #1: int64): return add(V::#1, V::#0)\n",
      "        2    0.0003  g: 0.0000   int64\\int64\\int64  def __lambda__(#0: int64, #1: int64): return add(V::#1, V::#0)\n",
      "        3    0.0003  g: 0.0000   int64/int64/int64  def __lambda__(#0: int64, #1: int64): return add(V::#0, V::#1)\n",
      "two    14    1       g: 0.0000   int64              def __lambda__(): return int2()\n",
      "        0    0       g: 0.0000   int64/int64/int64  def __lambda__(#0: int64, #1: int64): return add(V::#1, V::#0)\n",
      "        1    0       g: 0.0000   int64\\int64/int64  def __lambda__(#0: int64, #1: int64): return add(V::#1, V::#0)\n",
      "        2    0       g: 0.0000   int64\\int64\\int64  def __lambda__(#0: int64, #1: int64): return add(V::#1, V::#0)\n",
      "        3    0       g: 0.0000   int64/int64/int64  def __lambda__(#0: int64, #1: int64): return add(V::#0, V::#1)\n"
     ]
    }
   ],
   "source": [
    "print(ccg.format_lexicon_table_sentence(\"one plus two\".split(), lexicon_weights, max_entries=5))"
   ]
  }
 ],
 "metadata": {
  "kernelspec": {
   "display_name": "Python 3 (ipykernel)",
   "language": "python",
   "name": "python3"
  },
  "language_info": {
   "codemirror_mode": {
    "name": "ipython",
    "version": 3
   },
   "file_extension": ".py",
   "mimetype": "text/x-python",
   "name": "python",
   "nbconvert_exporter": "python",
   "pygments_lexer": "ipython3",
   "version": "3.9.10"
  }
 },
 "nbformat": 4,
 "nbformat_minor": 5
}
