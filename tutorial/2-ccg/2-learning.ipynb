{
 "cells": [
  {
   "cell_type": "markdown",
   "id": "6366cade",
   "metadata": {},
   "source": [
    "# Tutorial 2.2: Learning Lexicon Entries in a Combinatory Categorial Grammar"
   ]
  },
  {
   "cell_type": "code",
   "execution_count": 1,
   "id": "1c8e989d",
   "metadata": {},
   "outputs": [],
   "source": [
    "import jacinle\n",
    "from tabulate import tabulate"
   ]
  },
  {
   "cell_type": "code",
   "execution_count": 2,
   "id": "c8ece303",
   "metadata": {},
   "outputs": [
    {
     "data": {
      "text/plain": [
       "Function<same_size(#0: size, #1: size) -> bool>"
      ]
     },
     "execution_count": 2,
     "metadata": {},
     "output_type": "execute_result"
    }
   ],
   "source": [
    "# From tutorial/1-dsl/1-types-and-functions\n",
    "from concepts.dsl.dsl_types import ValueType, ConstantType, BOOL, FLOAT32, VectorValueType\n",
    "from concepts.dsl.dsl_functions import Function, FunctionTyping\n",
    "from concepts.dsl.function_domain import FunctionDomain\n",
    "\n",
    "t_item = ValueType('item')\n",
    "t_item_set = ValueType('item_set')\n",
    "t_concept_name = ConstantType('concept_name')\n",
    "t_shape = ValueType('shape')\n",
    "t_color = ValueType('color')\n",
    "t_size = VectorValueType(FLOAT32, 3, alias='size')\n",
    "\n",
    "domain = FunctionDomain()\n",
    "domain.define_type(t_item)\n",
    "domain.define_type(t_item_set)\n",
    "domain.define_type(t_concept_name)\n",
    "domain.define_type(t_color)\n",
    "domain.define_type(t_shape)\n",
    "domain.define_type(t_size)\n",
    "domain.define_function(Function('scene', FunctionTyping[t_item_set]()))\n",
    "domain.define_function(Function('filter_color', FunctionTyping[t_item_set](t_item_set, t_concept_name)))\n",
    "domain.define_function(Function('filter_shape', FunctionTyping[t_item_set](t_item_set, t_concept_name)))\n",
    "domain.define_function(Function('unique', FunctionTyping[t_item](t_item_set)))\n",
    "domain.define_function(Function('color_of', FunctionTyping[t_color](t_item)))\n",
    "domain.define_function(Function('shape_of', FunctionTyping[t_shape](t_item)))\n",
    "domain.define_function(Function('size_of', FunctionTyping[t_size](t_item)))\n",
    "domain.define_function(Function('same_color', FunctionTyping[BOOL](t_color, t_color)))\n",
    "domain.define_function(Function('same_shape', FunctionTyping[BOOL](t_shape, t_shape)))\n",
    "domain.define_function(Function('same_size', FunctionTyping[BOOL](t_size, t_size)))"
   ]
  },
  {
   "cell_type": "code",
   "execution_count": 3,
   "id": "c8830f91",
   "metadata": {},
   "outputs": [],
   "source": [
    "# From tutorial/2-ccg/1-parsing\n",
    "from concepts.language.ccg.syntax import CCGSyntaxSystem\n",
    "\n",
    "ss = CCGSyntaxSystem()\n",
    "ss.define_primitive_type('S')\n",
    "ss.define_primitive_type('N')"
   ]
  },
  {
   "cell_type": "code",
   "execution_count": 4,
   "id": "580e0cf0",
   "metadata": {},
   "outputs": [],
   "source": [
    "from concepts.language.ccg.search import CCGSyntaxEnumerativeSearcher\n",
    "syntax_searcher = CCGSyntaxEnumerativeSearcher(ss, starting_symbols=['S'])"
   ]
  },
  {
   "cell_type": "code",
   "execution_count": 5,
   "id": "618e6c7e",
   "metadata": {},
   "outputs": [
    {
     "data": {
      "text/plain": [
       "[CCGSyntaxSearchResult(syntax=CCGPrimitiveSyntaxType<S>, depth=1),\n",
       " CCGSyntaxSearchResult(syntax=CCGPrimitiveSyntaxType<N>, depth=1),\n",
       " CCGSyntaxSearchResult(syntax=CCGComposedSyntaxType<S/N>, depth=2),\n",
       " CCGSyntaxSearchResult(syntax=CCGComposedSyntaxType<S\\N>, depth=2),\n",
       " CCGSyntaxSearchResult(syntax=CCGComposedSyntaxType<N/N>, depth=2),\n",
       " CCGSyntaxSearchResult(syntax=CCGComposedSyntaxType<N\\N>, depth=2)]"
      ]
     },
     "execution_count": 5,
     "metadata": {},
     "output_type": "execute_result"
    }
   ],
   "source": [
    "syntax_searcher.gen(2)"
   ]
  },
  {
   "cell_type": "code",
   "execution_count": 6,
   "id": "78897116",
   "metadata": {},
   "outputs": [],
   "source": [
    "from concepts.language.ccg.search import CCGSemanticsEnumerativeSearcher\n",
    "semantics_searcher = CCGSemanticsEnumerativeSearcher(domain)"
   ]
  },
  {
   "cell_type": "code",
   "execution_count": 7,
   "id": "c079ca10",
   "metadata": {},
   "outputs": [
    {
     "name": "stdout",
     "output_type": "stream",
     "text": [
      "form                                                depth    #consts    #vars\n",
      "------------------------------------------------  -------  ---------  -------\n",
      "scene()                                                 1          0        0\n",
      "lam #0.lam #1.filter_color(V::#0, V::#1)                1          1        1\n",
      "lam #0.lam #1.filter_shape(V::#0, V::#1)                1          1        1\n",
      "lam #0.unique(V::#0)                                    1          0        1\n",
      "lam #0.color_of(V::#0)                                  1          0        1\n",
      "lam #0.shape_of(V::#0)                                  1          0        1\n",
      "lam #0.size_of(V::#0)                                   1          0        1\n",
      "lam #0.lam #1.same_color(V::#0, V::#1)                  1          0        2\n",
      "lam #0.lam #1.same_shape(V::#0, V::#1)                  1          0        2\n",
      "lam #0.lam #1.same_size(V::#0, V::#1)                   1          0        2\n",
      "lam #0.filter_color(scene(), V::#0)                     2          1        0\n",
      "lam #0.filter_shape(scene(), V::#0)                     2          1        0\n",
      "unique(scene())                                         2          0        0\n",
      "lam #0.lam #1.unique(filter_color(V::#0, V::#1))        2          1        1\n",
      "lam #0.lam #1.unique(filter_shape(V::#0, V::#1))        2          1        1\n",
      "lam #0.color_of(unique(V::#0))                          2          0        1\n",
      "lam #0.shape_of(unique(V::#0))                          2          0        1\n",
      "lam #0.size_of(unique(V::#0))                           2          0        1\n",
      "lam #0.lam #1.same_color(color_of(V::#0), V::#1)        2          0        2\n",
      "lam #0.lam #1.same_color(V::#1, color_of(V::#0))        2          0        2\n",
      "lam #0.lam #1.same_shape(shape_of(V::#0), V::#1)        2          0        2\n",
      "lam #0.lam #1.same_shape(V::#1, shape_of(V::#0))        2          0        2\n",
      "lam #0.lam #1.same_size(size_of(V::#0), V::#1)          2          0        2\n",
      "lam #0.lam #1.same_size(V::#1, size_of(V::#0))          2          0        2\n"
     ]
    }
   ],
   "source": [
    "from concepts.dsl.dsl_types import FormatContext\n",
    "search_results = semantics_searcher.gen(max_depth=2)\n",
    "\n",
    "# Use the FormatContext to format the function forms in a \"lambda-function\" style.\n",
    "with FormatContext(function_format_lambda=True).as_default():\n",
    "    print(tabulate(\n",
    "        [(s.semantics.value, s.depth, s.nr_constant_arguments, s.nr_variable_arguments) for s in search_results],\n",
    "        headers=['form', 'depth', '#consts', '#vars']\n",
    "    ))"
   ]
  },
  {
   "cell_type": "code",
   "execution_count": 8,
   "id": "89cf95f0",
   "metadata": {},
   "outputs": [],
   "source": [
    "from concepts.language.ccg.grammar import CCG\n",
    "ccg = CCG(domain, ss)\n",
    "ccg.add_entry_simple('red', ss['N/N'], domain.lam(lambda x: domain.f_filter_color(x, 'red')))\n",
    "ccg.add_entry_simple('object', ss['N'], domain.lam(lambda: domain.f_scene()))"
   ]
  },
  {
   "cell_type": "code",
   "execution_count": 9,
   "id": "703b259d",
   "metadata": {},
   "outputs": [
    {
     "name": "stdout",
     "output_type": "stream",
     "text": [
      "Learning results for \"blue\"\n",
      "syntax    semantics                                 parsing (\"blue object\")\n",
      "--------  ----------------------------------------  ----------------------------------------------------------\n",
      "S/N       lam #0.filter_color(V::#0, blue)          filter_color(scene(), V(blue, dtype=concept_name))\n",
      "S/N       lam #0.filter_shape(V::#0, blue)          filter_shape(scene(), V(blue, dtype=concept_name))\n",
      "S/N       lam #0.unique(V::#0)                      unique(scene())\n",
      "S/N       lam #0.unique(filter_color(V::#0, blue))  unique(filter_color(scene(), V(blue, dtype=concept_name)))\n",
      "S/N       lam #0.unique(filter_shape(V::#0, blue))  unique(filter_shape(scene(), V(blue, dtype=concept_name)))\n",
      "S/N       lam #0.color_of(unique(V::#0))            color_of(unique(scene()))\n",
      "S/N       lam #0.shape_of(unique(V::#0))            shape_of(unique(scene()))\n",
      "S/N       lam #0.size_of(unique(V::#0))             size_of(unique(scene()))\n"
     ]
    }
   ],
   "source": [
    "from concepts.language.ccg.learning import by_parsing\n",
    "learning_results = by_parsing(\n",
    "    ccg, 'blue object',\n",
    "    syntax_searcher=syntax_searcher,\n",
    "    semantics_searcher=semantics_searcher,\n",
    "    syntax_searcher_kwargs={'max_depth': 2},\n",
    "    semantics_searcher_kwargs={'max_depth': 2},\n",
    "    bind_concepts=True  # If true, the algorithm will automatically create \"new\" concepts!\n",
    ")\n",
    "\n",
    "# Prettify the learning results\n",
    "learning_results_table = list()\n",
    "for r in learning_results:\n",
    "    assert len(r.words) == 1  # there is only one novel word.\n",
    "    \n",
    "    learning_results_table.append((\n",
    "        r.lexicons[0].syntax, r.lexicons[0].semantics.value, r.parsing_results[0].semantics.value\n",
    "    ))\n",
    "\n",
    "print('Learning results for \"blue\"')\n",
    "with FormatContext(function_format_lambda=True).as_default():\n",
    "    print(tabulate(learning_results_table, headers=['syntax', 'semantics', 'parsing (\"blue object\")']))"
   ]
  },
  {
   "cell_type": "code",
   "execution_count": 10,
   "id": "3c14d6ce",
   "metadata": {},
   "outputs": [],
   "source": [
    "# TODO: Learning with \"by_grounding\""
   ]
  }
 ],
 "metadata": {
  "kernelspec": {
   "display_name": "Python 3 (ipykernel)",
   "language": "python",
   "name": "python3"
  },
  "language_info": {
   "codemirror_mode": {
    "name": "ipython",
    "version": 3
   },
   "file_extension": ".py",
   "mimetype": "text/x-python",
   "name": "python",
   "nbconvert_exporter": "python",
   "pygments_lexer": "ipython3",
   "version": "3.9.10"
  }
 },
 "nbformat": 4,
 "nbformat_minor": 5
}
