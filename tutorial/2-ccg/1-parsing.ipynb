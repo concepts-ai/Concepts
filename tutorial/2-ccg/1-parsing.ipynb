{
 "cells": [
  {
   "cell_type": "markdown",
   "id": "f647ca88",
   "metadata": {},
   "source": [
    "# Tutorial 2.1: Basic Definition of a Combinatory Categorial Grammar"
   ]
  },
  {
   "cell_type": "code",
   "execution_count": 1,
   "id": "7de5c5e0",
   "metadata": {},
   "outputs": [],
   "source": [
    "import jacinle\n",
    "from tabulate import tabulate"
   ]
  },
  {
   "cell_type": "code",
   "execution_count": 2,
   "id": "65ae5011",
   "metadata": {},
   "outputs": [
    {
     "data": {
      "text/plain": [
       "Function<same_size(#0: size, #1: size) -> bool>"
      ]
     },
     "execution_count": 2,
     "metadata": {},
     "output_type": "execute_result"
    }
   ],
   "source": [
    "# From tutorial/1-dsl/1-types-and-functions\n",
    "from concepts.dsl.dsl_types import ValueType, ConstantType, BOOL, FLOAT32, VectorValueType, FormatContext\n",
    "from concepts.dsl.dsl_functions import Function, FunctionTyping\n",
    "from concepts.dsl.function_domain import FunctionDomain\n",
    "\n",
    "t_item = ValueType('item')\n",
    "t_item_set = ValueType('item_set')\n",
    "t_concept_name = ConstantType('concept_name')\n",
    "t_shape = ValueType('shape')\n",
    "t_color = ValueType('color')\n",
    "t_size = VectorValueType(FLOAT32, 3, alias='size')\n",
    "\n",
    "domain = FunctionDomain()\n",
    "domain.define_type(t_item)\n",
    "domain.define_type(t_item_set)\n",
    "domain.define_type(t_concept_name)\n",
    "domain.define_type(t_color)\n",
    "domain.define_type(t_shape)\n",
    "domain.define_type(t_size)\n",
    "domain.define_function(Function('scene', FunctionTyping[t_item_set]()))\n",
    "domain.define_function(Function('filter_color', FunctionTyping[t_item_set](t_item_set, t_concept_name)))\n",
    "domain.define_function(Function('filter_shape', FunctionTyping[t_item_set](t_item_set, t_concept_name)))\n",
    "domain.define_function(Function('unique', FunctionTyping[t_item](t_item_set)))\n",
    "domain.define_function(Function('color_of', FunctionTyping[t_color](t_item)))\n",
    "domain.define_function(Function('shape_of', FunctionTyping[t_shape](t_item)))\n",
    "domain.define_function(Function('size_of', FunctionTyping[t_size](t_item)))\n",
    "domain.define_function(Function('same_color', FunctionTyping[BOOL](t_color, t_color)))\n",
    "domain.define_function(Function('same_shape', FunctionTyping[BOOL](t_shape, t_shape)))\n",
    "domain.define_function(Function('same_size', FunctionTyping[BOOL](t_size, t_size)))"
   ]
  },
  {
   "cell_type": "code",
   "execution_count": 3,
   "id": "7f0de910",
   "metadata": {},
   "outputs": [],
   "source": [
    "from concepts.language.ccg.syntax import CCGPrimitiveSyntaxType, CCGConjSyntaxType"
   ]
  },
  {
   "cell_type": "code",
   "execution_count": 4,
   "id": "f47f2369",
   "metadata": {},
   "outputs": [
    {
     "data": {
      "text/plain": [
       "CCGPrimitiveSyntaxType<N>"
      ]
     },
     "execution_count": 4,
     "metadata": {},
     "output_type": "execute_result"
    }
   ],
   "source": [
    "N = CCGPrimitiveSyntaxType('N')\n",
    "N"
   ]
  },
  {
   "cell_type": "code",
   "execution_count": 5,
   "id": "dafe3d6e",
   "metadata": {},
   "outputs": [
    {
     "data": {
      "text/plain": [
       "CCGPrimitiveSyntaxType<S>"
      ]
     },
     "execution_count": 5,
     "metadata": {},
     "output_type": "execute_result"
    }
   ],
   "source": [
    "S = CCGPrimitiveSyntaxType('S')\n",
    "S"
   ]
  },
  {
   "cell_type": "code",
   "execution_count": 6,
   "id": "8062ef8f",
   "metadata": {},
   "outputs": [
    {
     "data": {
      "text/plain": [
       "CCGComposedSyntaxType<S/N>"
      ]
     },
     "execution_count": 6,
     "metadata": {},
     "output_type": "execute_result"
    }
   ],
   "source": [
    "S_slash_N = S/N\n",
    "S_slash_N"
   ]
  },
  {
   "cell_type": "code",
   "execution_count": 7,
   "id": "cbe6dead",
   "metadata": {},
   "outputs": [
    {
     "name": "stdout",
     "output_type": "stream",
     "text": [
      "CCGPrimitiveSyntaxType<S>\n"
     ]
    }
   ],
   "source": [
    "print(repr(S_slash_N.main))"
   ]
  },
  {
   "cell_type": "code",
   "execution_count": 8,
   "id": "ef2d7a02",
   "metadata": {},
   "outputs": [
    {
     "name": "stdout",
     "output_type": "stream",
     "text": [
      "CCGPrimitiveSyntaxType<N>\n"
     ]
    }
   ],
   "source": [
    "print(repr(S_slash_N.sub))"
   ]
  },
  {
   "cell_type": "code",
   "execution_count": 9,
   "id": "3863bd6f",
   "metadata": {},
   "outputs": [
    {
     "data": {
      "text/plain": [
       "CCGPrimitiveSyntaxType<S>"
      ]
     },
     "execution_count": 9,
     "metadata": {},
     "output_type": "execute_result"
    }
   ],
   "source": [
    "S_slash_N.fapp(N)"
   ]
  },
  {
   "cell_type": "code",
   "execution_count": 10,
   "id": "ce2e0460",
   "metadata": {},
   "outputs": [
    {
     "name": "stdout",
     "output_type": "stream",
     "text": [
      "(Syntax) Cannot make backward application of N and S/N.\n"
     ]
    }
   ],
   "source": [
    "try:\n",
    "    S_slash_N.bapp(N)\n",
    "except Exception as e:\n",
    "    print(e)"
   ]
  },
  {
   "cell_type": "code",
   "execution_count": 11,
   "id": "44907de0",
   "metadata": {},
   "outputs": [
    {
     "data": {
      "text/plain": [
       "CCGComposedSyntaxType<S/N/N>"
      ]
     },
     "execution_count": 11,
     "metadata": {},
     "output_type": "execute_result"
    }
   ],
   "source": [
    "S_slash_N_slash_N = S/N/N\n",
    "S_slash_N_slash_N"
   ]
  },
  {
   "cell_type": "code",
   "execution_count": 12,
   "id": "e6a4584f",
   "metadata": {},
   "outputs": [
    {
     "name": "stdout",
     "output_type": "stream",
     "text": [
      "CCGComposedSyntaxType<S/N>\n"
     ]
    }
   ],
   "source": [
    "print(repr(S_slash_N_slash_N.main))"
   ]
  },
  {
   "cell_type": "code",
   "execution_count": 13,
   "id": "f7605c7b",
   "metadata": {},
   "outputs": [
    {
     "name": "stdout",
     "output_type": "stream",
     "text": [
      "CCGPrimitiveSyntaxType<N>\n"
     ]
    }
   ],
   "source": [
    "print(repr(S_slash_N_slash_N.sub))"
   ]
  },
  {
   "cell_type": "code",
   "execution_count": 14,
   "id": "cb1ad4d0",
   "metadata": {},
   "outputs": [],
   "source": [
    "CONJ = CCGConjSyntaxType('CONJ')"
   ]
  },
  {
   "cell_type": "code",
   "execution_count": 15,
   "id": "7e1bdbb8",
   "metadata": {},
   "outputs": [
    {
     "data": {
      "text/plain": [
       "CCGComposedSyntaxType<S/N>"
      ]
     },
     "execution_count": 15,
     "metadata": {},
     "output_type": "execute_result"
    }
   ],
   "source": [
    "CONJ.coord3(S_slash_N, S_slash_N)"
   ]
  },
  {
   "cell_type": "code",
   "execution_count": 16,
   "id": "75f93298",
   "metadata": {},
   "outputs": [],
   "source": [
    "from concepts.language.ccg.syntax import CCGSyntaxSystem"
   ]
  },
  {
   "cell_type": "code",
   "execution_count": 17,
   "id": "45f51cc0",
   "metadata": {},
   "outputs": [
    {
     "name": "stdout",
     "output_type": "stream",
     "text": [
      "CCGComposedSyntaxType<S/N>\n",
      "CCGComposedSyntaxType<S/N/N>\n",
      "CCGSyntaxSystem(S, N)\n"
     ]
    }
   ],
   "source": [
    "ss = CCGSyntaxSystem()\n",
    "ss.define_primitive_type('S')\n",
    "ss.define_primitive_type('N')\n",
    "print(repr(ss['S/N']))\n",
    "print(repr(ss['S/N/N']))\n",
    "print(ss)"
   ]
  },
  {
   "cell_type": "code",
   "execution_count": 18,
   "id": "14baabcb",
   "metadata": {},
   "outputs": [],
   "source": [
    "from concepts.language.ccg.semantics import CCGSemantics"
   ]
  },
  {
   "cell_type": "code",
   "execution_count": 19,
   "id": "fa273d9f",
   "metadata": {},
   "outputs": [
    {
     "name": "stdout",
     "output_type": "stream",
     "text": [
      "CCGSemantics[scene()]\n",
      "scene()\n",
      "dict{\n",
      "  is_conj: False\n",
      "  is_constant: False\n",
      "  is_function: False\n",
      "  is_function_application: True\n",
      "  is_lazy: False\n",
      "  is_none: False\n",
      "  is_py_function: False\n",
      "  is_value: True\n",
      "}\n"
     ]
    }
   ],
   "source": [
    "sem_object = CCGSemantics(domain.lam(lambda: domain.f_scene()))\n",
    "print(sem_object)\n",
    "print(sem_object.value)\n",
    "jacinle.stprint(sem_object.flags)"
   ]
  },
  {
   "cell_type": "code",
   "execution_count": 20,
   "id": "b0fe5b82",
   "metadata": {},
   "outputs": [
    {
     "name": "stdout",
     "output_type": "stream",
     "text": [
      "CCGSemantics[def __lambda__(x: item_set): return filter_color(V::x, red)]\n",
      "def __lambda__(x: item_set): return filter_color(V::x, red)\n",
      "dict{\n",
      "  is_conj: False\n",
      "  is_constant: False\n",
      "  is_function: True\n",
      "  is_function_application: False\n",
      "  is_lazy: False\n",
      "  is_none: False\n",
      "  is_py_function: False\n",
      "  is_value: False\n",
      "}\n"
     ]
    }
   ],
   "source": [
    "sem_red = CCGSemantics(domain.lam(lambda x: domain.f_filter_color(x, 'red')))\n",
    "print(sem_red)\n",
    "print(sem_red.value)\n",
    "jacinle.stprint(sem_red.flags)"
   ]
  },
  {
   "cell_type": "code",
   "execution_count": 21,
   "id": "8adf284f",
   "metadata": {},
   "outputs": [
    {
     "name": "stdout",
     "output_type": "stream",
     "text": [
      "CCGSemantics[CCGSemanticsLazyValue(composition_type=<CCGCompositionType.FORWARD_APPLICATION: 'forward_application'>, lhs=Function<def __lambda__(x: item_set): return filter_color(V::x, red)>, rhs=FunctionApplicationExpression<scene()>, conj=None)]\n",
      "CCGSemanticsLazyValue(composition_type=<CCGCompositionType.FORWARD_APPLICATION: 'forward_application'>, lhs=Function<def __lambda__(x: item_set): return filter_color(V::x, red)>, rhs=FunctionApplicationExpression<scene()>, conj=None)\n",
      "dict{\n",
      "  is_conj: False\n",
      "  is_constant: None\n",
      "  is_function: None\n",
      "  is_function_application: None\n",
      "  is_lazy: True\n",
      "  is_none: False\n",
      "  is_py_function: False\n",
      "  is_value: None\n",
      "}\n"
     ]
    }
   ],
   "source": [
    "sem_red_object = sem_red.fapp(sem_object)\n",
    "print(sem_red_object)\n",
    "print(sem_red_object.value)\n",
    "jacinle.stprint(sem_red_object.flags)"
   ]
  },
  {
   "cell_type": "code",
   "execution_count": 22,
   "id": "e5e05e2b",
   "metadata": {},
   "outputs": [],
   "source": [
    "from concepts.language.ccg.grammar import CCG"
   ]
  },
  {
   "cell_type": "code",
   "execution_count": 23,
   "id": "4090111d",
   "metadata": {},
   "outputs": [],
   "source": [
    "ccg = CCG(domain, ss)\n",
    "ccg.add_entry_simple('red', ss['N/N'], CCGSemantics(domain.lam(lambda x: domain.f_filter_color(x, 'red'))))\n",
    "ccg.add_entry_simple('object', ss['N'], CCGSemantics(domain.lam(lambda: domain.f_scene())))"
   ]
  },
  {
   "cell_type": "code",
   "execution_count": 24,
   "id": "abb6e80c",
   "metadata": {},
   "outputs": [
    {
     "name": "stdout",
     "output_type": "stream",
     "text": [
      "Combinatory Categorial Grammar\n",
      "  FunctionDomain(FunctionDomain)\n",
      "  CCGSyntaxSystem(S, N)\n",
      "  CCGCompositionSystem(function_application)\n",
      "  Lexicon Entries:\n",
      "    red: Lexicon[syntax=N/N, semantics=def __lambda__(x: item_set): return filter_color(V::x, red), weight=0]\n",
      "    object: Lexicon[syntax=N, semantics=scene(), weight=0]\n",
      "  \n"
     ]
    }
   ],
   "source": [
    "ccg.print_summary()"
   ]
  },
  {
   "cell_type": "code",
   "execution_count": 25,
   "id": "23f78dca",
   "metadata": {},
   "outputs": [
    {
     "name": "stdout",
     "output_type": "stream",
     "text": [
      "word    syntax type    semantic form                    weight\n",
      "------  -------------  -----------------------------  --------\n",
      "red     N/N            lam x.filter_color(V::x, red)         0\n",
      "object  N              scene()                               0\n"
     ]
    }
   ],
   "source": [
    "lexicon_table = list()\n",
    "with FormatContext(function_format_lambda=True).as_default():\n",
    "    for word, entries in ccg.lexicon_entries.items():\n",
    "        for entry in entries:\n",
    "            lexicon_table.append((word, str(entry.syntax), str(entry.semantics.value), str(entry.weight)))\n",
    "print(tabulate(lexicon_table, headers=['word', 'syntax type', 'semantic form', 'weight']))"
   ]
  },
  {
   "cell_type": "code",
   "execution_count": 26,
   "id": "6f5cc9a7",
   "metadata": {},
   "outputs": [
    {
     "name": "stdout",
     "output_type": "stream",
     "text": [
      "make_node('red')\n",
      "CCGNode[\n",
      "  syntax   : N/N\n",
      "  semantics: CCGSemantics[lam x.filter_color(V::x, red)]\n",
      "  weight   : 0\n",
      "]\n",
      "make_node('object')\n",
      "CCGNode[\n",
      "  syntax   : N\n",
      "  semantics: CCGSemantics[scene()]\n",
      "  weight   : 0\n",
      "]\n",
      "compose(node_red, node_object)\n",
      "CCGCompositionResult(composition_type=<CCGCompositionType.FORWARD_APPLICATION: 'forward_application'>, result=CCGNode[\n",
      "  syntax   : N\n",
      "  semantics: CCGSemantics[CCGSemanticsLazyValue(composition_type=<CCGCompositionType.FORWARD_APPLICATION: 'forward_application'>, lhs=Function<lam x.filter_color(V::x, red)>, rhs=FunctionApplicationExpression<scene()>, conj=None)]\n",
      "  weight   : 0\n",
      "])\n"
     ]
    }
   ],
   "source": [
    "node_red = ccg.make_node('red')\n",
    "print(\"make_node('red')\", node_red, sep='\\n')\n",
    "node_object = ccg.make_node('object')\n",
    "print(\"make_node('object')\", node_object, sep='\\n')\n",
    "print(\"compose(node_red, node_object)\", node_red.compose(node_object), sep='\\n')"
   ]
  },
  {
   "cell_type": "code",
   "execution_count": 27,
   "id": "5d083454",
   "metadata": {},
   "outputs": [
    {
     "name": "stdout",
     "output_type": "stream",
     "text": [
      "CCGNode[\n",
      "  syntax   : N\n",
      "  semantics: CCGSemantics[CCGSemanticsLazyValue(composition_type=<CCGCompositionType.FORWARD_APPLICATION: 'forward_application'>, lhs=Function<lam x.filter_color(V::x, red)>, rhs=FunctionApplicationExpression<scene()>, conj=None)]\n",
      "  weight   : 0\n",
      "]\n"
     ]
    }
   ],
   "source": [
    "candidate_parsings = ccg.parse('red object')\n",
    "for node in candidate_parsings:\n",
    "    print(node)"
   ]
  }
 ],
 "metadata": {
  "kernelspec": {
   "display_name": "Python 3 (ipykernel)",
   "language": "python",
   "name": "python3"
  },
  "language_info": {
   "codemirror_mode": {
    "name": "ipython",
    "version": 3
   },
   "file_extension": ".py",
   "mimetype": "text/x-python",
   "name": "python",
   "nbconvert_exporter": "python",
   "pygments_lexer": "ipython3",
   "version": "3.9.10"
  }
 },
 "nbformat": 4,
 "nbformat_minor": 5
}
