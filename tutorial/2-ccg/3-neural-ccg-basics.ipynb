{
 "cells": [
  {
   "cell_type": "markdown",
   "id": "abe1d3d6",
   "metadata": {},
   "source": [
    "# Tutorial 2.3: Basics of Neuro-Symbolic Combinatory Categorial Grammar"
   ]
  },
  {
   "cell_type": "code",
   "execution_count": 1,
   "id": "5aac7804",
   "metadata": {},
   "outputs": [],
   "source": [
    "import jacinle\n",
    "from tabulate import tabulate"
   ]
  },
  {
   "cell_type": "code",
   "execution_count": 2,
   "id": "e503e734",
   "metadata": {},
   "outputs": [
    {
     "data": {
      "text/plain": [
       "Function<same_size(#0: size, #1: size) -> bool>"
      ]
     },
     "execution_count": 2,
     "metadata": {},
     "output_type": "execute_result"
    }
   ],
   "source": [
    "# From tutorial/1-dsl/1-types-and-functions\n",
    "from concepts.dsl.dsl_types import ValueType, ConstantType, BOOL, FLOAT32, VectorValueType\n",
    "from concepts.dsl.dsl_functions import Function, FunctionTyping\n",
    "from concepts.dsl.function_domain import FunctionDomain\n",
    "\n",
    "t_item = ValueType('item')\n",
    "t_item_set = ValueType('item_set')\n",
    "t_concept_name = ConstantType('concept_name')\n",
    "t_shape = ValueType('shape')\n",
    "t_color = ValueType('color')\n",
    "t_size = VectorValueType(FLOAT32, 3, alias='size')\n",
    "\n",
    "domain = FunctionDomain()\n",
    "domain.define_type(t_item)\n",
    "domain.define_type(t_item_set)\n",
    "domain.define_type(t_concept_name)\n",
    "domain.define_type(t_color)\n",
    "domain.define_type(t_shape)\n",
    "domain.define_type(t_size)\n",
    "domain.define_function(Function('scene', FunctionTyping[t_item_set]()))\n",
    "domain.define_function(Function('filter_color', FunctionTyping[t_item_set](t_item_set, t_concept_name)))\n",
    "domain.define_function(Function('filter_shape', FunctionTyping[t_item_set](t_item_set, t_concept_name)))\n",
    "domain.define_function(Function('unique', FunctionTyping[t_item](t_item_set)))\n",
    "domain.define_function(Function('color_of', FunctionTyping[t_color](t_item)))\n",
    "domain.define_function(Function('shape_of', FunctionTyping[t_shape](t_item)))\n",
    "domain.define_function(Function('size_of', FunctionTyping[t_size](t_item)))\n",
    "domain.define_function(Function('same_color', FunctionTyping[BOOL](t_color, t_color)))\n",
    "domain.define_function(Function('same_shape', FunctionTyping[BOOL](t_shape, t_shape)))\n",
    "domain.define_function(Function('same_size', FunctionTyping[BOOL](t_size, t_size)))"
   ]
  },
  {
   "cell_type": "code",
   "execution_count": 3,
   "id": "da0139a5",
   "metadata": {},
   "outputs": [
    {
     "name": "stderr",
     "output_type": "stream",
     "text": [
      "\u001b[32m11 22:40:38 \u001b[0mFunction scene automatically registered.\n",
      "\u001b[32m11 22:40:38 \u001b[0mFunction filter_color automatically registered.\n",
      "\u001b[32m11 22:40:38 \u001b[0mFunction filter_shape automatically registered.\n",
      "\u001b[32m11 22:40:38 \u001b[0mFunction unique automatically registered.\n",
      "\u001b[32m11 22:40:38 \u001b[0mFunction color_of automatically registered.\n",
      "\u001b[32m11 22:40:38 \u001b[0mFunction shape_of automatically registered.\n",
      "\u001b[32m11 22:40:38 \u001b[0mFunction size_of automatically registered.\n",
      "\u001b[32m11 22:40:38 \u001b[0mFunction same_color automatically registered.\n",
      "\u001b[32m11 22:40:38 \u001b[0mFunction same_shape automatically registered.\n",
      "\u001b[32m11 22:40:38 \u001b[0mFunction same_size automatically registered.\n"
     ]
    }
   ],
   "source": [
    "# From tutorial/1-dsl/2-execution\n",
    "from dataclasses import dataclass, field\n",
    "from typing import Tuple, List\n",
    "from concepts.dsl.executors.function_domain_executor import FunctionDomainExecutor\n",
    "\n",
    "@dataclass\n",
    "class Item(object):\n",
    "    color: str\n",
    "    shape: str\n",
    "    size: Tuple[float, float, float]\n",
    "\n",
    "        \n",
    "@dataclass\n",
    "class Scene(object):\n",
    "    items: List[Item]\n",
    "        \n",
    "class Executor(FunctionDomainExecutor):\n",
    "    def scene(self):\n",
    "        return self.grounding.items\n",
    "    def filter_color(self, inputs, color_name):\n",
    "        return [o for o in inputs if o.color == color_name]\n",
    "    def filter_shape(self, inputs, shape_name):\n",
    "        return [o for o in inputs if o.shape == shape_name]\n",
    "    def unique(self, inputs):\n",
    "        assert len(inputs) == 1\n",
    "        return inputs[0]\n",
    "    def color_of(self, obj):\n",
    "        return obj.color\n",
    "    def shape_of(self, obj):\n",
    "        return obj.shape\n",
    "    def size_of(self, obj):\n",
    "        return obj.size\n",
    "    def same_color(self, c1, c2):\n",
    "        return c1 == c2\n",
    "    def same_shape(self, s1, s2):\n",
    "        return s1 == s2\n",
    "    def same_size(self, z1, z2):\n",
    "        return all(abs(sz1 - sz2) < 0.1 for sz1, sz2 in zip(z1, z2))\n",
    "    \n",
    "executor = Executor(domain)"
   ]
  },
  {
   "cell_type": "code",
   "execution_count": 4,
   "id": "75a347ac",
   "metadata": {},
   "outputs": [],
   "source": [
    "from concepts.language.ccg.composition import CCGCompositionType\n",
    "from concepts.language.neural_ccg.grammar import NeuralCCGSyntaxType, NeuralCCGConjSyntaxType\n",
    "from concepts.language.neural_ccg.grammar import NeuralCCGSemantics, NeuralCCGGroundingFunction"
   ]
  },
  {
   "cell_type": "code",
   "execution_count": 5,
   "id": "72701964",
   "metadata": {},
   "outputs": [
    {
     "data": {
      "text/plain": [
       "[(NeuralCCGSyntaxType<item_set/item_set>,\n",
       "  Function<def filter_color(#0: item_set, #1: concept_name): return filter_color(V::#0, V::#1)>),\n",
       " (NeuralCCGSyntaxType<item_set\\item_set>,\n",
       "  Function<def filter_color(#0: item_set, #1: concept_name): return filter_color(V::#0, V::#1)>)]"
      ]
     },
     "execution_count": 5,
     "metadata": {},
     "output_type": "execute_result"
    }
   ],
   "source": [
    "candidate_syntax_types = list(NeuralCCGSyntaxType.iter_from_function(domain.f_filter_color, nr_used_arguments=1))\n",
    "candidate_syntax_types"
   ]
  },
  {
   "cell_type": "code",
   "execution_count": 6,
   "id": "4107c90e",
   "metadata": {},
   "outputs": [
    {
     "name": "stdout",
     "output_type": "stream",
     "text": [
      "item_set (ValueType<item_set>,) (LinearizationTuple(index=0, direction=<CCGCompositionDirection.RIGHT: 'right'>),)\n",
      "item_set () ()\n"
     ]
    }
   ],
   "source": [
    "syn1 = candidate_syntax_types[0][0]\n",
    "syn2 = NeuralCCGSyntaxType(domain.t_item_set)\n",
    "print(syn1.return_type, syn1.argument_types, syn1.linearization)\n",
    "print(syn2.return_type, syn2.argument_types, syn2.linearization)"
   ]
  },
  {
   "cell_type": "code",
   "execution_count": 7,
   "id": "e2520fe4",
   "metadata": {},
   "outputs": [
    {
     "data": {
      "text/plain": [
       "NeuralCCGSyntaxType<item_set>"
      ]
     },
     "execution_count": 7,
     "metadata": {},
     "output_type": "execute_result"
    }
   ],
   "source": [
    "syn1.compose(syn2, CCGCompositionType.FORWARD_APPLICATION)"
   ]
  },
  {
   "cell_type": "code",
   "execution_count": 8,
   "id": "7c4f4dc9",
   "metadata": {},
   "outputs": [],
   "source": [
    "syn3 = NeuralCCGConjSyntaxType('AND')"
   ]
  },
  {
   "cell_type": "code",
   "execution_count": 9,
   "id": "d3c9b34a",
   "metadata": {},
   "outputs": [
    {
     "data": {
      "text/plain": [
       "CCGCoordinationImmNode(conj=NeuralCCGConjSyntaxType<AND>, rhs=NeuralCCGSyntaxType<item_set/item_set>)"
      ]
     },
     "execution_count": 9,
     "metadata": {},
     "output_type": "execute_result"
    }
   ],
   "source": [
    "# syn1 (syn3 syn1)\n",
    "syn3.compose(syn1, CCGCompositionType.COORDINATION)"
   ]
  },
  {
   "cell_type": "code",
   "execution_count": 10,
   "id": "1ae3af69",
   "metadata": {},
   "outputs": [
    {
     "data": {
      "text/plain": [
       "NeuralCCGSyntaxType<item_set/item_set>"
      ]
     },
     "execution_count": 10,
     "metadata": {},
     "output_type": "execute_result"
    }
   ],
   "source": [
    "# (syn1 (syn3 syn1))\n",
    "syn1.compose(syn3.compose(syn1, CCGCompositionType.COORDINATION), CCGCompositionType.COORDINATION)"
   ]
  },
  {
   "cell_type": "code",
   "execution_count": 11,
   "id": "fad5963f",
   "metadata": {},
   "outputs": [],
   "source": [
    "from concepts.dsl.learning.function_domain_search import FunctionDomainExpressionEnumerativeSearcher\n",
    "from concepts.language.neural_ccg.search import NeuralCCGLexiconEnumerativeSearcher"
   ]
  },
  {
   "cell_type": "code",
   "execution_count": 12,
   "id": "43bd2d4c",
   "metadata": {},
   "outputs": [],
   "source": [
    "expression_searcher = FunctionDomainExpressionEnumerativeSearcher(domain)\n",
    "candidate_expressions = expression_searcher.gen()"
   ]
  },
  {
   "cell_type": "code",
   "execution_count": 13,
   "id": "d6975cf5",
   "metadata": {},
   "outputs": [
    {
     "name": "stdout",
     "output_type": "stream",
     "text": [
      "def __lambda__(): return scene()\n",
      "def __lambda__(#0: item_set, #1: concept_name): return filter_color(V::#0, V::#1)\n",
      "def __lambda__(#0: item_set, #1: concept_name): return filter_shape(V::#0, V::#1)\n",
      "def __lambda__(#0: item_set): return unique(V::#0)\n",
      "def __lambda__(#0: item): return color_of(V::#0)\n",
      "def __lambda__(#0: item): return shape_of(V::#0)\n",
      "def __lambda__(#0: item): return size_of(V::#0)\n",
      "def __lambda__(#0: color, #1: color): return same_color(V::#0, V::#1)\n",
      "def __lambda__(#0: shape, #1: shape): return same_shape(V::#0, V::#1)\n",
      "def __lambda__(#0: size, #1: size): return same_size(V::#0, V::#1)\n",
      "def __lambda__(#0: concept_name): return filter_color(scene(), V::#0)\n",
      "def __lambda__(#0: concept_name): return filter_shape(scene(), V::#0)\n",
      "def __lambda__(): return unique(scene())\n",
      "def __lambda__(#0: item_set, #1: concept_name): return unique(filter_color(V::#0, V::#1))\n",
      "def __lambda__(#0: item_set, #1: concept_name): return unique(filter_shape(V::#0, V::#1))\n",
      "def __lambda__(#0: item_set): return color_of(unique(V::#0))\n",
      "def __lambda__(#0: item_set): return shape_of(unique(V::#0))\n",
      "def __lambda__(#0: item_set): return size_of(unique(V::#0))\n",
      "def __lambda__(#0: item, #1: color): return same_color(color_of(V::#0), V::#1)\n",
      "def __lambda__(#0: color, #1: item): return same_color(V::#0, color_of(V::#1))\n",
      "def __lambda__(#0: item, #1: shape): return same_shape(shape_of(V::#0), V::#1)\n",
      "def __lambda__(#0: shape, #1: item): return same_shape(V::#0, shape_of(V::#1))\n",
      "def __lambda__(#0: item, #1: size): return same_size(size_of(V::#0), V::#1)\n",
      "def __lambda__(#0: size, #1: item): return same_size(V::#0, size_of(V::#1))\n",
      "def __lambda__(#0: concept_name): return unique(filter_color(scene(), V::#0))\n",
      "def __lambda__(#0: concept_name): return unique(filter_shape(scene(), V::#0))\n",
      "def __lambda__(): return color_of(unique(scene()))\n",
      "def __lambda__(#0: item_set, #1: concept_name): return color_of(unique(filter_color(V::#0, V::#1)))\n",
      "def __lambda__(#0: item_set, #1: concept_name): return color_of(unique(filter_shape(V::#0, V::#1)))\n",
      "def __lambda__(): return shape_of(unique(scene()))\n",
      "def __lambda__(#0: item_set, #1: concept_name): return shape_of(unique(filter_color(V::#0, V::#1)))\n",
      "def __lambda__(#0: item_set, #1: concept_name): return shape_of(unique(filter_shape(V::#0, V::#1)))\n",
      "def __lambda__(): return size_of(unique(scene()))\n",
      "def __lambda__(#0: item_set, #1: concept_name): return size_of(unique(filter_color(V::#0, V::#1)))\n",
      "def __lambda__(#0: item_set, #1: concept_name): return size_of(unique(filter_shape(V::#0, V::#1)))\n",
      "def __lambda__(#0: item_set, #1: color): return same_color(color_of(unique(V::#0)), V::#1)\n",
      "def __lambda__(#0: color, #1: item_set): return same_color(V::#0, color_of(unique(V::#1)))\n",
      "def __lambda__(#0: item_set, #1: shape): return same_shape(shape_of(unique(V::#0)), V::#1)\n",
      "def __lambda__(#0: shape, #1: item_set): return same_shape(V::#0, shape_of(unique(V::#1)))\n",
      "def __lambda__(#0: item_set, #1: size): return same_size(size_of(unique(V::#0)), V::#1)\n",
      "def __lambda__(#0: size, #1: item_set): return same_size(V::#0, size_of(unique(V::#1)))\n",
      "def __lambda__(#0: item, #1: item): return same_color(color_of(V::#0), color_of(V::#1))\n",
      "def __lambda__(#0: item, #1: item): return same_shape(shape_of(V::#0), shape_of(V::#1))\n",
      "def __lambda__(#0: item, #1: item): return same_size(size_of(V::#0), size_of(V::#1))\n"
     ]
    }
   ],
   "source": [
    "for result in candidate_expressions:\n",
    "    print(result.expression)"
   ]
  },
  {
   "cell_type": "code",
   "execution_count": 14,
   "id": "10ebc5bf",
   "metadata": {},
   "outputs": [],
   "source": [
    "lexicon_searcher = NeuralCCGLexiconEnumerativeSearcher(candidate_expressions, executor)\n",
    "candidate_lexicon_entries = lexicon_searcher.gen()"
   ]
  },
  {
   "cell_type": "code",
   "execution_count": 15,
   "id": "60aad004",
   "metadata": {},
   "outputs": [
    {
     "name": "stdout",
     "output_type": "stream",
     "text": [
      "syntax             semantics\n",
      "-----------------  ---------------------------------------------------------------------------------\n",
      "item_set           def __lambda__(): return scene()\n",
      "item_set/item_set  def __lambda__(#0: item_set, #1: concept_name): return filter_color(V::#0, V::#1)\n",
      "item_set\\item_set  def __lambda__(#0: item_set, #1: concept_name): return filter_color(V::#0, V::#1)\n",
      "item_set/item_set  def __lambda__(#0: item_set, #1: concept_name): return filter_shape(V::#0, V::#1)\n",
      "item_set\\item_set  def __lambda__(#0: item_set, #1: concept_name): return filter_shape(V::#0, V::#1)\n",
      "item/item_set      def __lambda__(#0: item_set): return unique(V::#0)\n",
      "item\\item_set      def __lambda__(#0: item_set): return unique(V::#0)\n",
      "color/item         def __lambda__(#0: item): return color_of(V::#0)\n",
      "color\\item         def __lambda__(#0: item): return color_of(V::#0)\n",
      "shape/item         def __lambda__(#0: item): return shape_of(V::#0)\n",
      "shape\\item         def __lambda__(#0: item): return shape_of(V::#0)\n",
      "size/item          def __lambda__(#0: item): return size_of(V::#0)\n",
      "size\\item          def __lambda__(#0: item): return size_of(V::#0)\n",
      "bool/color/color   def __lambda__(#0: color, #1: color): return same_color(V::#1, V::#0)\n",
      "bool\\color/color   def __lambda__(#0: color, #1: color): return same_color(V::#1, V::#0)\n",
      "bool\\color\\color   def __lambda__(#0: color, #1: color): return same_color(V::#1, V::#0)\n",
      "bool/color/color   def __lambda__(#0: color, #1: color): return same_color(V::#0, V::#1)\n",
      "bool\\color/color   def __lambda__(#0: color, #1: color): return same_color(V::#0, V::#1)\n",
      "bool\\color\\color   def __lambda__(#0: color, #1: color): return same_color(V::#0, V::#1)\n",
      "bool/shape/shape   def __lambda__(#0: shape, #1: shape): return same_shape(V::#1, V::#0)\n",
      "In total: 151 lexicon entries.\n"
     ]
    }
   ],
   "source": [
    "candidate_lexicon_entries_table = list()\n",
    "for result in candidate_lexicon_entries[:20]:\n",
    "    candidate_lexicon_entries_table.append((str(result.syntax), str(result.semantics)))\n",
    "print(tabulate(candidate_lexicon_entries_table, headers=['syntax', 'semantics']))\n",
    "\n",
    "print(f'In total: {len(candidate_lexicon_entries)} lexicon entries.')"
   ]
  }
 ],
 "metadata": {
  "kernelspec": {
   "display_name": "Python 3 (ipykernel)",
   "language": "python",
   "name": "python3"
  },
  "language_info": {
   "codemirror_mode": {
    "name": "ipython",
    "version": 3
   },
   "file_extension": ".py",
   "mimetype": "text/x-python",
   "name": "python",
   "nbconvert_exporter": "python",
   "pygments_lexer": "ipython3",
   "version": "3.9.10"
  }
 },
 "nbformat": 4,
 "nbformat_minor": 5
}
