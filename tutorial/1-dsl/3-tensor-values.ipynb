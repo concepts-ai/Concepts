{
 "cells": [
  {
   "cell_type": "markdown",
   "id": "2f0bd07e",
   "metadata": {},
   "source": [
    "# Tutorial 1.3: Using Tensor-Typed Value Objects and States in a DSL"
   ]
  },
  {
   "cell_type": "code",
   "execution_count": 1,
   "id": "54d21d3f",
   "metadata": {},
   "outputs": [],
   "source": [
    "import torch\n",
    "\n",
    "from concepts.dsl.dsl_types import BOOL, INT64, FLOAT32, ObjectType, VectorValueType, Variable\n",
    "from concepts.dsl.dsl_functions import Function, FunctionType\n",
    "from concepts.dsl.function_domain import FunctionDomain\n",
    "from concepts.dsl.expression import VariableExpression, FunctionApplicationExpression\n",
    "from concepts.dsl.tensor_value import TensorValue, from_tensor\n",
    "from concepts.dsl.tensor_state import NamedObjectTensorState\n",
    "from concepts.dsl.executors.tensor_value_executor import FunctionDomainTensorValueExecutor\n",
    "\n",
    "# See the documentation for TensorState for more details.\n",
    "domain = FunctionDomain()\n",
    "# Define an object type `person`.\n",
    "domain.define_type(ObjectType('person'))\n",
    "# Define a state variable `is_friend` with type `person x person -> bool`.\n",
    "domain.define_function(Function('is_friend', FunctionType([ObjectType('person'), ObjectType('person')], BOOL)))\n",
    "\n",
    "state = NamedObjectTensorState({\n",
    "    'is_friend': TensorValue(BOOL, ['x', 'y'], torch.tensor([[1, 1, 1], [1, 1, 0], [1, 0, 1]], dtype=torch.bool))\n",
    "}, object_names={\n",
    "    'Alice': ObjectType('person'),\n",
    "    'Bob': ObjectType('person'),\n",
    "    'Charlie': ObjectType('person'),\n",
    "})\n",
    "executor = FunctionDomainTensorValueExecutor(domain)"
   ]
  },
  {
   "cell_type": "code",
   "execution_count": 2,
   "id": "ba609dd5",
   "metadata": {},
   "outputs": [
    {
     "data": {
      "text/plain": [
       "{'person': {'x': StateObjectReference(name='Alice', index=0)}}"
      ]
     },
     "execution_count": 2,
     "metadata": {},
     "output_type": "execute_result"
    }
   ],
   "source": [
    "from concepts.dsl.executors.tensor_value_executor import compose_bvdict\n",
    "compose_bvdict({'x': 'Alice'}, state)"
   ]
  },
  {
   "cell_type": "code",
   "execution_count": 3,
   "id": "8d6ff85d",
   "metadata": {},
   "outputs": [
    {
     "data": {
      "text/plain": [
       "FunctionApplicationExpression<is_friend(V::x, V::y)>"
      ]
     },
     "execution_count": 3,
     "metadata": {},
     "output_type": "execute_result"
    }
   ],
   "source": [
    "x = VariableExpression(Variable('x', ObjectType('person')))\n",
    "y = VariableExpression(Variable('y', ObjectType('person')))\n",
    "relation = FunctionApplicationExpression(domain.functions['is_friend'], [x, y])\n",
    "relation"
   ]
  },
  {
   "cell_type": "code",
   "execution_count": 4,
   "id": "2597811d",
   "metadata": {
    "scrolled": true
   },
   "outputs": [
    {
     "data": {
      "text/plain": [
       "Value[bool, axes=[], tdtype=torch.bool, tdshape=(), quantized]{tensor(True)}"
      ]
     },
     "execution_count": 4,
     "metadata": {},
     "output_type": "execute_result"
    }
   ],
   "source": [
    "executor.execute(relation, state, {'x': 'Alice', 'y': 'Bob'})"
   ]
  },
  {
   "cell_type": "code",
   "execution_count": 5,
   "id": "dd8eafa9",
   "metadata": {},
   "outputs": [
    {
     "data": {
      "text/plain": [
       "Value[bool, axes=[], tdtype=torch.bool, tdshape=(), quantized]{tensor(True)}"
      ]
     },
     "execution_count": 5,
     "metadata": {},
     "output_type": "execute_result"
    }
   ],
   "source": [
    "executor.execute('is_friend(x, y)', state, {'x': 'Alice', 'y': 'Bob'})"
   ]
  },
  {
   "cell_type": "code",
   "execution_count": 6,
   "id": "ff52d815",
   "metadata": {},
   "outputs": [
    {
     "data": {
      "text/plain": [
       "Value[bool, axes=[], tdtype=torch.bool, tdshape=(), quantized]{tensor(True)}"
      ]
     },
     "execution_count": 6,
     "metadata": {},
     "output_type": "execute_result"
    }
   ],
   "source": [
    "executor.execute('is_friend(x, \"Charlie\")', state, {'x': 'Alice', 'y': 'Bob'})"
   ]
  }
 ],
 "metadata": {
  "kernelspec": {
   "display_name": "Python 3 (ipykernel)",
   "language": "python",
   "name": "python3"
  },
  "language_info": {
   "codemirror_mode": {
    "name": "ipython",
    "version": 3
   },
   "file_extension": ".py",
   "mimetype": "text/x-python",
   "name": "python",
   "nbconvert_exporter": "python",
   "pygments_lexer": "ipython3",
   "version": "3.9.10"
  }
 },
 "nbformat": 4,
 "nbformat_minor": 5
}
