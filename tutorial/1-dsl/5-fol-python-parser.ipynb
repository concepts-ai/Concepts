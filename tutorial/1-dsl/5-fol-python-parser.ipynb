{
 "cells": [
  {
   "cell_type": "markdown",
   "id": "b300cde4",
   "metadata": {},
   "source": [
    "# Tutorial 1.5: Using Python Syntax to Write FOL Expressions"
   ]
  },
  {
   "cell_type": "code",
   "execution_count": 1,
   "id": "43c1f240",
   "metadata": {},
   "outputs": [],
   "source": [
    "import inspect"
   ]
  },
  {
   "cell_type": "code",
   "execution_count": 2,
   "id": "2ccc1879",
   "metadata": {},
   "outputs": [],
   "source": [
    "class Person: ...\n",
    "\n",
    "def is_grandfather(x: Person, y: Person) -> bool:\n",
    "  # x is the grandfather of y\n",
    "  return exists(Person, lambda z: is_father(x, z) and is_parent(y, z))"
   ]
  },
  {
   "cell_type": "code",
   "execution_count": 3,
   "id": "818000ef",
   "metadata": {},
   "outputs": [],
   "source": [
    "from concepts.dsl.dsl_types import ObjectType, Variable\n",
    "from concepts.dsl.function_domain import FunctionDomain"
   ]
  },
  {
   "cell_type": "code",
   "execution_count": 4,
   "id": "70d0c362",
   "metadata": {},
   "outputs": [
    {
     "name": "stdout",
     "output_type": "stream",
     "text": [
      "TypeSystem: FunctionDomain\n",
      "  Types:\n",
      "    Person\n",
      "  Constants:\n",
      "  Functions:\n"
     ]
    }
   ],
   "source": [
    "domain = FunctionDomain()\n",
    "domain.define_type(ObjectType('Person'))\n",
    "domain.print_summary()"
   ]
  },
  {
   "cell_type": "code",
   "execution_count": 5,
   "id": "0024191c",
   "metadata": {},
   "outputs": [],
   "source": [
    "from concepts.dsl.parsers.fol_python_parser import FOLPythonParser\n",
    "parser = FOLPythonParser(domain, inplace_definition=True)"
   ]
  },
  {
   "cell_type": "code",
   "execution_count": 6,
   "id": "d3f87355",
   "metadata": {},
   "outputs": [
    {
     "name": "stdout",
     "output_type": "stream",
     "text": [
      "Input string:\n",
      "is_father(x, y) or is_mother(x, y)\n",
      "\n",
      "Parsed expression:\n",
      "OrExpression<or(is_father(V::x, V::y), is_mother(V::x, V::y))>\n"
     ]
    }
   ],
   "source": [
    "parent_string = 'is_father(x, y) or is_mother(x, y)'\n",
    "expression = parser.parse_expression(\n",
    "    parent_string,\n",
    "    [Variable('x', domain.types['Person']), Variable('y', domain.types['Person'])]\n",
    ")\n",
    "\n",
    "print('Input string:')\n",
    "print(parent_string)\n",
    "\n",
    "print('\\nParsed expression:')\n",
    "print(repr(expression))"
   ]
  },
  {
   "cell_type": "code",
   "execution_count": 7,
   "id": "da2988af",
   "metadata": {},
   "outputs": [
    {
     "name": "stdout",
     "output_type": "stream",
     "text": [
      "Input string:\n",
      "def is_grandfather(x: Person, y: Person) -> bool:\n",
      "  # x is the grandfather of y\n",
      "  return exists(Person, lambda z: is_father(x, z) and is_parent(y, z))\n",
      "\n",
      "\n",
      "Parsed concepts.dsl.dsl_functions.Function object:\n",
      "Function<def is_grandfather(x: Person, y: Person): return exists(z: Person: and(is_father(V::x, V::z), is_parent(V::y, V::z)))>\n",
      "\n",
      "Derived expression:\n",
      "ExistsExpression<exists(z: Person: and(is_father(V::x, V::z), is_parent(V::y, V::z)))>\n"
     ]
    }
   ],
   "source": [
    "grandfather_string = inspect.getsource(is_grandfather)\n",
    "function = parser.parse_function(grandfather_string)\n",
    "\n",
    "print('Input string:')\n",
    "print(grandfather_string)\n",
    "\n",
    "print('\\nParsed concepts.dsl.dsl_functions.Function object:')\n",
    "print(repr(function))\n",
    "\n",
    "print('\\nDerived expression:')\n",
    "print(repr(function.derived_expression))"
   ]
  },
  {
   "cell_type": "code",
   "execution_count": 8,
   "id": "d5ded3ec",
   "metadata": {},
   "outputs": [
    {
     "name": "stdout",
     "output_type": "stream",
     "text": [
      "Automatically registered functions:\n",
      "TypeSystem: FunctionDomain\n",
      "  Types:\n",
      "    Person\n",
      "  Constants:\n",
      "  Functions:\n",
      "    is_father(#0: Person, #1: Person) -> bool\n",
      "    is_mother(#0: Person, #1: Person) -> bool\n",
      "    is_parent(#0: Person, #1: Person) -> bool\n"
     ]
    }
   ],
   "source": [
    "print('Automatically registered functions:')\n",
    "domain.print_summary()"
   ]
  }
 ],
 "metadata": {
  "kernelspec": {
   "display_name": "Python 3 (ipykernel)",
   "language": "python",
   "name": "python3"
  },
  "language_info": {
   "codemirror_mode": {
    "name": "ipython",
    "version": 3
   },
   "file_extension": ".py",
   "mimetype": "text/x-python",
   "name": "python",
   "nbconvert_exporter": "python",
   "pygments_lexer": "ipython3",
   "version": "3.9.10"
  }
 },
 "nbformat": 4,
 "nbformat_minor": 5
}
