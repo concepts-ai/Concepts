{
 "cells": [
  {
   "cell_type": "markdown",
   "id": "285aad46",
   "metadata": {},
   "source": [
    "# Tutorial 1.4: Use Enumerative Search to Learn a Function"
   ]
  },
  {
   "cell_type": "code",
   "execution_count": 1,
   "id": "c597bbba",
   "metadata": {},
   "outputs": [],
   "source": [
    "# From tutorial/1-dsl/1-types-and-functions\n",
    "from concepts.dsl.dsl_types import ValueType, ConstantType, BOOL, FLOAT32, INT64, VectorValueType, FormatContext\n",
    "from concepts.dsl.dsl_functions import Function, FunctionTyping\n",
    "from concepts.dsl.function_domain import FunctionDomain\n",
    "\n",
    "t_item = ValueType('item')\n",
    "t_item_set = ValueType('item_set')\n",
    "t_concept_name = ConstantType('concept_name')\n",
    "t_shape = ValueType('shape')\n",
    "t_color = ValueType('color')\n",
    "t_size = VectorValueType(FLOAT32, 3, alias='size')\n",
    "t_int = INT64\n",
    "\n",
    "domain = FunctionDomain()\n",
    "domain.define_type(t_item)\n",
    "domain.define_type(t_item_set)\n",
    "domain.define_type(t_concept_name)\n",
    "domain.define_type(t_color)\n",
    "domain.define_type(t_shape)\n",
    "domain.define_type(t_size)\n",
    "domain.define_function(Function('scene', FunctionTyping[t_item_set]()))\n",
    "domain.define_function(Function('filter_color', FunctionTyping[t_item_set](t_item_set, t_concept_name)))\n",
    "domain.define_function(Function('filter_shape', FunctionTyping[t_item_set](t_item_set, t_concept_name)))\n",
    "domain.define_function(Function('unique', FunctionTyping[t_item](t_item_set)))\n",
    "domain.define_function(Function('color_of', FunctionTyping[t_color](t_item)))\n",
    "domain.define_function(Function('shape_of', FunctionTyping[t_shape](t_item)))\n",
    "domain.define_function(Function('size_of', FunctionTyping[t_size](t_item)))\n",
    "domain.define_function(Function('same_color', FunctionTyping[BOOL](t_color, t_color)))\n",
    "domain.define_function(Function('same_shape', FunctionTyping[BOOL](t_shape, t_shape)))\n",
    "domain.define_function(Function('same_size', FunctionTyping[BOOL](t_size, t_size)))\n",
    "domain.define_function(Function('count', FunctionTyping[t_int](t_item_set)))\n",
    "\n",
    "domain.define_const(t_concept_name, 'box')\n",
    "domain.define_const(t_concept_name, 'sphere')\n",
    "domain.define_const(t_concept_name, 'red')\n",
    "domain.define_const(t_concept_name, 'blue')\n",
    "domain.define_const(t_concept_name, 'green')"
   ]
  },
  {
   "cell_type": "code",
   "execution_count": 2,
   "id": "5c9aaec1",
   "metadata": {},
   "outputs": [
    {
     "name": "stderr",
     "output_type": "stream",
     "text": [
      "\u001b[32m15 16:55:46 \u001b[0mFunction scene automatically registered.\n",
      "\u001b[32m15 16:55:46 \u001b[0mFunction filter_color automatically registered.\n",
      "\u001b[32m15 16:55:46 \u001b[0mFunction filter_shape automatically registered.\n",
      "\u001b[32m15 16:55:46 \u001b[0mFunction unique automatically registered.\n",
      "\u001b[32m15 16:55:46 \u001b[0mFunction color_of automatically registered.\n",
      "\u001b[32m15 16:55:46 \u001b[0mFunction shape_of automatically registered.\n",
      "\u001b[32m15 16:55:46 \u001b[0mFunction size_of automatically registered.\n",
      "\u001b[32m15 16:55:46 \u001b[0mFunction same_color automatically registered.\n",
      "\u001b[32m15 16:55:46 \u001b[0mFunction same_shape automatically registered.\n",
      "\u001b[32m15 16:55:46 \u001b[0mFunction same_size automatically registered.\n",
      "\u001b[32m15 16:55:46 \u001b[0mFunction count automatically registered.\n"
     ]
    }
   ],
   "source": [
    "# From tutorial/1-dsl/2-execution\n",
    "from dataclasses import dataclass, field\n",
    "from typing import Tuple, List\n",
    "from concepts.dsl.executors.function_domain_executor import FunctionDomainExecutor\n",
    "\n",
    "@dataclass\n",
    "class Item(object):\n",
    "    color: str\n",
    "    shape: str\n",
    "    size: Tuple[float, float, float]\n",
    "\n",
    "        \n",
    "@dataclass\n",
    "class Scene(object):\n",
    "    items: List[Item]\n",
    "        \n",
    "class Executor(FunctionDomainExecutor):\n",
    "    def scene(self):\n",
    "        return self.grounding.items\n",
    "    def filter_color(self, inputs, color_name):\n",
    "        return [o for o in inputs if o.color == color_name]\n",
    "    def filter_shape(self, inputs, shape_name):\n",
    "        return [o for o in inputs if o.shape == shape_name]\n",
    "    def unique(self, inputs):\n",
    "        assert len(inputs) == 1\n",
    "        return inputs[0]\n",
    "    def color_of(self, obj):\n",
    "        return obj.color\n",
    "    def shape_of(self, obj):\n",
    "        return obj.shape\n",
    "    def size_of(self, obj):\n",
    "        return obj.size\n",
    "    def same_color(self, c1, c2):\n",
    "        return c1 == c2\n",
    "    def same_shape(self, s1, s2):\n",
    "        return s1 == s2\n",
    "    def same_size(self, z1, z2):\n",
    "        return all(abs(sz1 - sz2) < 0.1 for sz1, sz2 in zip(z1, z2))\n",
    "    def count(self, inputs):\n",
    "        return len(inputs)\n",
    "    \n",
    "executor = Executor(domain)"
   ]
  },
  {
   "cell_type": "code",
   "execution_count": 3,
   "id": "1651a4ff",
   "metadata": {},
   "outputs": [],
   "source": [
    "scene1 = Scene([\n",
    "    Item('red', 'box', (1, 1, 1)),\n",
    "    Item('blue', 'box', (1, 1, 1)),\n",
    "    Item('green', 'box', (2, 2, 2))\n",
    "])\n",
    "scene2 = Scene([\n",
    "    Item('red', 'box', (1, 1, 1)),\n",
    "    Item('red', 'box', (1, 1, 1)),\n",
    "])"
   ]
  },
  {
   "cell_type": "code",
   "execution_count": 4,
   "id": "6924b520",
   "metadata": {},
   "outputs": [
    {
     "name": "stdout",
     "output_type": "stream",
     "text": [
      "count(filter_color(scene(), V(red, dtype=concept_name)))\n",
      "scene1: V(1, dtype=int64)\n",
      "scene2: V(2, dtype=int64)\n"
     ]
    }
   ],
   "source": [
    "target_expr = domain.f_count(domain.f_filter_color(domain.f_scene(), 'red'))\n",
    "\n",
    "print(target_expr)\n",
    "print('scene1:', executor.execute(target_expr, grounding=scene1))\n",
    "print('scene2:', executor.execute(target_expr, grounding=scene2))"
   ]
  },
  {
   "cell_type": "code",
   "execution_count": 5,
   "id": "9afe9565",
   "metadata": {},
   "outputs": [],
   "source": [
    "from concepts.dsl.learning.function_domain_search import FunctionDomainExpressionEnumerativeSearcher"
   ]
  },
  {
   "cell_type": "code",
   "execution_count": 6,
   "id": "5eb372ad",
   "metadata": {},
   "outputs": [
    {
     "name": "stdout",
     "output_type": "stream",
     "text": [
      "count(scene())\n",
      "count(filter_color(scene(), V(box, dtype=concept_name)))\n",
      "count(filter_color(scene(), V(sphere, dtype=concept_name)))\n",
      "count(filter_color(scene(), V(red, dtype=concept_name)))\n",
      "count(filter_color(scene(), V(blue, dtype=concept_name)))\n",
      "count(filter_color(scene(), V(green, dtype=concept_name)))\n",
      "count(filter_shape(scene(), V(box, dtype=concept_name)))\n",
      "count(filter_shape(scene(), V(sphere, dtype=concept_name)))\n",
      "count(filter_shape(scene(), V(red, dtype=concept_name)))\n",
      "count(filter_shape(scene(), V(blue, dtype=concept_name)))\n",
      "count(filter_shape(scene(), V(green, dtype=concept_name)))\n",
      "In total: 11 candidate expressions.\n"
     ]
    }
   ],
   "source": [
    "enumerator = FunctionDomainExpressionEnumerativeSearcher(domain)\n",
    "candidate_expressions = enumerator.gen_function_application_expressions(\n",
    "    return_type=t_int,\n",
    "    max_depth=3,\n",
    "    search_constants=True\n",
    ")\n",
    "with FormatContext(function_format_lambda=True).as_default():\n",
    "    for x in candidate_expressions:\n",
    "        print(x.expression)\n",
    "print(f'In total: {len(candidate_expressions)} candidate expressions.')"
   ]
  },
  {
   "cell_type": "code",
   "execution_count": 7,
   "id": "a59321cc",
   "metadata": {},
   "outputs": [],
   "source": [
    "from concepts.dsl.learning.function_domain_search import learn_expression_from_examples"
   ]
  },
  {
   "cell_type": "code",
   "execution_count": 8,
   "id": "8981cff3",
   "metadata": {},
   "outputs": [],
   "source": [
    "io_examples = [\n",
    "    ([], executor.execute(target_expr, grounding=scene1), scene1),\n",
    "    ([], executor.execute(target_expr, grounding=scene2), scene2)\n",
    "]"
   ]
  },
  {
   "cell_type": "code",
   "execution_count": 9,
   "id": "52780715",
   "metadata": {},
   "outputs": [
    {
     "data": {
      "text/plain": [
       "FunctionApplicationExpression<count(filter_color(scene(), V(red, dtype=concept_name)))>"
      ]
     },
     "execution_count": 9,
     "metadata": {},
     "output_type": "execute_result"
    }
   ],
   "source": [
    "learn_expression_from_examples(\n",
    "    domain, executor,\n",
    "    input_output=io_examples,\n",
    "    criterion=lambda x, y: x.value == y.value,\n",
    "    candidate_expressions=candidate_expressions\n",
    ")"
   ]
  },
  {
   "cell_type": "code",
   "execution_count": 10,
   "id": "310de0de",
   "metadata": {},
   "outputs": [
    {
     "data": {
      "text/plain": [
       "FunctionApplicationExpression<count(filter_color(scene(), V(red, dtype=concept_name)))>"
      ]
     },
     "execution_count": 10,
     "metadata": {},
     "output_type": "execute_result"
    }
   ],
   "source": [
    "learn_expression_from_examples(\n",
    "    domain, executor,\n",
    "    input_output=io_examples,\n",
    "    criterion=lambda x, y: x.value == y.value,\n",
    "    candidate_expressions=None  # The algorithm will automatically infer the target type.\n",
    ")"
   ]
  }
 ],
 "metadata": {
  "kernelspec": {
   "display_name": "Python 3 (ipykernel)",
   "language": "python",
   "name": "python3"
  },
  "language_info": {
   "codemirror_mode": {
    "name": "ipython",
    "version": 3
   },
   "file_extension": ".py",
   "mimetype": "text/x-python",
   "name": "python",
   "nbconvert_exporter": "python",
   "pygments_lexer": "ipython3",
   "version": "3.9.10"
  }
 },
 "nbformat": 4,
 "nbformat_minor": 5
}
