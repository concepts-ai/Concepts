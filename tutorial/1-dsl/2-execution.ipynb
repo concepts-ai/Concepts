{
 "cells": [
  {
   "cell_type": "markdown",
   "id": "056e2383",
   "metadata": {},
   "source": [
    "# Tutorial 1.2: Executing Programs in a Domain-Specific Language"
   ]
  },
  {
   "cell_type": "code",
   "execution_count": 1,
   "id": "b0d60e97",
   "metadata": {},
   "outputs": [
    {
     "data": {
      "text/plain": [
       "Function<same_size(#0: size, #1: size) -> bool>"
      ]
     },
     "execution_count": 1,
     "metadata": {},
     "output_type": "execute_result"
    }
   ],
   "source": [
    "# From tutorial/1-dsl/1-types-and-functions\n",
    "from concepts.dsl.dsl_types import ValueType, ConstantType, BOOL, FLOAT32, VectorValueType\n",
    "from concepts.dsl.dsl_functions import Function, FunctionTyping\n",
    "from concepts.dsl.function_domain import FunctionDomain\n",
    "\n",
    "t_item = ValueType('item')\n",
    "t_item_set = ValueType('item_set')\n",
    "t_concept_name = ConstantType('concept_name')\n",
    "t_shape = ValueType('shape')\n",
    "t_color = ValueType('color')\n",
    "t_size = VectorValueType(FLOAT32, 3, alias='size')\n",
    "\n",
    "domain = FunctionDomain()\n",
    "domain.define_type(t_item)\n",
    "domain.define_type(t_item_set)\n",
    "domain.define_type(t_concept_name)\n",
    "domain.define_type(t_color)\n",
    "domain.define_type(t_shape)\n",
    "domain.define_type(t_size)\n",
    "domain.define_function(Function('scene', FunctionTyping[t_item_set]()))\n",
    "domain.define_function(Function('filter_color', FunctionTyping[t_item_set](t_item_set, t_concept_name)))\n",
    "domain.define_function(Function('filter_shape', FunctionTyping[t_item_set](t_item_set, t_concept_name)))\n",
    "domain.define_function(Function('unique', FunctionTyping[t_item](t_item_set)))\n",
    "domain.define_function(Function('color_of', FunctionTyping[t_color](t_item)))\n",
    "domain.define_function(Function('shape_of', FunctionTyping[t_shape](t_item)))\n",
    "domain.define_function(Function('size_of', FunctionTyping[t_size](t_item)))\n",
    "domain.define_function(Function('same_color', FunctionTyping[BOOL](t_color, t_color)))\n",
    "domain.define_function(Function('same_shape', FunctionTyping[BOOL](t_shape, t_shape)))\n",
    "domain.define_function(Function('same_size', FunctionTyping[BOOL](t_size, t_size)))"
   ]
  },
  {
   "cell_type": "code",
   "execution_count": 2,
   "id": "b43cf495",
   "metadata": {},
   "outputs": [],
   "source": [
    "from dataclasses import dataclass, field\n",
    "from typing import Tuple, List\n",
    "\n",
    "@dataclass\n",
    "class Item(object):\n",
    "    color: str\n",
    "    shape: str\n",
    "    size: Tuple[float, float, float]\n",
    "\n",
    "        \n",
    "@dataclass\n",
    "class Scene(object):\n",
    "    items: List[Item]"
   ]
  },
  {
   "cell_type": "code",
   "execution_count": 3,
   "id": "2c7d7a0f",
   "metadata": {},
   "outputs": [],
   "source": [
    "from concepts.dsl.executors.function_domain_executor import FunctionDomainExecutor"
   ]
  },
  {
   "cell_type": "code",
   "execution_count": 4,
   "id": "e1c36054",
   "metadata": {},
   "outputs": [],
   "source": [
    "class Executor(FunctionDomainExecutor):\n",
    "    def scene(self):\n",
    "        return self.grounding.items\n",
    "    def filter_color(self, inputs, color_name):\n",
    "        return [o for o in inputs if o.color == color_name]\n",
    "    def filter_shape(self, inputs, shape_name):\n",
    "        return [o for o in inputs if o.shape == shape_name]\n",
    "    def unique(self, inputs):\n",
    "        assert len(inputs) == 1\n",
    "        return inputs[0]\n",
    "    def color_of(self, obj):\n",
    "        return obj.color\n",
    "    def shape_of(self, obj):\n",
    "        return obj.shape\n",
    "    def size_of(self, obj):\n",
    "        return obj.size\n",
    "    def same_color(self, c1, c2):\n",
    "        return c1 == c2\n",
    "    def same_shape(self, s1, s2):\n",
    "        return s1 == s2\n",
    "    def same_size(self, z1, z2):\n",
    "        return all(abs(sz1 - sz2) < 0.1 for sz1, sz2 in zip(z1, z2))"
   ]
  },
  {
   "cell_type": "code",
   "execution_count": 5,
   "id": "8ca05f63",
   "metadata": {},
   "outputs": [],
   "source": [
    "scene = Scene([\n",
    "    Item('red', 'box', (1, 1, 1)),\n",
    "    Item('blue', 'box', (1, 1, 1)),\n",
    "    Item('green', 'box', (2, 2, 2))\n",
    "])"
   ]
  },
  {
   "cell_type": "code",
   "execution_count": 6,
   "id": "ccf20e17",
   "metadata": {},
   "outputs": [
    {
     "name": "stderr",
     "output_type": "stream",
     "text": [
      "\u001b[32m10 11:37:26 \u001b[0mFunction scene automatically registered.\n",
      "\u001b[32m10 11:37:26 \u001b[0mFunction filter_color automatically registered.\n",
      "\u001b[32m10 11:37:26 \u001b[0mFunction filter_shape automatically registered.\n",
      "\u001b[32m10 11:37:26 \u001b[0mFunction unique automatically registered.\n",
      "\u001b[32m10 11:37:26 \u001b[0mFunction color_of automatically registered.\n",
      "\u001b[32m10 11:37:26 \u001b[0mFunction shape_of automatically registered.\n",
      "\u001b[32m10 11:37:26 \u001b[0mFunction size_of automatically registered.\n",
      "\u001b[32m10 11:37:26 \u001b[0mFunction same_color automatically registered.\n",
      "\u001b[32m10 11:37:26 \u001b[0mFunction same_shape automatically registered.\n",
      "\u001b[32m10 11:37:26 \u001b[0mFunction same_size automatically registered.\n"
     ]
    }
   ],
   "source": [
    "executor = Executor(domain)"
   ]
  },
  {
   "cell_type": "code",
   "execution_count": 7,
   "id": "631f88c7",
   "metadata": {},
   "outputs": [
    {
     "name": "stdout",
     "output_type": "stream",
     "text": [
      "V([Item(color='red', shape='box', size=(1, 1, 1)), Item(color='blue', shape='box', size=(1, 1, 1)), Item(color='green', shape='box', size=(2, 2, 2))], dtype=item_set)\n",
      "<class 'concepts.dsl.value.Value'>\n",
      "item_set\n",
      "[Item(color='red', shape='box', size=(1, 1, 1)), Item(color='blue', shape='box', size=(1, 1, 1)), Item(color='green', shape='box', size=(2, 2, 2))]\n"
     ]
    }
   ],
   "source": [
    "result = executor.execute('scene()', scene)\n",
    "print(result)\n",
    "print(type(result))\n",
    "print(result.dtype)\n",
    "print(result.value)"
   ]
  },
  {
   "cell_type": "code",
   "execution_count": 8,
   "id": "7dba5c5c",
   "metadata": {},
   "outputs": [
    {
     "data": {
      "text/plain": [
       "V([Item(color='red', shape='box', size=(1, 1, 1))], dtype=item_set)"
      ]
     },
     "execution_count": 8,
     "metadata": {},
     "output_type": "execute_result"
    }
   ],
   "source": [
    "executor.execute('filter_color(scene(), \"red\")', scene)"
   ]
  },
  {
   "cell_type": "code",
   "execution_count": 9,
   "id": "5ca43832",
   "metadata": {},
   "outputs": [
    {
     "data": {
      "text/plain": [
       "V(True, dtype=bool)"
      ]
     },
     "execution_count": 9,
     "metadata": {},
     "output_type": "execute_result"
    }
   ],
   "source": [
    "executor.execute('''same_shape(\n",
    "    shape_of(unique(filter_color(scene(), \"blue\"))),\n",
    "    shape_of(unique(filter_color(scene(), \"red\")))\n",
    ")''', scene)"
   ]
  },
  {
   "cell_type": "code",
   "execution_count": 10,
   "id": "b09fda98",
   "metadata": {},
   "outputs": [
    {
     "data": {
      "text/plain": [
       "V(False, dtype=bool)"
      ]
     },
     "execution_count": 10,
     "metadata": {},
     "output_type": "execute_result"
    }
   ],
   "source": [
    "executor.execute(domain.f_same_size(\n",
    "    domain.f_size_of(domain.f_unique(domain.f_filter_color(domain.f_scene(), \"blue\"))),\n",
    "    domain.f_size_of(domain.f_unique(domain.f_filter_color(domain.f_scene(), \"green\")))\n",
    "), scene)"
   ]
  },
  {
   "cell_type": "code",
   "execution_count": 11,
   "id": "38831139",
   "metadata": {},
   "outputs": [],
   "source": [
    "same_color_obj = domain.lam(lambda x, y: domain.f_same_color(\n",
    "    domain.f_color_of(domain.f_unique(x)),\n",
    "    domain.f_color_of(domain.f_unique(y))\n",
    "))"
   ]
  },
  {
   "cell_type": "code",
   "execution_count": 12,
   "id": "534a4d19",
   "metadata": {},
   "outputs": [
    {
     "name": "stdout",
     "output_type": "stream",
     "text": [
      "def __lambda__(x: item_set, y: item_set): return same_color(color_of(unique(V::x)), color_of(unique(V::y)))\n"
     ]
    }
   ],
   "source": [
    "print(same_color_obj)"
   ]
  },
  {
   "cell_type": "code",
   "execution_count": 13,
   "id": "5ec7c38d",
   "metadata": {},
   "outputs": [
    {
     "name": "stdout",
     "output_type": "stream",
     "text": [
      "same_color(color_of(unique(V::x)), color_of(unique(V::y)))\n"
     ]
    }
   ],
   "source": [
    "print(same_color_obj.derived_expression)"
   ]
  },
  {
   "cell_type": "code",
   "execution_count": 14,
   "id": "3b678eaf",
   "metadata": {},
   "outputs": [
    {
     "data": {
      "text/plain": [
       "V(False, dtype=bool)"
      ]
     },
     "execution_count": 14,
     "metadata": {},
     "output_type": "execute_result"
    }
   ],
   "source": [
    "executor.execute(same_color_obj(\n",
    "    domain.f_filter_color(domain.f_scene(), \"green\"),\n",
    "    domain.f_filter_color(domain.f_scene(), \"blue\")\n",
    "), scene)"
   ]
  },
  {
   "cell_type": "code",
   "execution_count": 15,
   "id": "1df96d48",
   "metadata": {},
   "outputs": [
    {
     "name": "stdout",
     "output_type": "stream",
     "text": [
      "FunctionApplicationExpression<filter_color(scene(), V(red, dtype=concept_name))>\n"
     ]
    }
   ],
   "source": [
    "expr = executor.parse_expression('filter_color(scene(), \"red\")')\n",
    "print(repr(expr))"
   ]
  },
  {
   "cell_type": "code",
   "execution_count": 16,
   "id": "0300674f",
   "metadata": {},
   "outputs": [
    {
     "name": "stdout",
     "output_type": "stream",
     "text": [
      "Function<filter_color(#0: item_set, #1: concept_name) -> item_set>\n",
      "FunctionApplicationExpression<scene()>\n",
      "ConstantExpression<V(red, dtype=concept_name)>\n"
     ]
    }
   ],
   "source": [
    "print(repr(expr.function))\n",
    "print(repr(expr.arguments[0]))\n",
    "print(repr(expr.arguments[1]))"
   ]
  }
 ],
 "metadata": {
  "kernelspec": {
   "display_name": "Python 3 (ipykernel)",
   "language": "python",
   "name": "python3"
  },
  "language_info": {
   "codemirror_mode": {
    "name": "ipython",
    "version": 3
   },
   "file_extension": ".py",
   "mimetype": "text/x-python",
   "name": "python",
   "nbconvert_exporter": "python",
   "pygments_lexer": "ipython3",
   "version": "3.9.10"
  }
 },
 "nbformat": 4,
 "nbformat_minor": 5
}
