{
 "cells": [
  {
   "cell_type": "markdown",
   "id": "6de03b5a",
   "metadata": {},
   "source": [
    "# Tutorial 1.1: Defining Types and Functions in a Domain-Specific Language"
   ]
  },
  {
   "cell_type": "code",
   "execution_count": 1,
   "id": "0ec8499d",
   "metadata": {},
   "outputs": [],
   "source": [
    "from tabulate import tabulate"
   ]
  },
  {
   "cell_type": "code",
   "execution_count": 2,
   "id": "c707d0b0",
   "metadata": {},
   "outputs": [],
   "source": [
    "from concepts.dsl.dsl_types import ValueType, ConstantType, BOOL, FLOAT32, VectorValueType"
   ]
  },
  {
   "cell_type": "code",
   "execution_count": 3,
   "id": "2d0e59cd",
   "metadata": {},
   "outputs": [
    {
     "name": "stdout",
     "output_type": "stream",
     "text": [
      "type                                              typename                                      alias\n",
      "------------------------------------------------  --------------------------------------------  -------\n",
      "<class 'concepts.dsl.dsl_types.ValueType'>        item\n",
      "<class 'concepts.dsl.dsl_types.ValueType'>        item_set\n",
      "<class 'concepts.dsl.dsl_types.ConstantType'>     concept_name\n",
      "<class 'concepts.dsl.dsl_types.ValueType'>        shape\n",
      "<class 'concepts.dsl.dsl_types.ValueType'>        color\n",
      "<class 'concepts.dsl.dsl_types.VectorValueType'>  vector[float32, dim=3, choices=0, factors=1]  size\n"
     ]
    }
   ],
   "source": [
    "t_item = ValueType('item')\n",
    "t_item_set = ValueType('item_set')\n",
    "t_concept_name = ConstantType('concept_name')\n",
    "t_shape = ValueType('shape')\n",
    "t_color = ValueType('color')\n",
    "t_size = VectorValueType(FLOAT32, 3, alias='size')\n",
    "\n",
    "print(tabulate([\n",
    "    (type(x), x.typename, x.alias)\n",
    "    for x in [t_item, t_item_set, t_concept_name, t_shape, t_color, t_size]\n",
    "], headers=['type', 'typename', 'alias']))"
   ]
  },
  {
   "cell_type": "code",
   "execution_count": 4,
   "id": "2c1558aa",
   "metadata": {},
   "outputs": [],
   "source": [
    "from concepts.dsl.dsl_functions import FunctionType, Function, FunctionTyping"
   ]
  },
  {
   "cell_type": "code",
   "execution_count": 5,
   "id": "418fc5c6",
   "metadata": {},
   "outputs": [
    {
     "name": "stdout",
     "output_type": "stream",
     "text": [
      "FunctionType<(#0: item) -> color>\n",
      "ValueType<item>\n",
      "'#0'\n",
      "(Variable<#0: item>,)\n",
      "{'#0': ValueType<item>}\n",
      "ValueType<color>\n"
     ]
    }
   ],
   "source": [
    "ft_color_of = FunctionTyping[t_color](t_item)\n",
    "\n",
    "print(repr(ft_color_of))\n",
    "print(repr(ft_color_of.argument_types[0]))\n",
    "print(repr(ft_color_of.argument_names[0]))\n",
    "print(ft_color_of.arguments)\n",
    "print(ft_color_of.arguments_dict)\n",
    "print(repr(ft_color_of.return_type))"
   ]
  },
  {
   "cell_type": "code",
   "execution_count": 6,
   "id": "b9939cc7",
   "metadata": {},
   "outputs": [
    {
     "name": "stdout",
     "output_type": "stream",
     "text": [
      "color_of(#0: item) -> color\n",
      "color_of\n",
      "(#0: item) -> color\n"
     ]
    }
   ],
   "source": [
    "f_color_of = Function('color_of', ft_color_of)\n",
    "\n",
    "print(f_color_of)\n",
    "print(f_color_of.name)\n",
    "print(f_color_of.ftype)"
   ]
  },
  {
   "cell_type": "code",
   "execution_count": 7,
   "id": "ea95036f",
   "metadata": {},
   "outputs": [],
   "source": [
    "from concepts.dsl.function_domain import FunctionDomain"
   ]
  },
  {
   "cell_type": "code",
   "execution_count": 8,
   "id": "fbd37e45",
   "metadata": {},
   "outputs": [
    {
     "data": {
      "text/plain": [
       "Function<same_size(#0: size, #1: size) -> bool>"
      ]
     },
     "execution_count": 8,
     "metadata": {},
     "output_type": "execute_result"
    }
   ],
   "source": [
    "domain = FunctionDomain()\n",
    "domain.define_type(t_item)\n",
    "domain.define_type(t_item_set)\n",
    "domain.define_type(t_concept_name)\n",
    "domain.define_type(t_color)\n",
    "domain.define_type(t_shape)\n",
    "domain.define_type(t_size)\n",
    "domain.define_function(Function('scene', FunctionTyping[t_item_set]()))\n",
    "domain.define_function(Function('filter_color', FunctionTyping[t_item_set](t_item_set, t_concept_name)))\n",
    "domain.define_function(Function('filter_shape', FunctionTyping[t_item_set](t_item_set, t_concept_name)))\n",
    "domain.define_function(Function('unique', FunctionTyping[t_item](t_item_set)))\n",
    "domain.define_function(Function('color_of', FunctionTyping[t_color](t_item)))\n",
    "domain.define_function(Function('shape_of', FunctionTyping[t_shape](t_item)))\n",
    "domain.define_function(Function('size_of', FunctionTyping[t_size](t_item)))\n",
    "domain.define_function(Function('same_color', FunctionTyping[BOOL](t_color, t_color)))\n",
    "domain.define_function(Function('same_shape', FunctionTyping[BOOL](t_shape, t_shape)))\n",
    "domain.define_function(Function('same_size', FunctionTyping[BOOL](t_size, t_size)))"
   ]
  },
  {
   "cell_type": "code",
   "execution_count": 9,
   "id": "a9c26e8b",
   "metadata": {},
   "outputs": [
    {
     "name": "stdout",
     "output_type": "stream",
     "text": [
      "TypeSystem: FunctionDomain\n",
      "  Types:\n",
      "    item\n",
      "    item_set\n",
      "    concept_name\n",
      "    color\n",
      "    shape\n",
      "    size\n",
      "  Constants:\n",
      "  Functions:\n",
      "    scene() -> item_set\n",
      "    filter_color(#0: item_set, #1: concept_name) -> item_set\n",
      "    filter_shape(#0: item_set, #1: concept_name) -> item_set\n",
      "    unique(#0: item_set) -> item\n",
      "    color_of(#0: item) -> color\n",
      "    shape_of(#0: item) -> shape\n",
      "    size_of(#0: item) -> size\n",
      "    same_color(#0: color, #1: color) -> bool\n",
      "    same_shape(#0: shape, #1: shape) -> bool\n",
      "    same_size(#0: size, #1: size) -> bool\n"
     ]
    }
   ],
   "source": [
    "domain.print_summary()"
   ]
  }
 ],
 "metadata": {
  "kernelspec": {
   "display_name": "Python 3 (ipykernel)",
   "language": "python",
   "name": "python3"
  },
  "language_info": {
   "codemirror_mode": {
    "name": "ipython",
    "version": 3
   },
   "file_extension": ".py",
   "mimetype": "text/x-python",
   "name": "python",
   "nbconvert_exporter": "python",
   "pygments_lexer": "ipython3",
   "version": "3.9.10"
  }
 },
 "nbformat": 4,
 "nbformat_minor": 5
}
